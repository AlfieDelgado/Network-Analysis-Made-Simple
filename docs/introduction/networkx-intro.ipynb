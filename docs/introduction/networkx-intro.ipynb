{
 "cells": [
  {
   "cell_type": "code",
   "execution_count": null,
   "metadata": {
    "slideshow": {
     "slide_type": "slide"
    }
   },
   "outputs": [],
   "source": [
    "%load_ext autoreload\n",
    "%autoreload 2\n",
    "%matplotlib inline\n",
    "%config InlineBackend.figure_format = 'retina'\n",
    "\n",
    "import networkx as nx\n",
    "from datetime import datetime\n",
    "import matplotlib.pyplot as plt\n",
    "import numpy as np\n",
    "import warnings\n",
    "from nams import load_data as cf\n",
    "\n",
    "warnings.filterwarnings('ignore')\n",
    "\n"
   ]
  },
  {
   "cell_type": "markdown",
   "metadata": {
    "slideshow": {
     "slide_type": "slide"
    }
   },
   "source": [
    "# NetworkX Introduction\n",
    "\n",
    "In this section, we will introduce you to the NetworkX API.\n",
    "This will allow you to create and manipulate graphs in your computer memory,\n",
    "thus giving you a language \n",
    "to more concretely explore graph theory ideas.\n",
    "\n",
    "Throughout the book, we will be using different graph datasets\n",
    "to help us anchor ideas.\n",
    "In this section, we will work with a social network of seventh graders.\n",
    "Here, nodes are individual students,\n",
    "and edges represent their relationships.\n",
    "Edges between individuals show how often\n",
    "the seventh graders indicated other seventh graders as their favourite.\n",
    "\n",
    "The data are taken from the [Konect] graph data repository\n",
    "\n",
    "[Konect]: http://konect.uni-koblenz.de/networks/moreno_seventh"
   ]
  },
  {
   "cell_type": "markdown",
   "metadata": {
    "slideshow": {
     "slide_type": "slide"
    }
   },
   "source": [
    "## Data Model\n",
    "\n",
    "In NetworkX, graph data are stored in a dictionary-like fashion.\n",
    "They are placed under a `Graph` object,\n",
    "canonically instantiated with the variable `G` as follows:\n",
    "\n",
    "```python\n",
    "G = nx.Graph()\n",
    "```\n",
    "\n",
    "Of course, you are free to name the graph anything you want!\n",
    "\n",
    "Nodes are part of the attribute `G.nodes`.\n",
    "There, the node data are housed in a dictionary-like container,\n",
    "where the key is the node ID\n",
    "and the values are a dictionary of attributes. \n",
    "Node data are accessible using syntax that looks like:\n",
    "\n",
    "```python\n",
    "G.nodes[node1]\n",
    "```\n",
    "\n",
    "Edges are part of the attribute `G.edges`,\n",
    "which is also stored in a dictionary-like container.\n",
    "Edge data are accessible using syntax that looks like: \n",
    "\n",
    "```python\n",
    "G.edges[node1, node2]\n",
    "```\n",
    "Because of the dictionary-like implementation of the graph,\n",
    "any hashable object can be a node.\n",
    "This means strings and tuples, but not lists and sets."
   ]
  },
  {
   "cell_type": "markdown",
   "metadata": {
    "slideshow": {
     "slide_type": "slide"
    }
   },
   "source": [
    "## Load Data\n",
    "\n",
    "Let's load some real network data to get a feel for the NetworkX API. This [dataset](http://konect.uni-koblenz.de/networks/moreno_seventh) comes from a study of 7th grade students.\n",
    "\n",
    "> This directed network contains proximity ratings between students\n",
    "> from 29 seventh grade students from a school in Victoria.\n",
    "> Among other questions the students were asked\n",
    "> to nominate their preferred classmates for three different activities.\n",
    "> A node represents a student.\n",
    "> An edge between two nodes shows that\n",
    "> the left student picked the right student as his or her answer.\n",
    "> The edge weights are between 1 and 3 \n",
    "> and show how often the left student chose the right student as his/her favourite.\n",
    "\n",
    "In the original dataset, students were from an all-boys school.\n",
    "However, I have modified the dataset to instead be a mixed-gender school."
   ]
  },
  {
   "cell_type": "code",
   "execution_count": null,
   "metadata": {
    "slideshow": {
     "slide_type": "fragment"
    }
   },
   "outputs": [],
   "source": [
    "G = cf.load_seventh_grader_network()"
   ]
  },
  {
   "cell_type": "markdown",
   "metadata": {
    "slideshow": {
     "slide_type": "slide"
    }
   },
   "source": [
    "## Understanding a graph's basic statistics\n",
    "\n",
    "When you get graph data,\n",
    "one of the first things you'll want to do is to\n",
    "check its basic graph statistics:\n",
    "the number of nodes\n",
    "and the number of edges\n",
    "that are represented in the graph.\n",
    "This is a basic sanity-check on your data\n",
    "that you don't want to skip out on.\n",
    "\n",
    "To do this, you'll first need to know how to query a graph\n",
    "for its node set and edge set.\n",
    "\n",
    "### Querying for node set\n",
    "\n",
    "Let's start first with a query for the nodeset."
   ]
  },
  {
   "cell_type": "code",
   "execution_count": null,
   "metadata": {},
   "outputs": [],
   "source": [
    "len(G.nodes())"
   ]
  },
  {
   "cell_type": "code",
   "execution_count": null,
   "metadata": {
    "slideshow": {
     "slide_type": "fragment"
    }
   },
   "outputs": [],
   "source": [
    "# Who are represented in the network?\n",
    "list(G.nodes())[0:5]"
   ]
  },
  {
   "cell_type": "markdown",
   "metadata": {
    "slideshow": {
     "slide_type": "subslide"
    }
   },
   "source": [
    "### Exercise\n",
    "\n",
    "Can you write a single line of code that returns the number of nodes in the graph? (1 min.)"
   ]
  },
  {
   "cell_type": "code",
   "execution_count": null,
   "metadata": {
    "slideshow": {
     "slide_type": "fragment"
    }
   },
   "outputs": [],
   "source": [
    "len(G.nodes())\n",
    "# len(G)"
   ]
  },
  {
   "cell_type": "markdown",
   "metadata": {
    "slideshow": {
     "slide_type": "subslide"
    }
   },
   "source": [
    "Let's now figure out who is connected to who in the network"
   ]
  },
  {
   "cell_type": "code",
   "execution_count": null,
   "metadata": {
    "slideshow": {
     "slide_type": "fragment"
    }
   },
   "outputs": [],
   "source": [
    "# Who is connected to who in the network?\n",
    "# list(G.edges())[0:5]\n",
    "list(G.edges())[0:5]"
   ]
  },
  {
   "cell_type": "markdown",
   "metadata": {
    "slideshow": {
     "slide_type": "subslide"
    }
   },
   "source": [
    "### Exercise\n",
    "\n",
    "Can you write a single line of code that returns the number of relationships represented? (1 min)"
   ]
  },
  {
   "cell_type": "code",
   "execution_count": null,
   "metadata": {
    "slideshow": {
     "slide_type": "fragment"
    }
   },
   "outputs": [],
   "source": [
    "len(G.edges()) "
   ]
  },
  {
   "cell_type": "markdown",
   "metadata": {
    "slideshow": {
     "slide_type": "slide"
    }
   },
   "source": [
    "## Concept\n",
    "\n",
    "A **network**, more technically known as a **graph**, is comprised of:\n",
    "\n",
    "- a set of nodes\n",
    "- joined by a set of edges\n",
    "\n",
    "They can be represented as two lists:\n",
    "\n",
    "1. A **node list**: a list of 2-tuples where the first element of each tuple is the representation of the node, and the second element is a dictionary of metadata associated with the node.\n",
    "2. An **edge list**: a list of 3-tuples where the first two elements are the nodes that are connected together, and the third element is a dictionary of metadata associated with the edge."
   ]
  },
  {
   "cell_type": "markdown",
   "metadata": {
    "slideshow": {
     "slide_type": "subslide"
    }
   },
   "source": [
    "Since this is a social network of people, there'll be attributes for each individual, such as a student's gender. We can grab that data off from the attributes that are stored with each node."
   ]
  },
  {
   "cell_type": "code",
   "execution_count": null,
   "metadata": {
    "slideshow": {
     "slide_type": "fragment"
    }
   },
   "outputs": [],
   "source": [
    "# Let's get a list of nodes with their attributes.\n",
    "list(G.nodes(data=True))[0:5]\n",
    "# G.nodes(data=True)\n",
    "\n",
    "# NetworkX will return a list of tuples in the form (node_id, attribute_dictionary) "
   ]
  },
  {
   "cell_type": "markdown",
   "metadata": {
    "slideshow": {
     "slide_type": "subslide"
    }
   },
   "source": [
    "### Exercise\n",
    "\n",
    "Can you count how many males and females are represented in the graph? (3 min.)\n",
    "\n",
    "Hint: You may want to use the Counter object from the collections module."
   ]
  },
  {
   "cell_type": "code",
   "execution_count": null,
   "metadata": {
    "slideshow": {
     "slide_type": "fragment"
    }
   },
   "outputs": [],
   "source": [
    "from collections import Counter\n",
    "mf_counts = Counter([d['gender'] \n",
    "                     for n, d in G.nodes(data=True)])\n",
    "\n",
    "def test_answer(mf_counts):\n",
    "    assert mf_counts['female'] == 17\n",
    "    assert mf_counts['male'] == 12\n",
    "    \n",
    "test_answer(mf_counts)"
   ]
  },
  {
   "cell_type": "markdown",
   "metadata": {
    "slideshow": {
     "slide_type": "subslide"
    }
   },
   "source": [
    "Edges can also store attributes in their attribute dictionary."
   ]
  },
  {
   "cell_type": "code",
   "execution_count": null,
   "metadata": {
    "slideshow": {
     "slide_type": "fragment"
    }
   },
   "outputs": [],
   "source": [
    "list(G.edges(data=True))[0:5]"
   ]
  },
  {
   "cell_type": "markdown",
   "metadata": {
    "slideshow": {
     "slide_type": "subslide"
    }
   },
   "source": [
    "In this synthetic social network, the number of times the left student indicated that the right student was their favourite is stored in the \"count\" variable."
   ]
  },
  {
   "cell_type": "markdown",
   "metadata": {
    "slideshow": {
     "slide_type": "subslide"
    }
   },
   "source": [
    "### Exercise\n",
    "\n",
    "Can you figure out the maximum times any student rated another student as their favourite? (3 min.)"
   ]
  },
  {
   "cell_type": "code",
   "execution_count": null,
   "metadata": {
    "slideshow": {
     "slide_type": "fragment"
    }
   },
   "outputs": [],
   "source": [
    "# Answer\n",
    "counts = [d['count'] for n1, n2, d in G.edges(data=True)]\n",
    "maxcount = max(counts)\n",
    "\n",
    "def test_maxcount(maxcount):\n",
    "    assert maxcount == 3\n",
    "    \n",
    "test_maxcount(maxcount)"
   ]
  },
  {
   "cell_type": "markdown",
   "metadata": {
    "slideshow": {
     "slide_type": "subslide"
    }
   },
   "source": [
    "### Exercise\n",
    "\n",
    "We found out that there are two individuals that we left out of the network, individual no. 30 and 31. They are one male (30) and one female (31), and they are a pair that just love hanging out with one another and with individual 7 (`count=3`), in both directions per pair. Add this information to the graph. (5 min.)\n",
    "\n",
    "If you need more help, check out https://networkx.github.io/documentation/stable/tutorial.html"
   ]
  },
  {
   "cell_type": "code",
   "execution_count": null,
   "metadata": {
    "slideshow": {
     "slide_type": "subslide"
    }
   },
   "outputs": [],
   "source": [
    "# Answer\n",
    "G.add_node(30, gender='male')\n",
    "G.add_node(31, gender='female')\n",
    "G.add_edge(30, 31, count=3)\n",
    "G.add_edge(31, 30, count=3)  # reverse is optional in undirected network\n",
    "G.add_edge(30, 7, count=3)   # but this network is directed\n",
    "G.add_edge(7, 30, count=3)\n",
    "G.add_edge(31, 7, count=3)\n",
    "G.add_edge(7, 31, count=3)"
   ]
  },
  {
   "cell_type": "markdown",
   "metadata": {
    "slideshow": {
     "slide_type": "subslide"
    }
   },
   "source": [
    "Verify that you have added in the edges and nodes correctly by running the following cell."
   ]
  },
  {
   "cell_type": "code",
   "execution_count": null,
   "metadata": {
    "slideshow": {
     "slide_type": "fragment"
    }
   },
   "outputs": [],
   "source": [
    "def test_graph_integrity(G):\n",
    "    assert 30 in G.nodes()\n",
    "    assert 31 in G.nodes()\n",
    "    assert G.nodes[30]['gender'] == 'male'\n",
    "    assert G.nodes[31]['gender'] == 'female'\n",
    "    assert G.has_edge(30, 31)\n",
    "    assert G.has_edge(30, 7)\n",
    "    assert G.has_edge(31, 7)\n",
    "    assert G.edges[30, 7]['count'] == 3\n",
    "    assert G.edges[7, 30]['count'] == 3\n",
    "    assert G.edges[31, 7]['count'] == 3\n",
    "    assert G.edges[7, 31]['count'] == 3\n",
    "    assert G.edges[30, 31]['count'] == 3\n",
    "    assert G.edges[31, 30]['count'] == 3\n",
    "    print('All tests passed.')\n",
    "    \n",
    "test_graph_integrity(G)"
   ]
  },
  {
   "cell_type": "markdown",
   "metadata": {
    "slideshow": {
     "slide_type": "slide"
    }
   },
   "source": [
    "### Exercise (break-time)\n",
    "\n",
    "If you would like a challenge during the break, try figuring out which students have \"unrequited\" friendships, that is, they have rated another student as their favourite at least once, but that other student has not rated them as their favourite at least once.\n",
    "\n",
    "Specifically, get a list of edges for which the reverse edge is not present.\n",
    "\n",
    "**Hint:** You may need the class method `G.has_edge(n1, n2)`. This returns whether a graph has an edge between the nodes `n1` and `n2`."
   ]
  },
  {
   "cell_type": "code",
   "execution_count": null,
   "metadata": {
    "slideshow": {
     "slide_type": "subslide"
    }
   },
   "outputs": [],
   "source": [
    "unrequitted_friendships = []\n",
    "for n1, n2 in G.edges():\n",
    "    if not G.has_edge(n2, n1):\n",
    "        unrequitted_friendships.append((n1, n2))\n",
    "assert len(unrequitted_friendships) == 124"
   ]
  },
  {
   "cell_type": "markdown",
   "metadata": {},
   "source": [
    "In a previous session at ODSC East 2018, a few other class participants provided the following solutions."
   ]
  },
  {
   "cell_type": "markdown",
   "metadata": {},
   "source": [
    "This one by [@schwanne](https://github.com/schwanne) is the list comprehension version of the above solution:"
   ]
  },
  {
   "cell_type": "code",
   "execution_count": null,
   "metadata": {},
   "outputs": [],
   "source": [
    "len([(n1, n2) for n1, n2 in G.edges() if not G.has_edge(n2, n1)])"
   ]
  },
  {
   "cell_type": "markdown",
   "metadata": {},
   "source": [
    "This one by [@end0](https://github.com/end0) is a unique one involving sets."
   ]
  },
  {
   "cell_type": "code",
   "execution_count": null,
   "metadata": {},
   "outputs": [],
   "source": [
    "links = ((n1, n2) for n1, n2, d in G.edges(data=True))\n",
    "reverse_links = ((n2, n1) for n1, n2, d in G.edges(data=True))\n",
    "\n",
    "len(list(set(links) - set(reverse_links)))"
   ]
  },
  {
   "cell_type": "markdown",
   "metadata": {
    "slideshow": {
     "slide_type": "slide"
    }
   },
   "source": [
    "## Tests\n",
    "\n",
    "A note about the tests: Testing is good practice when writing code. Well-crafted assertion statements help you program defensivel, by forcing you to explicitly state your assumptions about the code or data.\n",
    "\n",
    "For more references on defensive programming, check out Software Carpentry's website: http://swcarpentry.github.io/python-novice-inflammation/08-defensive/\n",
    "\n",
    "For more information on writing tests for your data, check out these slides from a lightning talk I gave at Boston Python and SciPy 2015: http://j.mp/data-test"
   ]
  },
  {
   "cell_type": "markdown",
   "metadata": {
    "slideshow": {
     "slide_type": "slide"
    }
   },
   "source": [
    "# Coding Patterns\n",
    "\n",
    "These are some recommended coding patterns when doing network analysis using NetworkX, which stem from my roughly two years of experience with the package."
   ]
  },
  {
   "cell_type": "markdown",
   "metadata": {
    "slideshow": {
     "slide_type": "subslide"
    }
   },
   "source": [
    "## Iterating using List Comprehensions\n",
    "I would recommend that you use the following for compactness: \n",
    "\n",
    "    [d['attr'] for n, d in G.nodes(data=True)]\n",
    "\n",
    "And if the node is unimportant, you can do:\n",
    "\n",
    "    [d['attr'] for _, d in G.nodes(data=True)]"
   ]
  },
  {
   "cell_type": "markdown",
   "metadata": {
    "slideshow": {
     "slide_type": "subslide"
    }
   },
   "source": [
    "## Iterating over Edges using List Comprehensions\n",
    "\n",
    "A similar pattern can be used for edges:\n",
    "\n",
    "    [n2 for n1, n2, d in G.edges(data=True)]\n",
    "\n",
    "or\n",
    "\n",
    "    [n2 for _, n2, d in G.edges(data=True)]\n",
    "\n",
    "If the graph you are constructing is a directed graph, with a \"source\" and \"sink\" available, then I would recommend the following pattern:\n",
    "\n",
    "    [(sc, sk) for sc, sk, d in G.edges(data=True)]\n",
    "\n",
    "or \n",
    "\n",
    "    [d['attr'] for sc, sk, d in G.edges(data=True)]"
   ]
  },
  {
   "cell_type": "markdown",
   "metadata": {
    "slideshow": {
     "slide_type": "slide"
    }
   },
   "source": [
    "# Drawing Graphs\n",
    "\n",
    "As illustrated above, we can draw graphs using the `nx.draw()` function. The most popular format for drawing graphs is the **node-link diagram**."
   ]
  },
  {
   "cell_type": "markdown",
   "metadata": {},
   "source": [
    "## Hairballs\n",
    "\n",
    "Nodes are circles and lines are edges. Nodes more tightly connected with one another are clustered together. Large graphs end up looking like hairballs."
   ]
  },
  {
   "cell_type": "code",
   "execution_count": null,
   "metadata": {
    "slideshow": {
     "slide_type": "subslide"
    }
   },
   "outputs": [],
   "source": [
    "nx.draw(G)"
   ]
  },
  {
   "cell_type": "markdown",
   "metadata": {
    "slideshow": {
     "slide_type": "subslide"
    }
   },
   "source": [
    "If the network is small enough to visualize, and the node labels are small enough to fit in a circle, then you can use the `with_labels=True` argument."
   ]
  },
  {
   "cell_type": "code",
   "execution_count": null,
   "metadata": {
    "slideshow": {
     "slide_type": "fragment"
    }
   },
   "outputs": [],
   "source": [
    "nx.draw(G, with_labels=True)"
   ]
  },
  {
   "cell_type": "markdown",
   "metadata": {
    "slideshow": {
     "slide_type": "subslide"
    }
   },
   "source": [
    "However, note that if the number of nodes in the graph gets really large, node-link diagrams can begin to look like massive hairballs. This is undesirable for graph visualization.\n",
    "\n",
    "## Matrix Plot\n",
    "\n",
    "Instead, we can use a **matrix** to represent them. The nodes are on the x- and y- axes, and a filled square represent an edge between the nodes. This is done by using the `MatrixPlot` object from `nxviz`."
   ]
  },
  {
   "cell_type": "code",
   "execution_count": null,
   "metadata": {
    "slideshow": {
     "slide_type": "subslide"
    }
   },
   "outputs": [],
   "source": [
    "from nxviz import MatrixPlot\n",
    "\n",
    "m = MatrixPlot(G)\n",
    "m.draw()\n",
    "plt.show()"
   ]
  },
  {
   "cell_type": "markdown",
   "metadata": {},
   "source": [
    "## Arc Plot\n",
    "\n",
    "The Arc Plot is the basis of the next set of rational network visualizations."
   ]
  },
  {
   "cell_type": "code",
   "execution_count": null,
   "metadata": {},
   "outputs": [],
   "source": [
    "from nxviz import ArcPlot\n",
    "\n",
    "a = ArcPlot(G, node_color='gender', node_grouping='gender')\n",
    "a.draw()"
   ]
  },
  {
   "cell_type": "markdown",
   "metadata": {
    "slideshow": {
     "slide_type": "subslide"
    }
   },
   "source": [
    "## Circos Plot\n",
    "\n",
    "Let's try another visualization, the **Circos plot**. We can order the nodes in the Circos plot according to the node ID, but any other ordering is possible as well. Edges are drawn between two nodes.\n",
    "\n",
    "Credit goes to Justin Zabilansky (MIT) for the implementation, Jon Charest for subsequent improvements, and `nxviz` contributors for further development."
   ]
  },
  {
   "cell_type": "code",
   "execution_count": null,
   "metadata": {
    "slideshow": {
     "slide_type": "subslide"
    }
   },
   "outputs": [],
   "source": [
    "from nxviz import CircosPlot\n",
    "\n",
    "c = CircosPlot(G, node_color='gender', node_grouping='gender')\n",
    "c.draw()\n",
    "plt.savefig('images/seventh.png', dpi=300)"
   ]
  },
  {
   "cell_type": "markdown",
   "metadata": {
    "slideshow": {
     "slide_type": "subslide"
    }
   },
   "source": [
    "This visualization helps us highlight nodes that there are poorly connected, and others that are strongly connected.\n",
    "\n",
    "## Hive Plot\n",
    "\n",
    "Next up, let's try Hive Plots. HivePlots are not yet implemented in `nxviz` just yet, so we're going to be using the old `hiveplot` API for this. When HivePlots have been migrated over to `nxviz`, its API will resemble that of the CircosPlot's. "
   ]
  },
  {
   "cell_type": "code",
   "execution_count": null,
   "metadata": {
    "slideshow": {
     "slide_type": "subslide"
    }
   },
   "outputs": [],
   "source": [
    "from hiveplot import HivePlot\n",
    "\n",
    "nodes = dict()\n",
    "nodes['male'] = [n for n,d in G.nodes(data=True) if d['gender'] == 'male']\n",
    "nodes['female'] = [n for n,d in G.nodes(data=True) if d['gender'] == 'female']\n",
    "\n",
    "edges = dict()\n",
    "edges['group1'] = G.edges(data=True)\n",
    "\n",
    "nodes_cmap = dict()\n",
    "nodes_cmap['male'] = 'blue'\n",
    "nodes_cmap['female'] = 'red'\n",
    "\n",
    "edges_cmap = dict()\n",
    "edges_cmap['group1'] = 'black'"
   ]
  },
  {
   "cell_type": "code",
   "execution_count": null,
   "metadata": {
    "slideshow": {
     "slide_type": "subslide"
    }
   },
   "outputs": [],
   "source": [
    "h = HivePlot(nodes, edges, nodes_cmap, edges_cmap)\n",
    "h.draw()"
   ]
  },
  {
   "cell_type": "markdown",
   "metadata": {
    "slideshow": {
     "slide_type": "fragment"
    }
   },
   "source": [
    "Hive plots allow us to divide our nodes into sub-groups, and visualize the within- and between-group connectivity."
   ]
  },
  {
   "cell_type": "code",
   "execution_count": null,
   "metadata": {
    "slideshow": {
     "slide_type": "skip"
    }
   },
   "outputs": [],
   "source": []
  }
 ],
 "metadata": {
  "anaconda-cloud": {},
  "celltoolbar": "Slideshow",
  "kernelspec": {
   "display_name": "nams",
   "language": "python",
   "name": "nams"
  },
  "language_info": {
   "codemirror_mode": {
    "name": "ipython",
    "version": 3
   },
   "file_extension": ".py",
   "mimetype": "text/x-python",
   "name": "python",
   "nbconvert_exporter": "python",
   "pygments_lexer": "ipython3",
   "version": "3.6.10"
  },
  "toc": {
   "colors": {
    "hover_highlight": "#DAA520",
    "navigate_num": "#000000",
    "navigate_text": "#333333",
    "running_highlight": "#FF0000",
    "selected_highlight": "#FFD700",
    "sidebar_border": "#EEEEEE",
    "wrapper_background": "#FFFFFF"
   },
   "moveMenuLeft": true,
   "nav_menu": {
    "height": "297px",
    "width": "252px"
   },
   "navigate_menu": true,
   "number_sections": true,
   "sideBar": true,
   "threshold": 4,
   "toc_cell": false,
   "toc_position": {
    "height": "530px",
    "left": "0px",
    "right": "1068px",
    "top": "33px",
    "width": "212px"
   },
   "toc_section_display": "block",
   "toc_window_display": true,
   "widenNotebook": false
  },
  "varInspector": {
   "cols": {
    "lenName": 16,
    "lenType": 16,
    "lenVar": 40
   },
   "kernels_config": {
    "python": {
     "delete_cmd_postfix": "",
     "delete_cmd_prefix": "del ",
     "library": "var_list.py",
     "varRefreshCmd": "print(var_dic_list())"
    },
    "r": {
     "delete_cmd_postfix": ") ",
     "delete_cmd_prefix": "rm(",
     "library": "var_list.r",
     "varRefreshCmd": "cat(var_dic_list()) "
    }
   },
   "types_to_exclude": [
    "module",
    "function",
    "builtin_function_or_method",
    "instance",
    "_Feature"
   ],
   "window_display": false
  }
 },
 "nbformat": 4,
 "nbformat_minor": 4
}
