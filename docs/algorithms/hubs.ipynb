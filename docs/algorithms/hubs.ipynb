{
 "cells": [
  {
   "cell_type": "code",
   "execution_count": null,
   "metadata": {},
   "outputs": [],
   "source": [
    "%load_ext autoreload\n",
    "%autoreload 2\n",
    "%matplotlib inline\n",
    "%config InlineBackend.figure_format = 'retina'"
   ]
  },
  {
   "cell_type": "markdown",
   "metadata": {},
   "source": [
    "# Finding Important Nodes\n",
    "\n",
    "Because of the relational structure in a graph,\n",
    "we can begin to think about \"importance\" of a node\n",
    "that is induced because of its relationships\n",
    "to the rest of the nodes in the graph.\n",
    "\n",
    "## An example: contact tracing\n",
    "\n",
    "At the time of writing (April 2020),\n",
    "finding important nodes in a graph has actually taken on a measure of importance\n",
    "that we might not have appreciated before.\n",
    "In an infectious disease contact network,\n",
    "where individuals are nodes and\n",
    "contact between individuals of some kind are the edges,\n",
    "an \"important\" node in this contact network\n",
    "would be an individual who was infected\n",
    "who also was in contact with many people\n",
    "during the time that they were infected.\n",
    "\n",
    "## Finding "
   ]
  },
  {
   "cell_type": "code",
   "execution_count": null,
   "metadata": {},
   "outputs": [],
   "source": []
  }
 ],
 "metadata": {
  "kernelspec": {
   "display_name": "nams",
   "language": "python",
   "name": "nams"
  },
  "language_info": {
   "codemirror_mode": {
    "name": "ipython",
    "version": 3
   },
   "file_extension": ".py",
   "mimetype": "text/x-python",
   "name": "python",
   "nbconvert_exporter": "python",
   "pygments_lexer": "ipython3",
   "version": "3.7.7"
  }
 },
 "nbformat": 4,
 "nbformat_minor": 4
}
