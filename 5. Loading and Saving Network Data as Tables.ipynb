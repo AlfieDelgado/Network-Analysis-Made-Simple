{
 "metadata": {
  "name": ""
 },
 "nbformat": 3,
 "nbformat_minor": 0,
 "worksheets": [
  {
   "cells": [
    {
     "cell_type": "code",
     "collapsed": false,
     "input": [
      "import pandas as pd\n",
      "import networkx as nx\n",
      "import os\n",
      "import numpy as np"
     ],
     "language": "python",
     "metadata": {},
     "outputs": [],
     "prompt_number": null
    },
    {
     "cell_type": "markdown",
     "metadata": {},
     "source": [
      "# Tables to Networks, Networks to Tables\n",
      "\n",
      "Networks can be represented in a tabular form in two ways: As an adjacency list with edge attributes stored as columnar values, and as a node list with node attributes stored as columnar values.\n",
      "\n",
      "Storing the network data as a single massive adjacency table, with node attributes repeated on each row, can get unwieldy, especially if the graph is large, or grows to be so. One way to get around this is to store two files: one with node data and node attributes, and one with edge data and edge attributes. \n",
      "\n",
      "The Divvy bike sharing dataset is one such example of a network data set that has been stored as such."
     ]
    },
    {
     "cell_type": "markdown",
     "metadata": {},
     "source": [
      "# Loading Node Lists and Adjacency Lists\n",
      "\n",
      "Let's use the Divvy bike sharing data set as a starting point. The Divvy data set is comprised of the following data:\n",
      "\n",
      "- Stations and metadata (like a node list with attributes saved)\n",
      "- Trips and metadata (like an edge list with attributes saved)\n",
      "\n",
      "The `README.txt` file in the Divvy directory should help orient you around the data."
     ]
    },
    {
     "cell_type": "code",
     "collapsed": false,
     "input": [
      "os.chdir('datasets/divvy_2013')"
     ],
     "language": "python",
     "metadata": {},
     "outputs": [],
     "prompt_number": null
    },
    {
     "cell_type": "code",
     "collapsed": false,
     "input": [
      "stations = pd.read_csv('Divvy_Stations_2013.csv', parse_dates=['online date'], index_col='id')\n",
      "stations"
     ],
     "language": "python",
     "metadata": {},
     "outputs": [],
     "prompt_number": null
    },
    {
     "cell_type": "code",
     "collapsed": false,
     "input": [
      "trips = pd.read_csv('Divvy_Trips_2013.csv', parse_dates=['starttime', 'stoptime'], index_col=['trip_id'])\n",
      "trips = trips.sort()"
     ],
     "language": "python",
     "metadata": {},
     "outputs": [],
     "prompt_number": null
    },
    {
     "cell_type": "markdown",
     "metadata": {},
     "source": [
      "At this point, we have our `stations` and `trips` data loaded into memory. \n",
      "\n",
      "How we construct the graph depends on the kind of questions we want to answer, which makes the definition of the \"unit of consideration\" (or the entities for which we are trying to model their relationships) is extremely important. \n",
      "\n",
      "Let's try to answer the question: \"What are the most popular trip paths?\" In this case, the bike station is a reasonable \"unit of consideration\", so we will use the bike stations as the nodes. \n",
      "\n",
      "To start, let's initialize an directed graph `G`."
     ]
    },
    {
     "cell_type": "code",
     "collapsed": false,
     "input": [
      "G = nx.DiGraph()"
     ],
     "language": "python",
     "metadata": {},
     "outputs": [],
     "prompt_number": null
    },
    {
     "cell_type": "markdown",
     "metadata": {},
     "source": [
      "Then, let's iterate over the `stations` DataFrame, and add in the node attributes."
     ]
    },
    {
     "cell_type": "code",
     "collapsed": false,
     "input": [
      "for r, d in stations.iterrows(): # call the pandas DataFrame row-by-row iterator\n",
      "    G.add_node(r, attr_dict=d.to_dict())"
     ],
     "language": "python",
     "metadata": {},
     "outputs": [],
     "prompt_number": null
    },
    {
     "cell_type": "markdown",
     "metadata": {},
     "source": [
      "In order to answer the question of \"which stations are important\", we need to specify things a bit more. Perhaps a measure such as **betweenness centrality** or **degree centrality** may be appropriate here.\n",
      "\n",
      "The naive way would be to iterate over all the rows. Go ahead and try it at your own risk - it may take a long time :-). Alternatively, I would suggest doing a `pandas` `groupby`."
     ]
    },
    {
     "cell_type": "code",
     "collapsed": false,
     "input": [
      "# # Run the following code at your own risk :)\n",
      "# for r, d in trips.iterrows():\n",
      "#     start = d['from_station_id']\n",
      "#     end = d['to_station_id']\n",
      "#     if (start, end) not in G.edges():\n",
      "#         G.add_edge(start, end, count=1)\n",
      "#     else:\n",
      "#         G.edge[start][end]['count'] += 1"
     ],
     "language": "python",
     "metadata": {},
     "outputs": [],
     "prompt_number": null
    },
    {
     "cell_type": "code",
     "collapsed": false,
     "input": [
      "for (start, stop), d in trips.groupby(['from_station_id', 'to_station_id']):\n",
      "    G.add_edge(start, stop, count=len(d))"
     ],
     "language": "python",
     "metadata": {},
     "outputs": [],
     "prompt_number": null
    },
    {
     "cell_type": "markdown",
     "metadata": {},
     "source": [
      "First off, let's figure out how dense the graph is. The graph's density is the number of edges divided by the total number of nodes.\n",
      "\n",
      "NetworkX provides an implementation of graph density, but it assumes self-loops are not allowed. (Self-loops are edges from one node to itself.) Let's see what the graph density is "
     ]
    },
    {
     "cell_type": "code",
     "collapsed": false,
     "input": [
      "G.edges(data=True)"
     ],
     "language": "python",
     "metadata": {},
     "outputs": [],
     "prompt_number": null
    },
    {
     "cell_type": "markdown",
     "metadata": {},
     "source": [
      "Applying what we learned earlier on, let's use the **betweenness centrality** metric."
     ]
    },
    {
     "cell_type": "code",
     "collapsed": false,
     "input": [
      "centralities = nx.betweenness_centrality(G, weight='count')"
     ],
     "language": "python",
     "metadata": {},
     "outputs": [],
     "prompt_number": null
    },
    {
     "cell_type": "code",
     "collapsed": false,
     "input": [
      "sorted(centralities.items(), key=lambda x:x[1], reverse=True)"
     ],
     "language": "python",
     "metadata": {},
     "outputs": [],
     "prompt_number": null
    },
    {
     "cell_type": "code",
     "collapsed": false,
     "input": [
      "import matplotlib.pyplot as plt\n",
      "%matplotlib inline\n",
      "plt.bar(centralities.keys(), centralities.values())"
     ],
     "language": "python",
     "metadata": {},
     "outputs": [],
     "prompt_number": null
    },
    {
     "cell_type": "markdown",
     "metadata": {},
     "source": [
      "Applying what we learned earlier, let's use the **\"degree centrality\"** metric as well."
     ]
    },
    {
     "cell_type": "code",
     "collapsed": false,
     "input": [
      "decentrality = nx.degree_centrality(G)\n",
      "plt.bar(decentrality.keys(), decentrality.values())"
     ],
     "language": "python",
     "metadata": {},
     "outputs": [],
     "prompt_number": null
    },
    {
     "cell_type": "markdown",
     "metadata": {},
     "source": [
      "The code above should have demonstrated to you the basic logic behind storing graph data in a human-readable format. For the richest data format, you can store a node list with attributes, and an edge list (a.k.a. adjacency list) with attributes."
     ]
    },
    {
     "cell_type": "markdown",
     "metadata": {},
     "source": [
      "# Saving NetworkX Graph Files\n",
      "\n",
      "NetworkX's API offers many formats for storing graphs to disk. If you intend to work exclusively with NetworkX, then pickling the file to disk is probably the easiest way.\n",
      "\n",
      "To write to disk: \n",
      "\n",
      "    nx.write_gpickle(G, handle)\n",
      "\n",
      "To load from disk:\n",
      "    \n",
      "    G = nx.read_gpickle(handle)\n",
      "    \n",
      "Let's write the graph to disk so that we can analyze it further in other notebooks."
     ]
    },
    {
     "cell_type": "code",
     "collapsed": false,
     "input": [
      "nx.write_gpickle(G, 'divvy_graph.pkl')"
     ],
     "language": "python",
     "metadata": {},
     "outputs": [],
     "prompt_number": null
    },
    {
     "cell_type": "code",
     "collapsed": false,
     "input": [],
     "language": "python",
     "metadata": {},
     "outputs": [],
     "prompt_number": null
    }
   ],
   "metadata": {}
  }
 ]
}
