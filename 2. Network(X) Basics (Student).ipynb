{
 "metadata": {
  "name": "",
  "signature": "sha256:718ada9cf4fde90608ebc5338fbe85d46bbff6a590f028e95ad6bff99da65f5b"
 },
 "nbformat": 3,
 "nbformat_minor": 0,
 "worksheets": [
  {
   "cells": [
    {
     "cell_type": "code",
     "collapsed": false,
     "input": [
      "import networkx as nx\n",
      "from datetime import datetime\n",
      "import matplotlib.pyplot as plt\n",
      "import numpy as np\n",
      "\n",
      "%matplotlib inline"
     ],
     "language": "python",
     "metadata": {},
     "outputs": []
    },
    {
     "cell_type": "markdown",
     "metadata": {},
     "source": [
      "# Nodes and Edges: How do we represent relationships between individuals using NetworkX?\n",
      "\n",
      "As mentioned earlier, networks, also known as graphs, are comprised of individual entities and their representatives. The technical term for these are nodes and edges, and when we draw them we typically use circles (nodes) and lines (edges). \n",
      "\n",
      "In this notebook, we will work with a synthetic (i.e. simulated) social network, in which nodes are individual people, and edges represent their relationships. If two nodes have an edge between them, then those two individauls know one another. \n",
      "\n",
      "## Data Representation\n",
      "\n",
      "In the `networkx` implementation, graph objects store their data in dictionaries. \n",
      "\n",
      "Nodes are part of the attribute `Graph.node`, which is a dictionary where the key is the node ID and the values are a dictionary of attributes. \n",
      "\n",
      "Edges are part of the attribute `Graph.edge`, which is a nested dictionary. Data are accessed as such: `G.edge[node1][node2]['attr_name']`.\n",
      "\n",
      "Because of the dictionary implementation of the graph, any hashable object can be a node. This means strings and tuples, but not lists and sets."
     ]
    },
    {
     "cell_type": "markdown",
     "metadata": {},
     "source": [
      "# Synthetic Social Network\n",
      "\n",
      "With this synthetic social network, we will attempt to answer the following basic questions using the NetworkX API:\n",
      "\n",
      "1. How many people are present in the network?\n",
      "2. What is the distribution of attributes of the people in this network?\n",
      "2. How many relationships are represented in the network?\n",
      "3. What is the distribution of the number of friends that each person has?\n",
      "\n",
      "First off, let's load up the synthetic social network. This will show you through some of the basics of NetworkX.\n",
      "\n",
      "For those who are interested, I simply created an Erd\u00f5s-R\u00e9nyi graph with `n=30` and `p=0.1`. I used randomized functions that I wrote to generate attributes and append them to each node and edge. I then pickled the graph to disk."
     ]
    },
    {
     "cell_type": "code",
     "collapsed": false,
     "input": [
      "G = nx.read_gpickle('Synthetic Social Network.pkl') #If you are Python 2.7, read in Synthetic Social Network 27.pkl\n",
      "nx.draw(G)"
     ],
     "language": "python",
     "metadata": {},
     "outputs": []
    },
    {
     "cell_type": "markdown",
     "metadata": {},
     "source": [
      "# Basic Network Statistics\n",
      "Let's first understand how many people and relationships are represented in the network."
     ]
    },
    {
     "cell_type": "code",
     "collapsed": false,
     "input": [
      "# Who are represented in the network?\n",
      "G.nodes()"
     ],
     "language": "python",
     "metadata": {},
     "outputs": []
    },
    {
     "cell_type": "markdown",
     "metadata": {},
     "source": [
      "Exercise: Can you write a single line of code that returns the number of individuals represented?"
     ]
    },
    {
     "cell_type": "code",
     "collapsed": false,
     "input": [],
     "language": "python",
     "metadata": {},
     "outputs": []
    },
    {
     "cell_type": "code",
     "collapsed": false,
     "input": [
      "# Who is connected to who in the network?\n",
      "G.edges()"
     ],
     "language": "python",
     "metadata": {},
     "outputs": []
    },
    {
     "cell_type": "markdown",
     "metadata": {},
     "source": [
      "### Exercise\n",
      "\n",
      "Can you write a single line of code that returns the number of relationships represented?"
     ]
    },
    {
     "cell_type": "code",
     "collapsed": false,
     "input": [
      "len(G.edges())"
     ],
     "language": "python",
     "metadata": {},
     "outputs": []
    },
    {
     "cell_type": "markdown",
     "metadata": {},
     "source": [
      "Since this is a social network of people, there'll be attributes for each individual, such as age, and sex. We can grab that data off from the attributes that are stored with each node."
     ]
    },
    {
     "cell_type": "code",
     "collapsed": false,
     "input": [
      "# Let's get a list of nodes with their attributes.\n",
      "G.nodes(data=True)\n",
      "\n",
      "# NetworkX will return a list of tuples in the form (node_id, attribute_dictionary) "
     ],
     "language": "python",
     "metadata": {},
     "outputs": []
    },
    {
     "cell_type": "markdown",
     "metadata": {},
     "source": [
      "### Exercise\n",
      "\n",
      "Can you count how many males and females are represented in the graph?\n",
      "\n",
      "Hint: You may want to use the Counter object from the collections module."
     ]
    },
    {
     "cell_type": "code",
     "collapsed": false,
     "input": [
      "from collections import Counter\n",
      "Counter([d['sex'] for n, d in G.nodes(data=True)])"
     ],
     "language": "python",
     "metadata": {},
     "outputs": []
    },
    {
     "cell_type": "markdown",
     "metadata": {},
     "source": [
      "Edges can also store attributes in their attribute dictionary."
     ]
    },
    {
     "cell_type": "code",
     "collapsed": false,
     "input": [
      "G.edges(data=True)"
     ],
     "language": "python",
     "metadata": {},
     "outputs": []
    },
    {
     "cell_type": "markdown",
     "metadata": {},
     "source": [
      "In this synthetic social network, I have stored the date as a datetime object. Datetime objects have attributes, namely `.year`, `.month`, `.day`."
     ]
    },
    {
     "cell_type": "markdown",
     "metadata": {},
     "source": [
      "### Exercise\n",
      "\n",
      "Can you figure out the range of dates during which these relationships were forged?"
     ]
    },
    {
     "cell_type": "code",
     "collapsed": false,
     "input": [],
     "language": "python",
     "metadata": {},
     "outputs": []
    },
    {
     "cell_type": "markdown",
     "metadata": {},
     "source": [
      "### Exercise\n",
      "\n",
      "We found out that there are two individuals that we left out of the network, individual no. 31 and 32. They are one male (31) and one female (32), their ages are 22 and 24 respectively, they knew each other on 2010-01-09, and together, they both known individual 7, on 2009-12-11. Use the functions `G.add_node()` and `G.add_edge()` to introduce this data into the network.\n",
      "\n",
      "If you need more help, check out https://networkx.github.io/documentation/latest/tutorial/tutorial.html"
     ]
    },
    {
     "cell_type": "code",
     "collapsed": false,
     "input": [],
     "language": "python",
     "metadata": {},
     "outputs": []
    },
    {
     "cell_type": "markdown",
     "metadata": {},
     "source": [
      "### Live Exercise\n",
      "\n",
      "While we're on the matter of graph construction, let's take a look at our tutorial class. On your sheet of paper, you should have a list of names - these are people for which you knew their name prior to coming to class. \n",
      "\n",
      "As we iterate over the class, I would like you to holler out your name, your nationality, and in a very slow fashion, the names of the people who you knew in the class."
     ]
    },
    {
     "cell_type": "code",
     "collapsed": false,
     "input": [
      "## You may choose to join me in this endeavor together.\n",
      "\n",
      "ptG = nx.DiGraph() #ptG stands for PyCon Tutorial Graph.\n",
      "\n",
      "# Add in nodes and edges\n",
      "ptG.add_node('', nationality='') # (my own TextExpander shortcut is ;addnode)\n",
      "ptG.add_edge('', '') # (my own TextExpander shortcut is ;addedge)\n",
      "\n",
      "# We are now going to draw the network using a hive plot, grouping the nodes by the top two nationality groups, and 'others'\n",
      "# for the third group.\n",
      "\n",
      "nodes = dict()\n",
      "nodes['group1'] = [] #list comprehension here\n",
      "nodes['group2'] = [] #list comprehension here\n",
      "nodes['group3'] = [] #list comprehension here\n",
      "\n",
      "edges = dict()\n",
      "edges['group1'] = [] #list comprehension here\n",
      "\n",
      "nodes_cmap = dict()\n",
      "nodes_cmap['group1'] = 'blue'\n",
      "nodes_cmap['group2'] = 'green'\n",
      "nodes_cmap['group3'] = 'black'\n",
      "\n",
      "edges_cmap = dict()\n",
      "edges_['group1'] = 'black'\n",
      "\n",
      "from hiveplot import HivePlot\n",
      "h = HivePlot(nodes, edges, nodes_cmap, edges_cmap)\n",
      "# h.set_minor_angle(np.pi / 32) #optional\n",
      "h.draw()"
     ],
     "language": "python",
     "metadata": {},
     "outputs": []
    },
    {
     "cell_type": "markdown",
     "metadata": {},
     "source": [
      "# Coding Patterns\n",
      "\n",
      "These are some recommended coding patterns when doing network analysis using NetworkX, which stem from my roughly two years of experience with the package."
     ]
    },
    {
     "cell_type": "markdown",
     "metadata": {},
     "source": [
      "## Iterating using List Comprehensions\n",
      "I would recommend that you use the following for compactness: \n",
      "\n",
      "    [d['attr'] for n, d in G.nodes(data=True)]\n",
      "\n",
      "And if the node is unimportant, you can do:\n",
      "\n",
      "    [d['attr'] for _, d in G.nodes(data=True)]"
     ]
    },
    {
     "cell_type": "markdown",
     "metadata": {},
     "source": [
      "## Iterating over Edges using List Comprehensions\n",
      "\n",
      "A similar pattern can be used for edges:\n",
      "\n",
      "    [n2 for n1, n2, d in G.edges(data=True)]\n",
      "\n",
      "or\n",
      "\n",
      "    [n2 for _, n2, d in G.edges(data=True)]\n",
      "\n",
      "If the graph you are constructing is a directed graph, with a \"source\" and \"sink\" available, then I would recommend the following pattern:\n",
      "\n",
      "    [(sc, sk) for sc, sk, d in G.edges(data=True)]\n",
      "\n",
      "or \n",
      "\n",
      "    [d['attr'] for sc, sk, d in G.edges(data=True)]"
     ]
    },
    {
     "cell_type": "markdown",
     "metadata": {},
     "source": [
      "# Drawing Graphs\n",
      "\n",
      "As illustrated above, we can draw graphs using the `nx.draw()` function. The most popular format for drawing graphs is the **node-link diagram**."
     ]
    },
    {
     "cell_type": "code",
     "collapsed": false,
     "input": [
      "nx.draw(G)"
     ],
     "language": "python",
     "metadata": {},
     "outputs": []
    },
    {
     "cell_type": "markdown",
     "metadata": {},
     "source": [
      "If the network is small enough to visualize, and the node labels are small enough to fit in a circle, then you can use the `with_labels=True` argument."
     ]
    },
    {
     "cell_type": "code",
     "collapsed": false,
     "input": [
      "nx.draw(G, with_labels=True)"
     ],
     "language": "python",
     "metadata": {},
     "outputs": []
    },
    {
     "cell_type": "markdown",
     "metadata": {},
     "source": [
      "However, note that if the number of nodes in the graph gets really large, node-link diagrams can begin to look like massive hairballs. This is undesirable for graph visualization.\n",
      "\n",
      "Instead, we can use a matrix to represent them. The nodes are on the x- and y- axes, and a filled square represent an edge between the nodes. This is done by using the `nx.to_numpy_matrix(G)` function.\n",
      "\n",
      "We then use `matplotlib`'s `pcolor(numpy_array)` function to plot. Because `pcolor` cannot take in numpy matrices, we will cast the matrix as an array of arrays, and then get `pcolor` to plot it."
     ]
    },
    {
     "cell_type": "code",
     "collapsed": false,
     "input": [
      "matrix = nx.to_numpy_matrix(G)\n",
      "\n",
      "plt.pcolor(np.array(matrix))\n",
      "plt.axes().set_aspect('equal') # set aspect ratio equal to get a square visualization\n",
      "plt.xlim(min(G.nodes()), max(G.nodes())) # set x and y limits to the number of nodes present.\n",
      "plt.ylim(min(G.nodes()), max(G.nodes()))\n",
      "plt.title('Adjacency Matrix')\n",
      "plt.show()"
     ],
     "language": "python",
     "metadata": {},
     "outputs": []
    },
    {
     "cell_type": "markdown",
     "metadata": {},
     "source": [
      "Let's try another visualization, the Circos plot. We can order the nodes in the Circos plot according to the node ID, but any other ordering is possible as well. Edges are drawn between two nodes.\n",
      "\n",
      "Credit goes to Justin Zabilansky (MIT) for the implementation."
     ]
    },
    {
     "cell_type": "code",
     "collapsed": false,
     "input": [
      "from circos import CircosPlot\n",
      "\n",
      "fig = plt.figure(figsize=(6,6))\n",
      "ax = fig.add_subplot(111)\n",
      "\n",
      "nodes = sorted(G.nodes())\n",
      "edges = G.edges()\n",
      "\n",
      "c = CircosPlot(nodes, edges, radius=10, ax=ax)\n",
      "c.draw()"
     ],
     "language": "python",
     "metadata": {},
     "outputs": []
    },
    {
     "cell_type": "markdown",
     "metadata": {},
     "source": [
      "It's pretty obvious in this visualization that there are nodes, such as node 5 and 18, that are not connected to any other node via an edge. There are other nodes, like node number 19, which is highly connected to other nodes."
     ]
    },
    {
     "cell_type": "code",
     "collapsed": false,
     "input": [],
     "language": "python",
     "metadata": {},
     "outputs": []
    }
   ],
   "metadata": {}
  }
 ]
}