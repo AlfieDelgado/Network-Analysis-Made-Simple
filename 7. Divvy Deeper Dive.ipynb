{
 "metadata": {
  "name": ""
 },
 "nbformat": 3,
 "nbformat_minor": 0,
 "worksheets": [
  {
   "cells": [
    {
     "cell_type": "code",
     "collapsed": false,
     "input": [
      "from circos import CircosPlot\n",
      "\n",
      "import networkx as nx\n",
      "import pandas as pd\n",
      "\n",
      "%matplotlib inline"
     ],
     "language": "python",
     "metadata": {},
     "outputs": [],
     "prompt_number": null
    },
    {
     "cell_type": "markdown",
     "metadata": {},
     "source": [
      "# Exploration\n",
      "\n",
      "Let's see if you can try answering some of the following questions."
     ]
    },
    {
     "cell_type": "markdown",
     "metadata": {},
     "source": [
      "Which stations have the longest trip durations between them? (Level: Easy)"
     ]
    },
    {
     "cell_type": "code",
     "collapsed": false,
     "input": [
      "# Import the graph from notebook 5, but delete all of the edges.\n",
      "G = nx.read_gpickle('datasets/divvy_2013/divvy_graph.pkl')\n",
      "# G.remove_edges_from(G.edges())\n",
      "\n",
      "# Open the CSV file.\n",
      "df = pd.read_csv('datasets/divvy_2013/Divvy_Trips_2013.csv', parse_dates=['starttime', 'stoptime'], index_col=['trip_id'], low_memory=False)\n",
      "df"
     ],
     "language": "python",
     "metadata": {},
     "outputs": [],
     "prompt_number": null
    },
    {
     "cell_type": "markdown",
     "metadata": {},
     "source": [
      "Can you draw a circos panel that visualizes the connectivity of each node as a destination in the network?\n",
      "\n",
      "Hint: You will need to go deeper into `matplotlib`'s API to do this. I have provided some skeleton code below to get started.\n",
      "\n",
      "Hint: You might want to start with a subset of the nodes, say ~4 of them."
     ]
    },
    {
     "cell_type": "code",
     "collapsed": false,
     "input": [
      "import matplotlib.pyplot as plt\n",
      "\n",
      "fig = plt.figure(figsize=(12,12))\n",
      "\n",
      "import math\n",
      "\n",
      "n_rows = math.ceil(math.sqrt(len(G.nodes()[0:4])))\n",
      "n_cols = n_rows\n",
      "\n",
      "for i, n in enumerate(G.nodes()[0:4]):\n",
      "    ax = fig.add_subplot(n_rows, n_cols, i)\n",
      "    \n",
      "    nodes = G.nodes()\n",
      "    edges = [(u,v) for u,v in G.edges() if v == n]\n",
      "\n",
      "    c = CircosPlot(nodes, edges, 10, ax=ax, fig=fig)\n",
      "    c.draw()\n",
      "    \n",
      "    ax.annotate('{0}'.format(n), xy=(0,1), xycoords='axes fraction', ha='left', va='top')"
     ],
     "language": "python",
     "metadata": {},
     "outputs": [],
     "prompt_number": null
    },
    {
     "cell_type": "code",
     "collapsed": false,
     "input": [],
     "language": "python",
     "metadata": {},
     "outputs": []
    }
   ],
   "metadata": {}
  }
 ]
}
