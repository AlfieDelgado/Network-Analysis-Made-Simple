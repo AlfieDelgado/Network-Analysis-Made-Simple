{
 "cells": [
  {
   "cell_type": "markdown",
   "metadata": {
    "slideshow": {
     "slide_type": "slide"
    }
   },
   "source": [
    "We made a ton of really nice figures today, and I'd like to let you take home a personalized version as my way of saying thanks for attending. Please run the code cells below to generate your personalized ordering of the Circos plots we made."
   ]
  },
  {
   "cell_type": "code",
   "execution_count": null,
   "metadata": {
    "slideshow": {
     "slide_type": "slide"
    }
   },
   "outputs": [],
   "source": [
    "import hashlib\n",
    "import matplotlib.image as mpimg\n",
    "import matplotlib.pyplot as plt\n",
    "import numpy as np\n",
    "\n",
    "%matplotlib inline"
   ]
  },
  {
   "cell_type": "code",
   "execution_count": null,
   "metadata": {
    "slideshow": {
     "slide_type": "slide"
    }
   },
   "outputs": [],
   "source": [
    "def make_image(name):\n",
    "    \n",
    "    integer = int(hashlib.sha1(bytes(name, 'utf-8')).hexdigest(), 16)\n",
    "    digits = [int(i) for i in list(str(integer))]\n",
    "\n",
    "    # Set the order of images.\n",
    "    order = []\n",
    "    for d in digits:\n",
    "        if d not in order:\n",
    "            order.append(d)\n",
    "    images = {0: 'seventh.png',\n",
    "              1: 'sociopatterns.png',\n",
    "              2: 'physicians.png',\n",
    "              3: 'divvy.png',\n",
    "              4: 'crime-person.png',\n",
    "              5: 'crime-crime.png'}\n",
    "    \n",
    "    imgs_read = []\n",
    "    for i in order:\n",
    "        if i in images.keys():\n",
    "            imgs_read.append(mpimg.imread('images/{0}'.format(images[i])))\n",
    "    # Save the images to disk\n",
    "    plt.imshow(np.hstack(imgs_read))\n",
    "    plt.axis('off')\n",
    "    plt.savefig('images/custom-logo.png', dpi=900, bbox_inches='tight')\n",
    "    plt.savefig('images/custom-logo-small.png', dpi=75, bbox_inches='tight')\n",
    "    print('Thank you for attending, {0}!'.format(name))\n",
    "    print('Your hash-ordered image can be found in at \"images/custom-logo.png\".'.format(name))"
   ]
  },
  {
   "cell_type": "code",
   "execution_count": null,
   "metadata": {
    "slideshow": {
     "slide_type": "slide"
    }
   },
   "outputs": [],
   "source": [
    "# Change accordingly! :)\n",
    "make_image('My name here')"
   ]
  },
  {
   "cell_type": "code",
   "execution_count": null,
   "metadata": {},
   "outputs": [],
   "source": []
  },
  {
   "cell_type": "code",
   "execution_count": null,
   "metadata": {},
   "outputs": [],
   "source": []
  },
  {
   "cell_type": "code",
   "execution_count": null,
   "metadata": {},
   "outputs": [],
   "source": []
  }
 ],
 "metadata": {
  "celltoolbar": "Slideshow",
  "kernelspec": {
   "display_name": "Python 3",
   "language": "python",
   "name": "python3"
  },
  "language_info": {
   "codemirror_mode": {
    "name": "ipython",
    "version": 3
   },
   "file_extension": ".py",
   "mimetype": "text/x-python",
   "name": "python",
   "nbconvert_exporter": "python",
   "pygments_lexer": "ipython3",
   "version": "3.5.2"
  }
 },
 "nbformat": 4,
 "nbformat_minor": 0
}
