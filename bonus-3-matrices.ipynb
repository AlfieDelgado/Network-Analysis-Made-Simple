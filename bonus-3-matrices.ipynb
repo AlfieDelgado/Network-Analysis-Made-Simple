{
 "cells": [
  {
   "cell_type": "markdown",
   "metadata": {},
   "source": [
    "# Introduction\n",
    "\n",
    "In this notebook, we will explore the use of matrix representations of graphs, and show how their are direct matrix parallels for some of the algorithms that we have investigated."
   ]
  },
  {
   "cell_type": "code",
   "execution_count": null,
   "metadata": {},
   "outputs": [],
   "source": [
    "import networkx as nx\n",
    "import matplotlib.pyplot as plt\n",
    "import nxviz as nv\n",
    "from custom.load_data import load_university_social_network\n",
    "from matplotlib import animation\n",
    "\n",
    "%load_ext autoreload\n",
    "%autoreload 2\n",
    "%matplotlib inline\n",
    "%config InlineBackend.figure_format = 'retina'"
   ]
  },
  {
   "cell_type": "markdown",
   "metadata": {},
   "source": [
    "For this notebook, we will specifically see the connection between matrix operations and pathfinding between nodes."
   ]
  },
  {
   "cell_type": "markdown",
   "metadata": {},
   "source": [
    "# Toy Example: Linear Chain\n",
    "\n",
    "To start, let us use a simple four-node network, in which nodes are joined in a chain. Convince yourself that this is is a linear chain by running the cell below."
   ]
  },
  {
   "cell_type": "code",
   "execution_count": null,
   "metadata": {},
   "outputs": [],
   "source": [
    "nodes = list(range(4))\n",
    "G1 = nx.Graph()\n",
    "\n",
    "G1.add_nodes_from(nodes)\n",
    "G1.add_edges_from(zip(nodes, nodes[1:]))"
   ]
  },
  {
   "cell_type": "markdown",
   "metadata": {},
   "source": [
    "## Graph Form\n",
    "\n",
    "When visualized as circles and lines, the graph looks like this:"
   ]
  },
  {
   "cell_type": "code",
   "execution_count": null,
   "metadata": {},
   "outputs": [],
   "source": [
    "nx.draw(G1, with_labels=True)"
   ]
  },
  {
   "cell_type": "markdown",
   "metadata": {},
   "source": [
    "## Matrix Form\n",
    "\n",
    "When represented in matrix form, it looks like the plot below. (Explain row by columns = node by nodes.)"
   ]
  },
  {
   "cell_type": "code",
   "execution_count": null,
   "metadata": {},
   "outputs": [],
   "source": [
    "nv.MatrixPlot(G1).draw()"
   ]
  },
  {
   "cell_type": "markdown",
   "metadata": {},
   "source": [
    "## Playing with the matrix form\n",
    "\n",
    "NetworkX provides a `to_numpy_array()` function that will return a numpy array of the graph. That is used behind-the-scenes in `nxviz` to generate the MatrixPlot."
   ]
  },
  {
   "cell_type": "code",
   "execution_count": null,
   "metadata": {},
   "outputs": [],
   "source": [
    "A1 = nx.to_numpy_array(G1, nodelist=sorted(G1.nodes()))\n",
    "A1"
   ]
  },
  {
   "cell_type": "markdown",
   "metadata": {},
   "source": [
    "One neat result is that if we take the adjacency matrix, and matrix-matrix multiply it against itself (\"matrix power 2\"), we will get back a new matrix that has interesting properties."
   ]
  },
  {
   "cell_type": "code",
   "execution_count": null,
   "metadata": {},
   "outputs": [],
   "source": [
    "import numpy as np\n",
    "\n",
    "# One way of coding this up\n",
    "np.linalg.matrix_power(A1, 2)\n",
    "\n",
    "# Another equivalent way, that takes advantage of Python 3.5's matrix multiply operator\n",
    "A1 @ A1"
   ]
  },
  {
   "cell_type": "markdown",
   "metadata": {},
   "source": [
    "**Firstly**, if we look at the off-diagonals of the new matrix, this corresponds to the number of paths of length 2 that exist between those two nodes."
   ]
  },
  {
   "cell_type": "code",
   "execution_count": null,
   "metadata": {},
   "outputs": [],
   "source": [
    "np.diag(A1 @ A1)"
   ]
  },
  {
   "cell_type": "markdown",
   "metadata": {},
   "source": [
    "Here, one path of length 2 exists between node 0 and node 2, and one path of length 2 exists between node 1 and node 3.\n",
    "\n",
    "**Secondly**, you may notice that the diagonals look like the degree of the nodes. This is a unique property of the 2nd adjacency matrix power: for every node, there are $ d $ degree paths of length two to get back to that same node.\n",
    "\n",
    "Not convinced? To get from a node and back, that's a path length of 2! :-)"
   ]
  },
  {
   "cell_type": "markdown",
   "metadata": {},
   "source": [
    "Let's see if the following statment is true: The $ k^{th} $ matrix power of the graph adjacency matrix indicates how many paths of length $ k $ exist between each pair of nodes."
   ]
  },
  {
   "cell_type": "code",
   "execution_count": null,
   "metadata": {},
   "outputs": [],
   "source": [
    "np.linalg.matrix_power(A1, 3)"
   ]
  },
  {
   "cell_type": "markdown",
   "metadata": {},
   "source": [
    "Indeed, if we think about it, there is, by definition, no way sequence of graph traversals that will allow us to go back to a node within 3 steps. We will always end up at some neighboring node.\n",
    "\n",
    "In addition, to get to the neighboring node in 3 steps, there are two ways to go about it:\n",
    "\n",
    "- node -> neighbor -> node -> neighbor\n",
    "- node -> neighbor -> neighbor's neighbor -> neighbor\n",
    "\n",
    "Or for the case of this chain graph:\n",
    "\n",
    "- 0 -> 1 -> 0 -> 1\n",
    "- 0 -> 1 -> 2 -> 1"
   ]
  },
  {
   "cell_type": "markdown",
   "metadata": {},
   "source": [
    "# Toy Example: Directed Linear Chain\n",
    "\n",
    "Let's see if the same properties hold for a directed graph."
   ]
  },
  {
   "cell_type": "code",
   "execution_count": null,
   "metadata": {},
   "outputs": [],
   "source": [
    "nodes"
   ]
  },
  {
   "cell_type": "code",
   "execution_count": null,
   "metadata": {},
   "outputs": [],
   "source": [
    "G2 = nx.DiGraph()\n",
    "G2.add_nodes_from(nodes)\n",
    "G2.add_edges_from(zip(nodes, nodes[1:]))\n",
    "nx.draw(G2, with_labels=True)"
   ]
  },
  {
   "cell_type": "markdown",
   "metadata": {},
   "source": [
    "Recall that in a directed graph, the matrix representation is not guaranteed to be symmetric."
   ]
  },
  {
   "cell_type": "code",
   "execution_count": null,
   "metadata": {},
   "outputs": [],
   "source": [
    "A2 = nx.to_numpy_array(G2)\n",
    "A2"
   ]
  },
  {
   "cell_type": "markdown",
   "metadata": {},
   "source": [
    "Let's look at the 2nd matrix power: the number of paths of length 2 between any pair of nodes."
   ]
  },
  {
   "cell_type": "code",
   "execution_count": null,
   "metadata": {},
   "outputs": [],
   "source": [
    "np.linalg.matrix_power(A2, 2)"
   ]
  },
  {
   "cell_type": "markdown",
   "metadata": {},
   "source": [
    "We see that there's only one path from node 0 to node 2 of length 2, and one path from node 1 to node 3. If you're not convinced of this, trace it for yourself!"
   ]
  },
  {
   "cell_type": "markdown",
   "metadata": {},
   "source": [
    "## Exercise\n",
    "\n",
    "In this directed graph, how many paths are there from node 0 to node 3 of length 3? Compute the 3rd matrix power and verify your answer."
   ]
  },
  {
   "cell_type": "code",
   "execution_count": null,
   "metadata": {},
   "outputs": [],
   "source": [
    "np.linalg.matrix_power(A2, 3)"
   ]
  },
  {
   "cell_type": "markdown",
   "metadata": {},
   "source": [
    "# Real Data\n",
    "\n",
    "Now that we've looked at a toy example, let's play around with a real dataset!\n",
    "\n",
    "This dataset is a residence hall rating dataset. From the [source website](http://konect.uni-koblenz.de/networks/moreno_oz):\n",
    "\n",
    "> This directed network contains friendship ratings between 217 residents living at a residence hall located on the Australian National University campus. A node represents a person and edges contain ratings of one friend to another.\n",
    "\n",
    "For the purposes of this exercise, we will treat the edges as if they were unweighted.\n"
   ]
  },
  {
   "cell_type": "code",
   "execution_count": null,
   "metadata": {},
   "outputs": [],
   "source": [
    "G = load_university_social_network()"
   ]
  },
  {
   "cell_type": "markdown",
   "metadata": {},
   "source": [
    "## Exercise\n",
    "\n",
    "Use nxviz's MatrixPlot to draw the graph."
   ]
  },
  {
   "cell_type": "code",
   "execution_count": null,
   "metadata": {},
   "outputs": [],
   "source": [
    "nv.MatrixPlot(G).draw()"
   ]
  },
  {
   "cell_type": "markdown",
   "metadata": {},
   "source": [
    "## Exercise\n",
    "\n",
    "Using what you know from the previous material, find out how many connected component subgraphs there are in the subgraph.\n",
    "\n",
    "**Hint:** You may need to convert the graph to an undirected one first."
   ]
  },
  {
   "cell_type": "code",
   "execution_count": null,
   "metadata": {},
   "outputs": [],
   "source": [
    "list(nx.connected_component_subgraphs(G.to_undirected()))"
   ]
  },
  {
   "cell_type": "markdown",
   "metadata": {},
   "source": [
    "## Exercise\n",
    "\n",
    "Since there is only one connected component subgraph, pick two nodes in the graph and see how many shortest paths there exist between those two nodes.\n",
    "\n",
    "**Hint:** You will first need to know what the shortest path length is between those two nodes."
   ]
  },
  {
   "cell_type": "code",
   "execution_count": null,
   "metadata": {},
   "outputs": [],
   "source": [
    "nx.shortest_path(G, 30, 100)"
   ]
  },
  {
   "cell_type": "code",
   "execution_count": null,
   "metadata": {},
   "outputs": [],
   "source": [
    "A = nx.to_numpy_array(G)\n",
    "np.linalg.matrix_power(A, 4)[29, 99]"
   ]
  },
  {
   "cell_type": "markdown",
   "metadata": {},
   "source": [
    "# Message Passing\n",
    "\n",
    "Message passing on graphs is a fascinating topic to explore. It's a neat way to think about a wide variety of problems, including the spread of infectious disease agents, rumours, and more. As it turns out, there's a direct matrix interpretation of the message passing operation.\n",
    "\n",
    "To illustrate this more clearly, let's go back to the directed chain graph, `G2`."
   ]
  },
  {
   "cell_type": "code",
   "execution_count": null,
   "metadata": {},
   "outputs": [],
   "source": [
    "nx.draw(G2, with_labels=True)"
   ]
  },
  {
   "cell_type": "markdown",
   "metadata": {},
   "source": [
    "If we have a message that begins at node 0, and it is only passed to its neighbors, then node 1 is the next one that possess the message. Node 1 then passes it to node 2, and so on, until it reaches node 3.\n",
    "\n",
    "There are two key ideas to introduce here. Firstly, there is the notion of the **\"wavefront\"** of message passing: at the first time step, node 0 is the wavefront, and as time progresses, node 1, 2 and 3 progressively become the wavefront.\n",
    "\n",
    "Secondly, as the message gets passed, the number of nodes that have seen the message progressively increases. \n",
    "\n",
    "Let's see how this gets implemented in matrix form."
   ]
  },
  {
   "cell_type": "markdown",
   "metadata": {},
   "source": [
    "## Matrix Message Passing\n",
    "\n",
    "To represent the data, we start with a vertical array of messages of shape `(1, 4)`. Let's use the following conventions:\n",
    "\n",
    "- `1` indicates that a node currently has the message.\n",
    "- `0` indicates that a node currently does not have the message.\n",
    "\n",
    "Since the message starts at node 0, let's put a `1` in that cell of the array, and `0`s elsewhere."
   ]
  },
  {
   "cell_type": "code",
   "execution_count": null,
   "metadata": {},
   "outputs": [],
   "source": [
    "msg = np.array([1, 0, 0, 0]).reshape(1, 4)\n",
    "msg"
   ]
  },
  {
   "cell_type": "markdown",
   "metadata": {},
   "source": [
    "In order to simulate one round of message passing, we matrix multiply the message with the adjacency matrix."
   ]
  },
  {
   "cell_type": "code",
   "execution_count": null,
   "metadata": {},
   "outputs": [],
   "source": [
    "msg2 = msg @ A2\n",
    "msg2"
   ]
  },
  {
   "cell_type": "markdown",
   "metadata": {},
   "source": [
    "The interpretation now is that the message is currently at node 1.\n",
    "\n",
    "To simulate a second round, we take that result and matrix multiply it against the adjacency matrix again."
   ]
  },
  {
   "cell_type": "code",
   "execution_count": null,
   "metadata": {},
   "outputs": [],
   "source": [
    "msg3 = msg2 @ A2\n",
    "msg3"
   ]
  },
  {
   "cell_type": "markdown",
   "metadata": {},
   "source": [
    "The interpretation now is that the message is currently at node 2."
   ]
  },
  {
   "cell_type": "markdown",
   "metadata": {},
   "source": [
    "Let's make an animation of this."
   ]
  },
  {
   "cell_type": "code",
   "execution_count": null,
   "metadata": {},
   "outputs": [],
   "source": [
    "# fig, ax = plt.subplots()\n",
    "\n",
    "def propagate(G, msg):\n",
    "    \"\"\"\n",
    "    Computes the node values based on propagation.\n",
    "    \n",
    "    :msg: The initial state of the message.\n",
    "    \"\"\"\n",
    "    node_colors = []\n",
    "    new_msg = msg\n",
    "    A = nx.to_numpy_array(G)\n",
    "    for i in range(len(msg)):\n",
    "        node_colors.append(new_msg)\n",
    "        new_msg = new_msg @ A\n",
    "    return node_colors\n",
    "\n",
    "def update_func(step, nodes, colors):\n",
    "    nodes.set_array(colors[step].ravel())\n",
    "    return nodes\n",
    "\n",
    "def anim(G, colors, n_frames=4):\n",
    "    fig = plt.figure()\n",
    "    pos = {i:(i, i) for i in range(len(G))}\n",
    "    adj = nx.to_numpy_array(G)\n",
    "    pos = nx.kamada_kawai_layout(G)\n",
    "    nodes = nx.draw_networkx_nodes(G, pos=pos, node_color=node_colors[0].ravel())\n",
    "    ax = nx.draw_networkx_edges(G, pos)\n",
    "    return animation.FuncAnimation(fig, update_func, frames=range(n_frames), fargs=(nodes, colors))\n",
    "\n",
    "\n",
    "# HTML(anim(G2, propagate(msg)).to_html5_video())"
   ]
  },
  {
   "cell_type": "code",
   "execution_count": null,
   "metadata": {},
   "outputs": [],
   "source": [
    "msg = np.zeros(len(G))\n",
    "msg[0] = 1\n",
    "HTML(anim(G, propagate(G, msg))).to_html5_video()"
   ]
  },
  {
   "cell_type": "code",
   "execution_count": null,
   "metadata": {},
   "outputs": [],
   "source": [
    "from matplotlib.animation import FuncAnimation\n",
    "\n",
    "pos = {i:i for i in nodes}\n",
    "\n",
    "\n",
    "def propagation_animation(inputs, G, data, n_frames):\n",
    "    fig, ax = plt.subplots()\n",
    "    nodes = nx.draw_networkx_nodes(G, pos=pos, node_color=colors)\n",
    "\n",
    "def init():\n",
    "    nx.draw(G2)\n",
    "\n",
    "def update(frame):\n",
    "    return nx.draw(G2, ax=ax, node_color=node_colors[i])\n",
    "\n",
    "ani = FuncAnimation(fig, update, frames=np.linspace(0, 2*np.pi, 128),\n",
    "                    init_func=init, blit=True)\n",
    "HTML(ani.to_html5_video())\n"
   ]
  },
  {
   "cell_type": "code",
   "execution_count": null,
   "metadata": {},
   "outputs": [],
   "source": []
  }
 ],
 "metadata": {
  "kernelspec": {
   "display_name": "nams",
   "language": "python",
   "name": "nams"
  },
  "language_info": {
   "codemirror_mode": {
    "name": "ipython",
    "version": 3
   },
   "file_extension": ".py",
   "mimetype": "text/x-python",
   "name": "python",
   "nbconvert_exporter": "python",
   "pygments_lexer": "ipython3",
   "version": "3.6.1"
  }
 },
 "nbformat": 4,
 "nbformat_minor": 2
}
