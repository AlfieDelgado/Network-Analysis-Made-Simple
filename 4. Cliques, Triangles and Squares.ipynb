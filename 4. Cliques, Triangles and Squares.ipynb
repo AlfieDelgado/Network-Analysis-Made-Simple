{
 "metadata": {
  "name": ""
 },
 "nbformat": 3,
 "nbformat_minor": 0,
 "worksheets": [
  {
   "cells": [
    {
     "cell_type": "code",
     "collapsed": false,
     "input": [
      "import networkx as nx\n",
      "import matplotlib.pyplot as plt\n",
      "\n",
      "%matplotlib inline"
     ],
     "language": "python",
     "metadata": {},
     "outputs": [],
     "prompt_number": null
    },
    {
     "cell_type": "markdown",
     "metadata": {},
     "source": [
      "# Cliques, Triangles and Squares\n",
      "\n",
      "Let's pose a problem: If A knows B and B knows C, would it be probable that A knows C as well? In a graph involving just these three individuals, it may look as such:"
     ]
    },
    {
     "cell_type": "code",
     "collapsed": false,
     "input": [
      "G = nx.Graph()\n",
      "G.add_nodes_from(['a', 'b', 'c'])\n",
      "G.add_edges_from([('a','b'), ('b', 'c')])\n",
      "nx.draw(G, with_labels=True)"
     ],
     "language": "python",
     "metadata": {},
     "outputs": [],
     "prompt_number": null
    },
    {
     "cell_type": "markdown",
     "metadata": {},
     "source": [
      "Let's think of another problem: If A knows B, B knows C, C knows D and D knows A, is it likely that A knows C and B knows D? How would this look like?"
     ]
    },
    {
     "cell_type": "code",
     "collapsed": false,
     "input": [
      "G.add_node('d')\n",
      "G.add_edge('c', 'd')\n",
      "G.add_edge('d', 'a')\n",
      "nx.draw(G, with_labels=True)"
     ],
     "language": "python",
     "metadata": {},
     "outputs": [],
     "prompt_number": null
    },
    {
     "cell_type": "markdown",
     "metadata": {},
     "source": [
      "The set of relationships involving A, B and C, if closed, involves a triangle in the graph. The set of relationships that also include D form a square.\n",
      "\n",
      "You may have observed that social networks (LinkedIn, Facebook, Twitter etc.) have friend recommendation systems. How exactly do they work? Apart from analyzing other variables, closing triangles is one of the core ideas behind the system. A knows B and B knows C, then A probably knows C as well.\n",
      "\n",
      "If all of the triangles in the two small-scale networks were closed, then the graph would have represented **cliques**, in which everybody within that subgraph knows one another.\n",
      "\n",
      "In this section, we will attempt to answer the following questions:\n",
      "\n",
      "1. Can we identify cliques?\n",
      "2. Can we identify *potential* cliques that aren't captured by the network?\n",
      "3. Can we model the probability that two unconnected individuals know one another?\n",
      "\n",
      "As usual, let's start by loading the synthetic network."
     ]
    },
    {
     "cell_type": "code",
     "collapsed": false,
     "input": [
      "# Load the network.\n",
      "G = nx.read_gpickle('Synthetic Social Network.pkl')\n",
      "G.nodes()"
     ],
     "language": "python",
     "metadata": {},
     "outputs": [],
     "prompt_number": null
    },
    {
     "cell_type": "markdown",
     "metadata": {},
     "source": [
      "## Cliques\n",
      "\n",
      "In a social network, cliques are groups of people in which everybody knows everybody. Triangles are a simple example of cliques. Let's try implementing a simple algorithm that finds out whether a node is present in a triangle or not.\n",
      "\n",
      "The core idea is that if a node is present in a triangle, then its neighbors' neighbors' neighbors should include itself."
     ]
    },
    {
     "cell_type": "code",
     "collapsed": false,
     "input": [
      "def in_triangle(G, node):\n",
      "    neighbors1 = G.neighbors(node)\n",
      "    neighbors2 = []\n",
      "    for n in neighbors1:\n",
      "        neighbors = G.neighbors(n)\n",
      "        if node in neighbors2:\n",
      "            neighbors2.remove(node)\n",
      "        neighbors2.extend(G.neighbors(n))\n",
      "    \n",
      "    neighbors3 = []\n",
      "    for n in neighbors2:\n",
      "        neighbors = G.neighbors(n)\n",
      "        neighbors3.extend(G.neighbors(n))\n",
      "        \n",
      "    if node in neighbors3:\n",
      "        return True\n",
      "    else:\n",
      "        return False\n",
      "    \n",
      "in_triangle(G, 3)"
     ],
     "language": "python",
     "metadata": {},
     "outputs": [],
     "prompt_number": null
    },
    {
     "cell_type": "code",
     "collapsed": false,
     "input": [
      "nx.triangles(G, 3)"
     ],
     "language": "python",
     "metadata": {},
     "outputs": [],
     "prompt_number": null
    },
    {
     "cell_type": "code",
     "collapsed": false,
     "input": [],
     "language": "python",
     "metadata": {},
     "outputs": []
    }
   ],
   "metadata": {}
  }
 ]
}
