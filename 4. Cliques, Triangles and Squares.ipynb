{
 "metadata": {
  "name": ""
 },
 "nbformat": 3,
 "nbformat_minor": 0,
 "worksheets": [
  {
   "cells": [
    {
     "cell_type": "code",
     "collapsed": false,
     "input": [
      "import networkx as nx\n",
      "import matplotlib.pyplot as plt\n",
      "\n",
      "%matplotlib inline"
     ],
     "language": "python",
     "metadata": {},
     "outputs": [],
     "prompt_number": null
    },
    {
     "cell_type": "markdown",
     "metadata": {},
     "source": [
      "# Cliques, Triangles and Squares\n",
      "\n",
      "Let's pose a problem: If A knows B and B knows C, would it be probable that A knows C as well? In a graph involving just these three individuals, it may look as such:"
     ]
    },
    {
     "cell_type": "code",
     "collapsed": false,
     "input": [
      "G = nx.Graph()\n",
      "G.add_nodes_from(['a', 'b', 'c'])\n",
      "G.add_edges_from([('a','b'), ('b', 'c')])\n",
      "nx.draw(G, with_labels=True)"
     ],
     "language": "python",
     "metadata": {},
     "outputs": [],
     "prompt_number": null
    },
    {
     "cell_type": "markdown",
     "metadata": {},
     "source": [
      "Let's think of another problem: If A knows B, B knows C, C knows D and D knows A, is it likely that A knows C and B knows D? How would this look like?"
     ]
    },
    {
     "cell_type": "code",
     "collapsed": false,
     "input": [
      "G.add_node('d')\n",
      "G.add_edge('c', 'd')\n",
      "G.add_edge('d', 'a')\n",
      "nx.draw(G, with_labels=True)"
     ],
     "language": "python",
     "metadata": {},
     "outputs": [],
     "prompt_number": null
    },
    {
     "cell_type": "markdown",
     "metadata": {},
     "source": [
      "The set of relationships involving A, B and C, if closed, involves a triangle in the graph. The set of relationships that also include D form a square.\n",
      "\n",
      "You may have observed that social networks (LinkedIn, Facebook, Twitter etc.) have friend recommendation systems. How exactly do they work? Apart from analyzing other variables, closing triangles is one of the core ideas behind the system. A knows B and B knows C, then A probably knows C as well.\n",
      "\n",
      "If all of the triangles in the two small-scale networks were closed, then the graph would have represented **cliques**, in which everybody within that subgraph knows one another.\n",
      "\n",
      "In this section, we will attempt to answer the following questions:\n",
      "\n",
      "1. Can we identify cliques?\n",
      "2. Can we identify *potential* cliques that aren't captured by the network?\n",
      "3. Can we model the probability that two unconnected individuals know one another?\n",
      "\n",
      "As usual, let's start by loading the synthetic network."
     ]
    },
    {
     "cell_type": "code",
     "collapsed": false,
     "input": [
      "# Load the network.\n",
      "G = nx.read_gpickle('Synthetic Social Network.pkl')\n",
      "nx.draw(G, with_labels=True)"
     ],
     "language": "python",
     "metadata": {},
     "outputs": [],
     "prompt_number": null
    },
    {
     "cell_type": "markdown",
     "metadata": {},
     "source": [
      "## Cliques\n",
      "\n",
      "In a social network, cliques are groups of people in which everybody knows everybody. Triangles are a simple example of cliques. Let's try implementing a simple algorithm that finds out whether a node is present in a triangle or not.\n",
      "\n",
      "The core idea is that if a node is present in a triangle, then its neighbors' neighbors' neighbors should include itself."
     ]
    },
    {
     "cell_type": "code",
     "collapsed": false,
     "input": [
      "# Example code that shouldn't be too hard to follow.\n",
      "def in_triangle(G, node):\n",
      "    neighbors1 = G.neighbors(node)\n",
      "    neighbors2 = []\n",
      "    for n in neighbors1:\n",
      "        neighbors = G.neighbors(n)\n",
      "        if node in neighbors2:\n",
      "            neighbors2.remove(node)\n",
      "        neighbors2.extend(G.neighbors(n))\n",
      "    \n",
      "    neighbors3 = []\n",
      "    for n in neighbors2:\n",
      "        neighbors = G.neighbors(n)\n",
      "        neighbors3.extend(G.neighbors(n))\n",
      "        \n",
      "    if node in neighbors3:\n",
      "        return True\n",
      "    else:\n",
      "        return False\n",
      "    \n",
      "in_triangle(G, 3)"
     ],
     "language": "python",
     "metadata": {},
     "outputs": [],
     "prompt_number": null
    },
    {
     "cell_type": "markdown",
     "metadata": {},
     "source": [
      "In reality, NetworkX already has a function that *counts* the number of triangles that any given node is involved in. This is probably more useful than knowing whether a node is present in a triangle or not, but the above code was simply for practice."
     ]
    },
    {
     "cell_type": "code",
     "collapsed": false,
     "input": [
      "nx.triangles(G, 3)"
     ],
     "language": "python",
     "metadata": {},
     "outputs": [],
     "prompt_number": null
    },
    {
     "cell_type": "markdown",
     "metadata": {},
     "source": [
      "### Exercise\n",
      "\n",
      "Can you write a function that returns the nodes that comprise triangles with a node of interest, including the node of interest? (5 min.) Hint: If node A has a set of neighbors including node B and also contains another neighbor that is also the neighbor of node B, then a triangle is there. Really, the hint here is to use `sets` and their operations.\n",
      "\n",
      "https://docs.python.org/2/library/stdtypes.html#set\n",
      "\n",
      "Verify your answer by drawing out the subgraph composed of those nodes."
     ]
    },
    {
     "cell_type": "code",
     "collapsed": false,
     "input": [
      "# Possible answer\n",
      "def get_triangles(G, node):\n",
      "    neighbors = set(G.neighbors(node))\n",
      "    triangle_nodes = set()\n",
      "    for n in neighbors:\n",
      "        neighbors2 = set(G.neighbors(n))\n",
      "        neighbors.remove(n)\n",
      "        neighbors2.remove(node)\n",
      "        triangle_nodes.update(neighbors2.intersection(neighbors))\n",
      "        neighbors.add(n)\n",
      "    triangle_nodes.add(node)\n",
      "    return triangle_nodes\n",
      "get_triangles(G, 3)"
     ],
     "language": "python",
     "metadata": {},
     "outputs": [],
     "prompt_number": null
    },
    {
     "cell_type": "code",
     "collapsed": false,
     "input": [
      "nx.draw(G.subgraph(get_triangles(G, 3)), with_labels=True)"
     ],
     "language": "python",
     "metadata": {},
     "outputs": [],
     "prompt_number": null
    },
    {
     "cell_type": "markdown",
     "metadata": {},
     "source": [
      "### Exercise\n",
      "If you were able to get out the nodes, then let's move onto the next problem.\n",
      "\n",
      "Can you write a function that identifies any open triangles that a given node is involved in? \n",
      "\n",
      "Hint: Open triangles are like those that we described earlier on - A knows B and B knows C, but C's relationship with A isn't captured in the graph. \n",
      "\n",
      "Hint: You may still want to stick with set operations."
     ]
    },
    {
     "cell_type": "code",
     "collapsed": false,
     "input": [
      "# Possible Answer, credit Justin Zabilansky for help on this.\n",
      "def get_open_triangles(G, node):\n",
      "    \"\"\"\n",
      "    There are many ways to represent this. One may choose to represent only the nodes involved \n",
      "    in an open triangle; this is not the approach taken here.\n",
      "    \n",
      "    Rather, we have a code that explicitly enumrates every open triangle present.\n",
      "    \"\"\"\n",
      "    open_triangle_nodes = []\n",
      "    neighbors = set(G.neighbors(node))\n",
      "    \n",
      "    for n in neighbors:\n",
      "        neighbors2 = set(G.neighbors(n))\n",
      "        neighbors2.remove(node)\n",
      "        \n",
      "        overlaps = set()\n",
      "        for n2 in neighbors2:\n",
      "            if n2 in neighbors:\n",
      "                overlaps.add(n2)\n",
      "                \n",
      "        difference = neighbors.difference(overlaps)\n",
      "        difference.remove(n)\n",
      "        \n",
      "        for n2 in difference:\n",
      "            open_triangle_nodes.append((node, n, n2))\n",
      "    return open_triangle_nodes\n",
      "\n",
      "nodes = get_open_triangles(G, 2)\n",
      "for i, triplet in enumerate(nodes):\n",
      "    fig = plt.figure(i)\n",
      "    nx.draw(G.subgraph(triplet), with_labels=True)"
     ],
     "language": "python",
     "metadata": {},
     "outputs": [],
     "prompt_number": null
    },
    {
     "cell_type": "code",
     "collapsed": false,
     "input": [],
     "language": "python",
     "metadata": {},
     "outputs": []
    }
   ],
   "metadata": {}
  }
 ]
}
