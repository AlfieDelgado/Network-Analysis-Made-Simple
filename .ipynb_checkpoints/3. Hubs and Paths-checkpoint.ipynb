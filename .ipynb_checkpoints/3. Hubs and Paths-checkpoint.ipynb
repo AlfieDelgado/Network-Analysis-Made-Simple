{
 "metadata": {
  "name": ""
 },
 "nbformat": 3,
 "nbformat_minor": 0,
 "worksheets": [
  {
   "cells": [
    {
     "cell_type": "code",
     "collapsed": false,
     "input": [
      "import networkx as nx\n",
      "import matplotlib.pyplot as plt\n",
      "\n",
      "%matplotlib inline\n",
      "\n",
      "G = nx.read_gpickle('Synthetic Social Network.pkl')"
     ],
     "language": "python",
     "metadata": {},
     "outputs": [],
     "prompt_number": null
    },
    {
     "cell_type": "markdown",
     "metadata": {},
     "source": [
      "# Hubs: How do we evaluate the importance of some individuals in a network?\n",
      "\n",
      "Within a social network, there will be certain individuals which perform certain important functions. For example, there may be hyper-connected individuals who are connected to many, many more people. They would be of use in the spreading of information. Alternatively, if this were a disease contact network, identifying them wuld be useful in stopping the spread of diseases. How would one identify these people?"
     ]
    },
    {
     "cell_type": "markdown",
     "metadata": {},
     "source": [
      "## Approach 1: Neighbors\n",
      "\n",
      "One way we could compute this is to find out the number of people an individual is conencted to. NetworkX let's us do this by giving us a `G.neighbors(node)` function."
     ]
    },
    {
     "cell_type": "code",
     "collapsed": false,
     "input": [
      "# Let's find out the number of neighbors that individual #7 has.\n",
      "G.neighbors(7)"
     ],
     "language": "python",
     "metadata": {},
     "outputs": [],
     "prompt_number": null
    },
    {
     "cell_type": "markdown",
     "metadata": {},
     "source": [
      "Exercise: Can you create a ranked list/dictionary/whatever structure you'd like of the number of the importance of each individual? (1-2 min.) Hint: Python's `sorted(iterable, key, reverse=True)` function may be of help here."
     ]
    },
    {
     "cell_type": "code",
     "collapsed": false,
     "input": [
      "# Possible Answers:\n",
      "sorted([n for n in G.nodes()], key=lambda x:len(G.neighbors(x)), reverse=True)\n",
      "sorted([(n, G.neighbors(n)) for n in G.nodes()], key=lambda x: len(x[1]), reverse=True)"
     ],
     "language": "python",
     "metadata": {},
     "outputs": [],
     "prompt_number": null
    },
    {
     "cell_type": "markdown",
     "metadata": {},
     "source": [
      "## Approach 2: Degree Centrality\n",
      "\n",
      "The number of other nodes that one node is connected to is a measure of its centrality. NetworkX implements a **degree centrality**, which is defined as the number of neighbors that a node has normalized to the number of individuals it could be connected to in the entire graph. This is accessed by using `nx.degree_centrality(G)`"
     ]
    },
    {
     "cell_type": "code",
     "collapsed": false,
     "input": [
      "nx.degree_centrality(G)"
     ],
     "language": "python",
     "metadata": {},
     "outputs": [],
     "prompt_number": null
    },
    {
     "cell_type": "markdown",
     "metadata": {},
     "source": [
      "If you inspect the dictionary closely, you will find that node 19 is the one that has the highest degree centrality, just as we had measured by counting the number of neighbors.\n",
      "\n",
      "There are other measures of centrality, namely **betweenness centrality**, **flow centrality** and **load centrality**. You can take a look at their definitions on the NetworkX API docs and their cited references. You can also define your own measures if those don't fit your needs, but that is an advanced topic that won't be dealt with here.\n",
      "\n",
      "The NetworkX API docs that document the centrality measures are here: http://networkx.github.io/documentation/networkx-1.9.1/reference/algorithms.centrality.html"
     ]
    },
    {
     "cell_type": "markdown",
     "metadata": {},
     "source": [
      "### Exercises\n",
      "\n",
      "Can you create a histogram of the distribution of degree centralities? (1-2 min)\n",
      "\n",
      "Can you create a histogram of the distribution of number of neighbors? (1-2 min)\n",
      "\n",
      "Can you create a scatterplot of the degree centralities against number of neighbors? (1-2 min)\n",
      "\n",
      "Time: 3-6 min.\n",
      "\n",
      "Hint: You may want to use:\n",
      "\n",
      "`plt.hist(list_of_values)` \n",
      "\n",
      "and \n",
      "\n",
      "`plt.scatter(x_values, y_values)`\n",
      "\n",
      "If you know the Matplotlib API, feel free to get fancy :)."
     ]
    },
    {
     "cell_type": "code",
     "collapsed": false,
     "input": [
      "# Possible Answers:\n",
      "fig = plt.figure(0)\n",
      "degree_centralities = [v for k, v in nx.degree_centrality(G).items()]\n",
      "plt.hist(degree_centralities)\n",
      "plt.title('Degree Centralities')\n",
      "\n",
      "fig = plt.figure(1)\n",
      "neighbors = [len(G.neighbors(node)) for node in G.nodes()]\n",
      "plt.hist(neighbors)\n",
      "plt.title('Number of Neighbors')\n",
      "\n",
      "fig = plt.figure(2)\n",
      "plt.scatter(degree_centralities, neighbors)\n",
      "plt.xlabel('Degree Centralities')\n",
      "plt.ylabel('Number of Neighbors')"
     ],
     "language": "python",
     "metadata": {},
     "outputs": [],
     "prompt_number": null
    },
    {
     "cell_type": "markdown",
     "metadata": {},
     "source": [
      "# Paths in a Network\n",
      "\n",
      "Graph traversal is akin to walking along the graph, node by node, restricted by the edges that connect the nodes. Graph traversal is particularly useful for understanding the local structure (e.g. connectivity, retrieving the exact relationships) of certain portions of the graph and for finding paths that connect two nodes in the network. \n",
      "\n",
      "Using the synthetic social network, we will figure out how to answer the following questions:\n",
      "\n",
      "1. How long will it take for a message to spread through this group of friends? (making some assumptions, of course)\n",
      "2. How do we find the shortest path to get from individual A to individual B?"
     ]
    },
    {
     "cell_type": "markdown",
     "metadata": {},
     "source": [
      "## Shortest Path"
     ]
    },
    {
     "cell_type": "code",
     "collapsed": false,
     "input": [
      "nx.draw(G, with_labels=True)"
     ],
     "language": "python",
     "metadata": {},
     "outputs": [],
     "prompt_number": null
    },
    {
     "cell_type": "markdown",
     "metadata": {},
     "source": [
      "Let's say we wanted to find the shortest path between two nodes. How would we approach this? One approach is what one would call a **breadth-first search** (http://en.wikipedia.org/wiki/Breadth-first_search). While not necessarily the fastest, it is the easiest to conceptualize. \n",
      "\n",
      "The approach is essentially as such:\n",
      "\n",
      "1. Begin with a queue of nodes.\n",
      "2. Add the neighbors of that node to a list.\n",
      "    1. If destination node is present in the list, end.\n",
      "    2. If destination node is not present, proceed.\n",
      "3. For each node in the list:\n",
      "    1. Remove node from the list.\n",
      "    1. Add neighbors of the node to the list. Check if destination node is present or not.\n",
      "    2. If destination node is present, repeat.\n",
      "    3. If destination node is not present, continue.\n",
      "    \n",
      "    \n",
      "Let's first figure out how to find if a path exists between two nodes. "
     ]
    },
    {
     "cell_type": "code",
     "collapsed": true,
     "input": [
      "# Initialize a queue of nodes initialized with the node of interest.\n",
      "queue = [21]\n",
      "destination = 9\n",
      "\n",
      "# Iterate over the nodes in the queue.\n",
      "for node in queue:\n",
      "    neighbors = G.neighbors(node)\n",
      "    if destination in neighbors:\n",
      "        print('Path exists between nodes {0} and {1}'.format(21, 9))\n",
      "        break\n",
      "    else:\n",
      "        queue.remove(node)\n",
      "        queue.extend(neighbors)\n",
      "    if len(queue) == 0:\n",
      "        print('Path does not exist between nodes {0} and {1}'.format(21, 9))\n",
      "\n"
     ],
     "language": "python",
     "metadata": {},
     "outputs": [],
     "prompt_number": null
    },
    {
     "cell_type": "markdown",
     "metadata": {},
     "source": [
      "We can encapsulate this into a function."
     ]
    },
    {
     "cell_type": "code",
     "collapsed": false,
     "input": [
      "def path_exists(node1, node2, G):\n",
      "    \"\"\"\n",
      "    This function checks whether a path exists between two nodes (node1, node2) in graph G.\n",
      "    \"\"\"\n",
      "    queue = [node1]\n",
      "    destination = node2\n",
      "    \n",
      "    for node in queue:\n",
      "        neighbors = G.neighbors(node)\n",
      "        if destination in neighbors:\n",
      "            print('Path exists between nodes {0} and {1}'.format(node1, node2))\n",
      "            return True\n",
      "            break\n",
      "        else:\n",
      "            queue.remove(node)\n",
      "            queue.extend(neighbors)\n",
      "        if len(queue) == 0:\n",
      "            print('Path does not exist between nodes {0} and {1}'.format(node1, node2))\n",
      "            return False\n",
      "    "
     ],
     "language": "python",
     "metadata": {},
     "outputs": [],
     "prompt_number": null
    },
    {
     "cell_type": "markdown",
     "metadata": {},
     "source": [
      "And testing the function on a few test cases:\n",
      "\n",
      "- 18 and any other node (should return `False`)\n",
      "- 29 and 26 (should return `True`)"
     ]
    },
    {
     "cell_type": "code",
     "collapsed": false,
     "input": [
      "path_exists(18, 5, G)\n",
      "path_exists(29, 26, G)"
     ],
     "language": "python",
     "metadata": {},
     "outputs": [],
     "prompt_number": null
    },
    {
     "cell_type": "markdown",
     "metadata": {},
     "source": [
      "If you write an algorithm that runs breadth-first, the recursion pattern is likely to follow what we have done above. If you do depth-first, the recursion pattern is likely to look a bit different. We can figure that out together later, if there is time.\n",
      "\n",
      "Meanwhile... thankfully, NetworkX has a function for us to use, titled `has_path`, so we don't have to implement this on our own. :-)\n",
      "\n",
      "http://networkx.lanl.gov/reference/generated/networkx.algorithms.shortest_paths.generic.has_path.html#networkx.algorithms.shortest_paths.generic.has_path"
     ]
    },
    {
     "cell_type": "code",
     "collapsed": false,
     "input": [
      "nx.has_path(G, 18, 5)"
     ],
     "language": "python",
     "metadata": {},
     "outputs": [],
     "prompt_number": null
    },
    {
     "cell_type": "markdown",
     "metadata": {},
     "source": [
      "NetworkX also has other shortest path algorithms implemented. \n",
      "\n",
      "https://networkx.github.io/documentation/latest/reference/generated/networkx.algorithms.shortest_paths.unweighted.predecessor.html#networkx.algorithms.shortest_paths.unweighted.predecessor\n",
      "\n",
      "We can build upon these to build our own graph query functions. Let's see if we can trace the shortest path from one node to another."
     ]
    },
    {
     "cell_type": "code",
     "collapsed": false,
     "input": [
      "nx.draw(G, with_labels=True)"
     ],
     "language": "python",
     "metadata": {},
     "outputs": [],
     "prompt_number": null
    },
    {
     "cell_type": "markdown",
     "metadata": {},
     "source": [
      "`nx.shortest_path(G, source, target)` gives us a list of nodes that exist within one of the shortest paths between the two nodes. (Not all paths are guaranteed to be found.)"
     ]
    },
    {
     "cell_type": "code",
     "collapsed": false,
     "input": [
      "nx.shortest_path(G, 4, 14)"
     ],
     "language": "python",
     "metadata": {},
     "outputs": [],
     "prompt_number": null
    },
    {
     "cell_type": "markdown",
     "metadata": {},
     "source": [
      "Incidentally, the node list is in order as well - we will travel through 19 and 17 in that order to get from 14 from 4."
     ]
    },
    {
     "cell_type": "markdown",
     "metadata": {},
     "source": [
      "### Exercise\n",
      "\n",
      "Write a function that extracts the edges in the shortest path between two nodes and puts them into a new graph, and draws it to the screen. (~5 min)"
     ]
    },
    {
     "cell_type": "code",
     "collapsed": false,
     "input": [
      "# Possible Answer:\n",
      "\n",
      "def extract_path_edges(G, source, target):\n",
      "    # Check to make sure that a path does exists between source and target.\n",
      "    if nx.has_path(G, source, target) == True:\n",
      "        nodes = nx.shortest_path(G, source, target)\n",
      "        newG = nx.Graph()\n",
      "\n",
      "        for source, sink in G.edges():\n",
      "            if source in nodes and sink in nodes:\n",
      "                newG.add_edge(source, sink)\n",
      "        return newG\n",
      "    if nx.has_path(G, source, target) == False:\n",
      "        raise Exception('Path does not exist between nodes {0} and {1}.'.format(source, target))\n",
      "        \n",
      "newG = extract_path_edges(G, 1, 14)\n",
      "nx.draw(newG, with_labels=True)"
     ],
     "language": "python",
     "metadata": {},
     "outputs": [],
     "prompt_number": null
    },
    {
     "cell_type": "markdown",
     "metadata": {},
     "source": [
      "### Exercise\n",
      "\n",
      "Since we've been drawing some graphs to screen, we might as well draw a few other things while we're on a roll.\n",
      "\n",
      "Write a function that extracts only a node and its neighbors as a new graph. Then, draw the new graph to screen. (~5 min.)"
     ]
    },
    {
     "cell_type": "code",
     "collapsed": false,
     "input": [
      "# Possible Answer\n",
      "\n",
      "def extract_neighbor_edges(G, node):\n",
      "    neighbors = G.neighbors(node)\n",
      "    newG = nx.Graph()\n",
      "    \n",
      "    for n1, n2 in G.edges():\n",
      "        if (n1 == node and n2 in neighbors) or (n1 in neighbors and n2 == node):\n",
      "            newG.add_edge(n1, n2)\n",
      "            \n",
      "    return newG\n",
      "\n",
      "def extract_neighbor_edges2(G, node):\n",
      "    neighbors = G.neighbors(node)\n",
      "    newG = nx.Graph()\n",
      "    \n",
      "    for neighbor in neighbors:\n",
      "        if (node, neighbor) in G.edges() or (neighbor, node) in G.edges():\n",
      "            newG.add_edge(node, neighbor)\n",
      "\n",
      "    return newG\n",
      "\n",
      "fig = plt.figure(0)\n",
      "newG = extract_neighbor_edges(G, 19)\n",
      "nx.draw(newG, with_labels=True)\n",
      "\n",
      "fig = plt.figure(1)\n",
      "newG = extract_neighbor_edges2(G, 19)\n",
      "nx.draw(newG, with_labels=True)"
     ],
     "language": "python",
     "metadata": {},
     "outputs": [],
     "prompt_number": null
    },
    {
     "cell_type": "markdown",
     "metadata": {},
     "source": [
      "### Exercises\n",
      "\n",
      "Now that we've practised some basic coding patterns, let's try some other problems that build on the NetworkX API. (10 min.)\n",
      "\n",
      "Refer to the following for the relevant functions:\n",
      "\n",
      "https://networkx.github.io/documentation/latest/reference/algorithms.shortest_paths.html\n",
      "\n",
      "1. If we want a message to go from one person to another person, and we assume that the message takes 1 day for the initial step and 1 additional day per step in the transmission chain (i.e. the first step takes 1 day, the second step takes 2 days etc.), how long will the message take to spread from any two given individuals? Write a function to compute this.\n",
      "2. What is the distribution of message spread times from person to person? What about chain lengths?\n",
      "3. Are there certain individuals who consistently show up in the chain? (Hint: you might wish to use the following functions/objects:\n",
      "    1. `Counter` object from the `collections` module \n",
      "    2. `combinations` function from the `itertools` module.\n",
      "    3. `all_shortest_paths(G, node1, node2)` which is part of the networkX algorithms.\n",
      "4. As a bonus, if you were able to compute the answer to question 3, can you plot a histogram of the number of times each node shows up in a connecting path?"
     ]
    },
    {
     "cell_type": "code",
     "collapsed": false,
     "input": [
      "# Possible answer to Question 1:\n",
      "# All we need is the length of the path.\n",
      "\n",
      "def compute_transmission_time(G, source, target):\n",
      "    length = nx.shortest_path_length(G, source, target)\n",
      "    \n",
      "    time = sum([i for i in range(1, length+1)])\n",
      "    \n",
      "    return time\n",
      "\n",
      "compute_transmission_time(G, 14, 4)       "
     ],
     "language": "python",
     "metadata": {},
     "outputs": [],
     "prompt_number": null
    },
    {
     "cell_type": "code",
     "collapsed": false,
     "input": [
      "# Possible answer to Question 2:\n",
      "# We need to know the length of every single shortest path between every pair of nodes.\n",
      "# If we don't put a source and target into the nx.shortest_path_length(G) function call, then\n",
      "# we get a dictionary of dictionaries, where all source-->target-->lengths are shown.\n",
      "\n",
      "lengths = []\n",
      "times = []\n",
      "for source, sink_length in nx.shortest_path_length(G).items():\n",
      "    for sink, length in sink_length.items():\n",
      "        times.append(sum(range(1, length+1)))\n",
      "        lengths.append(length)\n",
      "        \n",
      "plt.figure(0)\n",
      "plt.bar(Counter(lengths).keys(), Counter(lengths).values())\n",
      "\n",
      "plt.figure(1)\n",
      "plt.bar(Counter(times).keys(), Counter(times).values())"
     ],
     "language": "python",
     "metadata": {},
     "outputs": [],
     "prompt_number": null
    },
    {
     "cell_type": "code",
     "collapsed": false,
     "input": [
      "# Possible answer to Question 3:\n",
      "from collections import Counter\n",
      "from itertools import combinations\n",
      "\n",
      "totals = Counter()\n",
      "for n1, n2 in combinations(G.nodes(), 2):\n",
      "    if nx.has_path(G, n1, n2):\n",
      "        for path in nx.all_shortest_paths(G, n1, n2):\n",
      "            path.pop(0)\n",
      "            path.pop(-1)\n",
      "            totals = totals + Counter(path)\n",
      "            \n",
      "totals"
     ],
     "language": "python",
     "metadata": {},
     "outputs": [],
     "prompt_number": null
    },
    {
     "cell_type": "code",
     "collapsed": false,
     "input": [
      "# Possible answer to Question 4:\n",
      "plt.bar(totals.keys(), totals.values())"
     ],
     "language": "python",
     "metadata": {},
     "outputs": [],
     "prompt_number": null
    },
    {
     "cell_type": "markdown",
     "metadata": {},
     "source": [
      "# Hubs Revisited\n",
      "\n",
      "It looks like individual 19 is an important person of some sorts - if a message has to be passed through the network in the shortest time possible, then usually it'll go through person 19. Such a person has a high **betweenness centrality**. This is implemented as one of NetworkX's centrality algorithms."
     ]
    },
    {
     "cell_type": "code",
     "collapsed": false,
     "input": [
      "btws = nx.betweenness_centrality(G, normalized=False)\n",
      "plt.bar(btws.keys(), btws.values())"
     ],
     "language": "python",
     "metadata": {},
     "outputs": [],
     "prompt_number": null
    },
    {
     "cell_type": "markdown",
     "metadata": {},
     "source": [
      "### Exercise\n",
      "\n",
      "Plot the betweenness centrality of each node against the counts you found in problem 3 and 4."
     ]
    },
    {
     "cell_type": "code",
     "collapsed": false,
     "input": [
      "# Possible answer: \n",
      "totals_sorted = [i[1] for i in sorted(zip(totals.keys(), totals.values()))]\n",
      "btws_sorted = [i[1] for i in sorted(zip(btws.keys(), btws.values())) if i[1] != 0] # conditional - because there are two nodes that have 0 neighbors\n",
      "plt.scatter(totals_sorted, btws_sorted)"
     ],
     "language": "python",
     "metadata": {},
     "outputs": [],
     "prompt_number": null
    },
    {
     "cell_type": "markdown",
     "metadata": {},
     "source": [
      "From the scatter plot, we can see that the dots don't all fall on the same line. Our algorithm might not exactly match the NetworkX algorithm for measuring centralities, but it's pretty close."
     ]
    },
    {
     "cell_type": "code",
     "collapsed": false,
     "input": [],
     "language": "python",
     "metadata": {},
     "outputs": []
    }
   ],
   "metadata": {}
  }
 ]
}
