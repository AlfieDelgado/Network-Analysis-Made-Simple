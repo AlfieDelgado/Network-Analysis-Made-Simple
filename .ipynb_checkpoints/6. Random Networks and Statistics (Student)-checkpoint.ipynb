{
 "metadata": {
  "name": "",
  "signature": "sha256:2d8063d23d7cfaf806f8eb2bda6bf8f4eb596e1caf0991ca440c8857b22c47e7"
 },
 "nbformat": 3,
 "nbformat_minor": 0,
 "worksheets": [
  {
   "cells": [
    {
     "cell_type": "markdown",
     "metadata": {},
     "source": [
      "# Introduction\n",
      "\n",
      "So... you've got some interesting property of the network uncovered. Is it real? How can you trust that what you've found **didn't arise by random chance**?\n",
      "\n",
      "One useful way of thinking by using generative models of random graphs. By \"generative\" and \"random\", we mean that the graph was generated using some statistical random model underlying it. This is essentially in the \"Bayesian\" tradition of modelling,.\n",
      "\n",
      "The alternative is a non-parametric way of thinking. This is where we don't assume some model that generated the data, and instead performs randomization on the data on hand to calculate statistics. Here, we assume that our randomization procedure is an appropriate random model for the network."
     ]
    },
    {
     "cell_type": "markdown",
     "metadata": {},
     "source": [
      "## Statistics Primer\n",
      "\n",
      "**Discrete Distributions:**\n",
      "\n",
      "- Bernoulli: probability p of success in 1 try (e.g. one flip of coin).\n",
      "- Binomial: probability p of success given n number of tries. `n * bernoulli trials` follows binomial distribution.\n",
      "- Poisson: processes with a per-unit rate.\n",
      "\n",
      "**Continuous Distributions:**\n",
      "\n",
      "- Uniform: equal probability over the range of probable values. Can also be made discrete.\n",
      "- Normal: everyone's favourite.\n",
      "\n",
      "We can also make up an arbitrary distribution of our own. :-)\n",
      "\n",
      "Because networks/graphs are essentially discrete objects, the core thing that one needs to keep in mind here is that *values are chosen proportional to its probability of being chosen*. This is not technically true for continuous distributions, but is analogously true. \n",
      "\n",
      "Network thinking, in and of itself, is non-intuitive. So is statistical thinking. Combining the two is the goal of this notebook :)."
     ]
    },
    {
     "cell_type": "markdown",
     "metadata": {},
     "source": [
      "\n",
      "## Statistical Test of Significance of Busy Routes\n",
      "\n",
      "If we think back to the graph made in the previous notebook, what kind of process might one imagine that gave rise to the data?\n",
      "\n",
      "**brainstorm session...**\n",
      "\n",
      "Group work."
     ]
    },
    {
     "cell_type": "markdown",
     "metadata": {},
     "source": [
      "## Discrete uniform distribution over all routes\n",
      "\n",
      "Assumptions of this model:\n",
      "\n",
      "1. Riders choose start station with uniform probability.\n",
      "2. They then choose a destination station with uniform probability.\n",
      "3. They ride it and the data are recorded.\n",
      "\n",
      "Under this model, what is the distribution of number of rides taken throughout the ? We can probably solve this analytically, but since we have ultra-cheap computational capabilities at our fingertips, might as well do it the brute-force way."
     ]
    },
    {
     "cell_type": "code",
     "collapsed": false,
     "input": [
      "import networkx as nx\n",
      "\n",
      "G = nx.read_gpickle('datasets/divvy_2013/divvy_graph.pkl')\n",
      "total_edges = sum([d['count'] for _,_,d in G.edges(data=True)])\n",
      "print(total_edges)"
     ],
     "language": "python",
     "metadata": {},
     "outputs": [
      {
       "output_type": "stream",
       "stream": "stdout",
       "text": [
        "759788\n"
       ]
      }
     ],
     "prompt_number": 1
    },
    {
     "cell_type": "markdown",
     "metadata": {},
     "source": [
      "### Exercise\n",
      "\n",
      "Implement a random model for the number of trips that are taken between two stations.\n",
      "\n",
      "Hint: You may wish to copy the nodes graph `G` into a new graph `G_random`. This can be done by:\n",
      "\n",
      "    G_random = nx.Graph()\n",
      "    G_random.add_nodes_from(G.nodes(data=True))"
     ]
    },
    {
     "cell_type": "code",
     "collapsed": false,
     "input": [],
     "language": "python",
     "metadata": {},
     "outputs": [],
     "prompt_number": 1
    },
    {
     "cell_type": "code",
     "collapsed": false,
     "input": [],
     "language": "python",
     "metadata": {},
     "outputs": [],
     "prompt_number": 1
    },
    {
     "cell_type": "code",
     "collapsed": false,
     "input": [],
     "language": "python",
     "metadata": {},
     "outputs": [],
     "prompt_number": 1
    },
    {
     "cell_type": "code",
     "collapsed": false,
     "input": [],
     "language": "python",
     "metadata": {},
     "outputs": [],
     "prompt_number": 1
    },
    {
     "cell_type": "code",
     "collapsed": false,
     "input": [],
     "language": "python",
     "metadata": {},
     "outputs": []
    }
   ],
   "metadata": {}
  }
 ]
}