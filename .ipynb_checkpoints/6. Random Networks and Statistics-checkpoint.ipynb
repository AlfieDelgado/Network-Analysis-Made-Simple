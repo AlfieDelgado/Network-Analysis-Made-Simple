{
 "metadata": {
  "name": "",
  "signature": "sha256:ff5e68ea1d3ec05a75f1c98d6ddf74f824d60ccc93771677f172dabdb565e59e"
 },
 "nbformat": 3,
 "nbformat_minor": 0,
 "worksheets": [
  {
   "cells": [
    {
     "cell_type": "markdown",
     "metadata": {},
     "source": [
      "# Introduction\n",
      "\n",
      "So... you've got some interesting property of the network uncovered. Is it real? How can you trust that what you've found **didn't arise by random chance**?\n",
      "\n",
      "One useful way of thinking by using generative models of random graphs. By \"generative\" and \"random\", we mean that the graph was generated using some statistical random model underlying it. This is essentially in the \"Bayesian\" tradition of modelling,.\n",
      "\n",
      "The alternative is a non-parametric way of thinking. This is where we don't assume some model that generated the data, and instead performs randomization on the data on hand to calculate statistics. Here, we assume that our randomization procedure is an appropriate random model for the network."
     ]
    },
    {
     "cell_type": "markdown",
     "metadata": {},
     "source": [
      "## Statistics Primer\n",
      "\n",
      "**Discrete Distributions:**\n",
      "\n",
      "- Bernoulli: probability p of success in 1 try (e.g. one flip of coin).\n",
      "- Binomial: probability p of success given n number of tries. `n * bernoulli trials` follows binomial distribution.\n",
      "- Poisson: processes with a per-unit rate.\n",
      "\n",
      "**Continuous Distributions:**\n",
      "\n",
      "- Uniform: equal probability over the range of probable values. Can also be made discrete.\n",
      "- Normal: everyone's favourite.\n",
      "\n",
      "We can also make up an arbitrary distribution of our own. :-)\n",
      "\n",
      "Because networks/graphs are essentially discrete objects, the core thing that one needs to keep in mind here is that *values are chosen proportional to its probability of being chosen*. This is not technically true for continuous distributions, but is analogously true. \n",
      "\n",
      "Network thinking, in and of itself, is non-intuitive. So is statistical thinking. Combining the two is the goal of this notebook :)."
     ]
    },
    {
     "cell_type": "markdown",
     "metadata": {},
     "source": [
      "\n",
      "## Statistical Test of Significance of Busy Routes\n",
      "\n",
      "If we think back to the graph made in the previous notebook, what kind of process might one imagine that gave rise to the data?\n",
      "\n",
      "**brainstorm session...**\n",
      "\n",
      "Group work."
     ]
    },
    {
     "cell_type": "markdown",
     "metadata": {},
     "source": [
      "## Discrete uniform distribution over all routes\n",
      "\n",
      "Assumptions of this model:\n",
      "\n",
      "1. Riders choose start station with uniform probability.\n",
      "2. They then choose a destination station with uniform probability.\n",
      "3. They ride it and the data are recorded.\n",
      "\n",
      "Under this model, what is the distribution of number of rides taken throughout the ? We can probably solve this analytically, but since we have ultra-cheap computational capabilities at our fingertips, might as well do it the brute-force way."
     ]
    },
    {
     "cell_type": "code",
     "collapsed": false,
     "input": [
      "import networkx as nx\n",
      "\n",
      "G = nx.read_gpickle('datasets/divvy_2013/divvy_graph.pkl')\n",
      "total_trips = sum([d['count'] for _,_,d in G.edges(data=True)])\n",
      "print(total_trips)"
     ],
     "language": "python",
     "metadata": {},
     "outputs": [
      {
       "output_type": "stream",
       "stream": "stdout",
       "text": [
        "759788\n"
       ]
      }
     ],
     "prompt_number": 2
    },
    {
     "cell_type": "markdown",
     "metadata": {},
     "source": [
      "### Exercise\n",
      "\n",
      "Calculate the expected number of trips between any two stations, assuming self-loops are allowed."
     ]
    },
    {
     "cell_type": "code",
     "collapsed": false,
     "input": [
      "float(total_trips) / len(G.nodes()) ** 2"
     ],
     "language": "python",
     "metadata": {},
     "outputs": [
      {
       "metadata": {},
       "output_type": "pyout",
       "prompt_number": 3,
       "text": [
        "8.44208888888889"
       ]
      }
     ],
     "prompt_number": 3
    },
    {
     "cell_type": "markdown",
     "metadata": {},
     "source": [
      "### Live Class Exercise\n",
      "\n",
      "Together, we will implement a random model for the number of trips that are taken between two stations.\n",
      "\n",
      "Hint: You may wish to copy the nodes graph `G` into a new graph `G_random`. This can be done by:\n",
      "\n",
      "    G_random = nx.Graph()\n",
      "    G_random.add_nodes_from(G.nodes(data=True))"
     ]
    },
    {
     "cell_type": "code",
     "collapsed": false,
     "input": [
      "# Grab all the nodes from G.\n",
      "G_random = nx.Graph()\n",
      "G_random.add_nodes_from(G.nodes(data=True))\n",
      "G_random.nodes(data=True)"
     ],
     "language": "python",
     "metadata": {},
     "outputs": []
    },
    {
     "cell_type": "code",
     "collapsed": false,
     "input": [
      "# Implement the procedure by brute force. You will find it takes a bit of time.......... but because we have so many people \n",
      "# in the class, we can brute force parallelize this :-).\n",
      "from random import sample, choice\n",
      "import math\n",
      "\n",
      "for i in range(math.ceil(total_trips/10)):\n",
      "    if i % 1000 == 0:\n",
      "        print(i)\n",
      "    n1 = choice(G_random.nodes())\n",
      "    n2 = choice(G_random.nodes()) #note: n1 and n2 might well be the same nodes.\n",
      "    if (n1, n2) not in G_random.edges():\n",
      "        G_random.add_edge(n1, n2, count=0)\n",
      "    else:\n",
      "        G_random.edge[n1][n2]['count'] += 1"
     ],
     "language": "python",
     "metadata": {},
     "outputs": []
    },
    {
     "cell_type": "code",
     "collapsed": false,
     "input": [
      "G_random.edges(data=True)"
     ],
     "language": "python",
     "metadata": {},
     "outputs": []
    },
    {
     "cell_type": "code",
     "collapsed": false,
     "input": [
      "# In preparation for the code, "
     ],
     "language": "python",
     "metadata": {},
     "outputs": []
    },
    {
     "cell_type": "code",
     "collapsed": false,
     "input": [
      "# Plot the distribution of counts in a re-distributed set of trips.\n",
      "G_random = nx.read_gpickle('datasets/divvy_2013/divvy_random.pkl')\n",
      "# Plot the distribution of counts throughout the network\n",
      "counts = [d['count'] for _,_,d in G_random.edges(data=True)]\n",
      "plt.hist(counts, bins=100)\n",
      "plt.show(s)"
     ],
     "language": "python",
     "metadata": {},
     "outputs": []
    }
   ],
   "metadata": {}
  }
 ]
}