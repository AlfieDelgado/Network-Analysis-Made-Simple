{
 "metadata": {
  "name": "",
  "signature": "sha256:b99dfb7302b4ae2ad77b12f4489cace84612669d206347d69a0134c0f8a3ebbc"
 },
 "nbformat": 3,
 "nbformat_minor": 0,
 "worksheets": [
  {
   "cells": [
    {
     "cell_type": "markdown",
     "metadata": {},
     "source": [
      "# Prerequisites"
     ]
    },
    {
     "cell_type": "markdown",
     "metadata": {},
     "source": [
      "Make sure you have Python installed, with the following packages:\n",
      "\n",
      "- `pandas`\n",
      "- `networkx`\n",
      "- `matplotlib`\n",
      "- `hiveplot`\n",
      "\n",
      "I recommend the Anaconda distribution of Python, for its ease of installation. You can download it here: https://store.continuum.io/cshop/anaconda/\n",
      "\n",
      "You may wish to create a new environment for the tutorial. Using Anaconda, I would recommend doing:\n",
      "\n",
      "    conda create -n net_tutorial\n",
      "    \n",
      "In Linux and Mac, to switch to that environment, you can do:\n",
      "\n",
      "    source activate net_tutorial\n",
      "    \n",
      "Windows users should do:\n",
      "\n",
      "    activate net_tutorial\n",
      "    \n",
      "Ensure that the packages as listed above are installed in this environment."
     ]
    },
    {
     "cell_type": "markdown",
     "metadata": {},
     "source": [
      "# Before we start...\n",
      "\n",
      "You will need to pair up! \n",
      "\n",
      "These are the pairing criteria:\n",
      "\n",
      "1. Given the following list comprehension: `[s for s in my_fav_things if s[\u2018name\u2019] == \u2018raindrops on roses\u2019]`\n",
      "    1. Provide a probable data structure for `s` and `my_fav_things`.\n",
      "    2. Pair up with someone who has a different answer.\n",
      "2. If you have never run an IPython notebook before, then pair up with someone who has.\n",
      "\n",
      "\n",
      "Following this, on the sheet of paper provided:\n",
      "\n",
      "- On one side, write the names of other people in the class whose names you know.\n",
      "- On the other side, write a list of cities that you've been to in the past two years. Criteria is: *I have stepped out of the port of entry and explored that city for at least 1 hour.*"
     ]
    },
    {
     "cell_type": "markdown",
     "metadata": {},
     "source": [
      "# Network Basics\n",
      "\n",
      "*All your relational problems are belong to networks. :-)*\n",
      "\n",
      "Networks, a.k.a. graphs, are an immensely useful modelling tool to model complex relational problems. \n",
      "\n",
      "Networks are comprised of two main entities:\n",
      "\n",
      "- Nodes: commonly represented as circles. In the academic literature, nodes are also known as \"vertices\".\n",
      "- Edges: commonly represented as lines between circles\n",
      "\n",
      "Edges denote relationships between the nodes.\n",
      "\n",
      "In a network, if two nodes are joined together by an edge, then they are neighbors of one another.\n",
      "\n",
      "There are generally two types of networks - directed and undirected. In undirected networks, edges do not have a directionality associated with them. In directed networks, they do."
     ]
    },
    {
     "cell_type": "markdown",
     "metadata": {},
     "source": [
      "# Examples of Networks\n",
      "\n",
      "1. Facebook's network: Individuals are nodes, edges are drawn between individuals who are FB friends with one another. This would likely be modeled as an **undirected network**.\n",
      "2. Air traffic network: Airports are nodes, flights between airports are the edges. This would likely be modeled as a **directed network**.\n",
      "3. Stock market correlation network: Individual stocks are nodes, stocks whose prices are highly correlated together (beyond some defined correlation threshold) are joined by edges. Directed or undirected?\n",
      "4. Biologists commonly draw networks between interacting proteins. Proteins are nodes, experimentally-known interactions are the edges. Directed or undirected?\n",
      "\n",
      "Can you think of any others?\n",
      "\n",
      "The key questions here are as follows. How do we...:\n",
      "\n",
      "1. model a problem as a network?\n",
      "2. extract useful information from a network?"
     ]
    },
    {
     "cell_type": "markdown",
     "metadata": {},
     "source": [
      "# Take-Homes\n",
      "\n",
      "It is my hope that when you leave this tutorial, practically, you will be equipped to:\n",
      "\n",
      "- Use NetworkX to construct graphs in the IPython environment.\n",
      "- Model your data using nodes and edges.\n",
      "- Compute network statistics.\n",
      "- Visualize network data using node-link diagrams, heat maps, Circos plots and Hive plots.\n",
      "\n",
      "From a broader perspective, I hope you will be able to:\n",
      "\n",
      "- Think in terms of \"interactions\" between entities, and not just think about the entities themselves.\n",
      "- Think through statistical problems in network analysis."
     ]
    },
    {
     "cell_type": "markdown",
     "metadata": {},
     "source": [
      "# Credits\n",
      "\n",
      "Much of this work is inspired by Prof. Allen Downey (Olin College of Engineering) and Prof. Jukka-Pekka Onnela (Harvard School of Public Health).\n",
      "\n",
      "Hive and Circos Plots' original inventor is Martin Krzywinsky of the BC Genome Sciences Center.\n",
      "\n",
      "Circos plots were implemented with help from Justin Zabilansky (MIT).\n",
      "\n",
      "Many thanks to the PyCon Rehearsal class for providing feedback on the material."
     ]
    },
    {
     "cell_type": "markdown",
     "metadata": {},
     "source": [
      "# The Data\n",
      "In this tutorial, we will go through two data sets. \n",
      "\n",
      "The first one is a small-scale, synthetic social network between 30 individuals, to illustrate some of the basic concepts when constructing and analyzing networks. I will use this data set for the first half of the tutorial.\n",
      "\n",
      "The second one is a larger-scale bicycle sharing data set, publicly available on the Divvy website, but also included with this tutorial. You will use this data set during the free hacking time.\n",
      "\n",
      "We will also be constructing our own name-knowledge network in-class, as well as a city-people bipartite graph."
     ]
    },
    {
     "cell_type": "code",
     "collapsed": false,
     "input": [],
     "language": "python",
     "metadata": {},
     "outputs": []
    }
   ],
   "metadata": {}
  }
 ]
}