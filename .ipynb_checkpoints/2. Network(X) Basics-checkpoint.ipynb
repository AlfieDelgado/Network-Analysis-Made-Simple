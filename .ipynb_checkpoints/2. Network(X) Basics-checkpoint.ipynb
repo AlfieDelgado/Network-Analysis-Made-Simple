{
 "metadata": {
  "name": "",
  "signature": "sha256:c6d452df0497dfe2426654017498af6183746db17c32a940e1940af169f2e1da"
 },
 "nbformat": 3,
 "nbformat_minor": 0,
 "worksheets": [
  {
   "cells": [
    {
     "cell_type": "code",
     "collapsed": false,
     "input": [
      "import networkx as nx\n",
      "from datetime import datetime\n",
      "import matplotlib.pyplot as plt\n",
      "import numpy as np\n",
      "\n",
      "%matplotlib inline"
     ],
     "language": "python",
     "metadata": {},
     "outputs": [],
     "prompt_number": 21
    },
    {
     "cell_type": "markdown",
     "metadata": {},
     "source": [
      "# Nodes and Edges: How do we represent relationships between individuals using NetworkX?\n",
      "\n",
      "As mentioned earlier, networks, also known as graphs, are comprised of individual entities and their representatives. The technical term for these are nodes and edges, and when we draw them we typically use circles (nodes) and lines (edges). \n",
      "\n",
      "In this notebook, we will work with a synthetic (i.e. simulated) social network, in which nodes are individual people, and edges represent their relationships. If two nodes have an edge between them, then those two individauls know one another. "
     ]
    },
    {
     "cell_type": "markdown",
     "metadata": {},
     "source": [
      "# Synthetic Social Network\n",
      "\n",
      "With this synthetic social network, we will attempt to answer the following basic questions using the NetworkX API:\n",
      "\n",
      "1. How many people are present in the network?\n",
      "2. What is the distribution of attributes of the people in this network?\n",
      "2. How many relationships are represented in the network?\n",
      "3. What is the distribution of the number of friends that each person has?\n",
      "\n",
      "First off, let's load up the synthetic social network. This will show you through some of the basics of NetworkX.\n",
      "\n",
      "For those who are interested, I simply created an Erd\u00f5s-R\u00e9nyi graph with `n=30` and `p=0.1`. I used randomized functions that I wrote to generate attributes and append them to each node and edge. I then pickled the graph to disk."
     ]
    },
    {
     "cell_type": "code",
     "collapsed": false,
     "input": [
      "G = nx.read_gpickle('Synthetic Social Network.pkl')\n",
      "nx.draw(G)"
     ],
     "language": "python",
     "metadata": {},
     "outputs": [
      {
       "metadata": {},
       "output_type": "display_data",
       "png": "[encoded data removed]",
       "text": [
        "<matplotlib.figure.Figure at 0x104921940>"
       ]
      }
     ],
     "prompt_number": 3
    },
    {
     "cell_type": "markdown",
     "metadata": {},
     "source": [
      "# Basic Network Statistics\n",
      "Let's first understand how many people and relationships are represented in the network."
     ]
    },
    {
     "cell_type": "code",
     "collapsed": false,
     "input": [
      "# Who are represented in the network?\n",
      "G.nodes()"
     ],
     "language": "python",
     "metadata": {},
     "outputs": [
      {
       "metadata": {},
       "output_type": "pyout",
       "prompt_number": 4,
       "text": [
        "[0,\n",
        " 1,\n",
        " 2,\n",
        " 3,\n",
        " 4,\n",
        " 5,\n",
        " 6,\n",
        " 7,\n",
        " 8,\n",
        " 9,\n",
        " 10,\n",
        " 11,\n",
        " 12,\n",
        " 13,\n",
        " 14,\n",
        " 15,\n",
        " 16,\n",
        " 17,\n",
        " 18,\n",
        " 19,\n",
        " 20,\n",
        " 21,\n",
        " 22,\n",
        " 23,\n",
        " 24,\n",
        " 25,\n",
        " 26,\n",
        " 27,\n",
        " 28,\n",
        " 29]"
       ]
      }
     ],
     "prompt_number": 4
    },
    {
     "cell_type": "markdown",
     "metadata": {},
     "source": [
      "Exercise: Can you write a single line of code that returns the number of individuals represented? (max. 1 min)"
     ]
    },
    {
     "cell_type": "code",
     "collapsed": false,
     "input": [
      "len(G.nodes())"
     ],
     "language": "python",
     "metadata": {},
     "outputs": [
      {
       "metadata": {},
       "output_type": "pyout",
       "prompt_number": 5,
       "text": [
        "30"
       ]
      }
     ],
     "prompt_number": 5
    },
    {
     "cell_type": "code",
     "collapsed": false,
     "input": [
      "# Who is connected to who in the network?\n",
      "G.edges()"
     ],
     "language": "python",
     "metadata": {},
     "outputs": [
      {
       "metadata": {},
       "output_type": "pyout",
       "prompt_number": 6,
       "text": [
        "[(0, 10),\n",
        " (0, 19),\n",
        " (0, 12),\n",
        " (1, 4),\n",
        " (1, 2),\n",
        " (1, 3),\n",
        " (1, 12),\n",
        " (1, 29),\n",
        " (2, 16),\n",
        " (2, 3),\n",
        " (2, 6),\n",
        " (2, 19),\n",
        " (3, 8),\n",
        " (3, 6),\n",
        " (3, 23),\n",
        " (4, 19),\n",
        " (4, 28),\n",
        " (6, 23),\n",
        " (7, 24),\n",
        " (7, 25),\n",
        " (8, 17),\n",
        " (8, 22),\n",
        " (9, 24),\n",
        " (9, 17),\n",
        " (9, 11),\n",
        " (10, 11),\n",
        " (10, 21),\n",
        " (11, 14),\n",
        " (12, 19),\n",
        " (12, 29),\n",
        " (13, 16),\n",
        " (13, 24),\n",
        " (13, 14),\n",
        " (14, 17),\n",
        " (14, 25),\n",
        " (15, 24),\n",
        " (15, 28),\n",
        " (16, 17),\n",
        " (16, 19),\n",
        " (17, 19),\n",
        " (19, 22),\n",
        " (19, 27),\n",
        " (20, 27),\n",
        " (20, 23),\n",
        " (21, 27),\n",
        " (21, 26),\n",
        " (25, 28),\n",
        " (26, 29)]"
       ]
      }
     ],
     "prompt_number": 6
    },
    {
     "cell_type": "markdown",
     "metadata": {},
     "source": [
      "### Exercise\n",
      "\n",
      "Can you write a single line of code that returns the number of relationships represented? (max 10 seconds)"
     ]
    },
    {
     "cell_type": "code",
     "collapsed": false,
     "input": [
      "len(G.edges())"
     ],
     "language": "python",
     "metadata": {},
     "outputs": [
      {
       "metadata": {},
       "output_type": "pyout",
       "prompt_number": 7,
       "text": [
        "48"
       ]
      }
     ],
     "prompt_number": 7
    },
    {
     "cell_type": "markdown",
     "metadata": {},
     "source": [
      "Since this is a social network of people, there'll be attributes for each individual, such as age, and sex. We can grab that data off from the attributes that are stored with each node."
     ]
    },
    {
     "cell_type": "code",
     "collapsed": false,
     "input": [
      "# Let's get a list of nodes with their attributes.\n",
      "G.nodes(data=True)\n",
      "\n",
      "# NetworkX will return a list of tuples in the form (node_id, attribute_dict) "
     ],
     "language": "python",
     "metadata": {},
     "outputs": [
      {
       "metadata": {},
       "output_type": "pyout",
       "prompt_number": 8,
       "text": [
        "[(0, {'sex': 'Male', 'age': 20}),\n",
        " (1, {'sex': 'Female', 'age': 21}),\n",
        " (2, {'sex': 'Male', 'age': 19}),\n",
        " (3, {'sex': 'Female', 'age': 29}),\n",
        " (4, {'sex': 'Male', 'age': 30}),\n",
        " (5, {'sex': 'Female', 'age': 26}),\n",
        " (6, {'sex': 'Male', 'age': 21}),\n",
        " (7, {'sex': 'Female', 'age': 17}),\n",
        " (8, {'sex': 'Male', 'age': 21}),\n",
        " (9, {'sex': 'Male', 'age': 14}),\n",
        " (10, {'sex': 'Male', 'age': 23}),\n",
        " (11, {'sex': 'Female', 'age': 17}),\n",
        " (12, {'sex': 'Male', 'age': 19}),\n",
        " (13, {'sex': 'Female', 'age': 27}),\n",
        " (14, {'sex': 'Female', 'age': 29}),\n",
        " (15, {'sex': 'Male', 'age': 14}),\n",
        " (16, {'sex': 'Female', 'age': 18}),\n",
        " (17, {'sex': 'Female', 'age': 21}),\n",
        " (18, {'sex': 'Male', 'age': 19}),\n",
        " (19, {'sex': 'Female', 'age': 19}),\n",
        " (20, {'sex': 'Female', 'age': 19}),\n",
        " (21, {'sex': 'Male', 'age': 21}),\n",
        " (22, {'sex': 'Female', 'age': 30}),\n",
        " (23, {'sex': 'Female', 'age': 25}),\n",
        " (24, {'sex': 'Male', 'age': 13}),\n",
        " (25, {'sex': 'Female', 'age': 24}),\n",
        " (26, {'sex': 'Male', 'age': 23}),\n",
        " (27, {'sex': 'Male', 'age': 21}),\n",
        " (28, {'sex': 'Female', 'age': 29}),\n",
        " (29, {'sex': 'Male', 'age': 25})]"
       ]
      }
     ],
     "prompt_number": 8
    },
    {
     "cell_type": "markdown",
     "metadata": {},
     "source": [
      "### Exercise\n",
      "\n",
      "Can you count how many males and females are represented in the graph? (2 min.)\n",
      "\n",
      "Hint: You may want to use the Counter object from the collections module."
     ]
    },
    {
     "cell_type": "code",
     "collapsed": false,
     "input": [
      "from collections import Counter\n",
      "Counter([d['sex'] for n, d in G.nodes(data=True)])"
     ],
     "language": "python",
     "metadata": {},
     "outputs": [
      {
       "metadata": {},
       "output_type": "pyout",
       "prompt_number": 9,
       "text": [
        "Counter({'Male': 15, 'Female': 15})"
       ]
      }
     ],
     "prompt_number": 9
    },
    {
     "cell_type": "markdown",
     "metadata": {},
     "source": [
      "Edges can also store attributes in their attribute dictionary."
     ]
    },
    {
     "cell_type": "code",
     "collapsed": false,
     "input": [
      "G.edges(data=True)"
     ],
     "language": "python",
     "metadata": {},
     "outputs": [
      {
       "metadata": {},
       "output_type": "pyout",
       "prompt_number": 10,
       "text": [
        "[(0, 10, {'date': datetime.datetime(2011, 6, 7, 0, 0)}),\n",
        " (0, 19, {'date': datetime.datetime(2011, 2, 12, 0, 0)}),\n",
        " (0, 12, {'date': datetime.datetime(2006, 8, 28, 0, 0)}),\n",
        " (1, 4, {'date': datetime.datetime(2009, 11, 8, 0, 0)}),\n",
        " (1, 2, {'date': datetime.datetime(2010, 8, 5, 0, 0)}),\n",
        " (1, 3, {'date': datetime.datetime(2005, 2, 3, 0, 0)}),\n",
        " (1, 12, {'date': datetime.datetime(2003, 3, 17, 0, 0)}),\n",
        " (1, 29, {'date': datetime.datetime(2005, 1, 15, 0, 0)}),\n",
        " (2, 16, {'date': datetime.datetime(2002, 5, 27, 0, 0)}),\n",
        " (2, 3, {'date': datetime.datetime(2009, 8, 13, 0, 0)}),\n",
        " (2, 6, {'date': datetime.datetime(2006, 1, 12, 0, 0)}),\n",
        " (2, 19, {'date': datetime.datetime(2010, 1, 6, 0, 0)}),\n",
        " (3, 8, {'date': datetime.datetime(2010, 6, 22, 0, 0)}),\n",
        " (3, 6, {'date': datetime.datetime(2009, 3, 20, 0, 0)}),\n",
        " (3, 23, {'date': datetime.datetime(2003, 11, 9, 0, 0)}),\n",
        " (4, 19, {'date': datetime.datetime(2007, 12, 4, 0, 0)}),\n",
        " (4, 28, {'date': datetime.datetime(2009, 5, 22, 0, 0)}),\n",
        " (6, 23, {'date': datetime.datetime(2011, 3, 4, 0, 0)}),\n",
        " (7, 24, {'date': datetime.datetime(2004, 9, 24, 0, 0)}),\n",
        " (7, 25, {'date': datetime.datetime(2009, 3, 21, 0, 0)}),\n",
        " (8, 17, {'date': datetime.datetime(2005, 11, 16, 0, 0)}),\n",
        " (8, 22, {'date': datetime.datetime(2010, 1, 22, 0, 0)}),\n",
        " (9, 24, {'date': datetime.datetime(2008, 12, 2, 0, 0)}),\n",
        " (9, 17, {'date': datetime.datetime(2009, 10, 11, 0, 0)}),\n",
        " (9, 11, {'date': datetime.datetime(2005, 4, 3, 0, 0)}),\n",
        " (10, 11, {'date': datetime.datetime(2005, 2, 6, 0, 0)}),\n",
        " (10, 21, {'date': datetime.datetime(2007, 1, 21, 0, 0)}),\n",
        " (11, 14, {'date': datetime.datetime(2010, 4, 28, 0, 0)}),\n",
        " (12, 19, {'date': datetime.datetime(2007, 12, 17, 0, 0)}),\n",
        " (12, 29, {'date': datetime.datetime(2008, 8, 27, 0, 0)}),\n",
        " (13, 16, {'date': datetime.datetime(2005, 5, 14, 0, 0)}),\n",
        " (13, 24, {'date': datetime.datetime(2006, 5, 7, 0, 0)}),\n",
        " (13, 14, {'date': datetime.datetime(2011, 3, 19, 0, 0)}),\n",
        " (14, 17, {'date': datetime.datetime(2008, 10, 17, 0, 0)}),\n",
        " (14, 25, {'date': datetime.datetime(2002, 6, 11, 0, 0)}),\n",
        " (15, 24, {'date': datetime.datetime(2007, 9, 2, 0, 0)}),\n",
        " (15, 28, {'date': datetime.datetime(2008, 3, 6, 0, 0)}),\n",
        " (16, 17, {'date': datetime.datetime(2002, 5, 20, 0, 0)}),\n",
        " (16, 19, {'date': datetime.datetime(2005, 8, 20, 0, 0)}),\n",
        " (17, 19, {'date': datetime.datetime(2006, 10, 13, 0, 0)}),\n",
        " (19, 22, {'date': datetime.datetime(2011, 11, 4, 0, 0)}),\n",
        " (19, 27, {'date': datetime.datetime(2009, 7, 27, 0, 0)}),\n",
        " (20, 27, {'date': datetime.datetime(2004, 1, 27, 0, 0)}),\n",
        " (20, 23, {'date': datetime.datetime(2007, 12, 3, 0, 0)}),\n",
        " (21, 27, {'date': datetime.datetime(2007, 2, 1, 0, 0)}),\n",
        " (21, 26, {'date': datetime.datetime(2006, 12, 14, 0, 0)}),\n",
        " (25, 28, {'date': datetime.datetime(2007, 2, 15, 0, 0)}),\n",
        " (26, 29, {'date': datetime.datetime(2006, 12, 19, 0, 0)})]"
       ]
      }
     ],
     "prompt_number": 10
    },
    {
     "cell_type": "markdown",
     "metadata": {},
     "source": [
      "In this synthetic social network, I have stored the date as a datetime object. Datetime objects have attributes, namely `.year`, `.month`, `.day`."
     ]
    },
    {
     "cell_type": "markdown",
     "metadata": {},
     "source": [
      "### Exercise\n",
      "\n",
      "Can you figure out the range of dates during which these relationships were forged? (2 min)"
     ]
    },
    {
     "cell_type": "code",
     "collapsed": false,
     "input": [
      "# Answer\n",
      "dates = [d['date'] for _, _, d in G.edges(data=True)]\n",
      "mindate = min(dates)\n",
      "maxdate = max(dates)\n",
      "print(mindate, maxdate)"
     ],
     "language": "python",
     "metadata": {},
     "outputs": [
      {
       "output_type": "stream",
       "stream": "stdout",
       "text": [
        "2002-05-20 00:00:00 2011-11-04 00:00:00\n"
       ]
      }
     ],
     "prompt_number": 11
    },
    {
     "cell_type": "markdown",
     "metadata": {},
     "source": [
      "Exercise: We found out that there are two individuals that we left out of the network, individual no. 31 and 32. They are one male (31) and one female (32), their ages are 22 and 24 respectively, they knew each other on 2010-01-09, and together, they both known individual 7, on 2009-12-11. Use the functions `G.add_node()` and `G.add_edge()` to introduce this data into the network. (5 min)"
     ]
    },
    {
     "cell_type": "code",
     "collapsed": false,
     "input": [
      "# Answer\n",
      "G.add_node(31, age=22, sex='Male')\n",
      "G.add_node(32, age=24, sex='Female')\n",
      "G.add_edge(31, 32, date=datetime(2010,1,9))\n",
      "G.add_edge(31, 7, date=datetime(2009,12,11))\n",
      "G.add_edge(32, 7, date=datetime(2009,12,11))"
     ],
     "language": "python",
     "metadata": {},
     "outputs": [],
     "prompt_number": 12
    },
    {
     "cell_type": "markdown",
     "metadata": {},
     "source": [
      "# Coding Patterns\n",
      "\n",
      "These are some recommended coding patterns when doing network analysis using NetworkX, which stem from my roughly two years of experience with the package."
     ]
    },
    {
     "cell_type": "markdown",
     "metadata": {},
     "source": [
      "## Iterating using List Comprehensions\n",
      "If you are using a list comprehension to iterate over nodes, rather than use: \n",
      "\n",
      "`[data['attr'] for node, data in G.nodes(data=True)]`\n",
      "\n",
      "I would recommend that you use the following for compactness: \n",
      "\n",
      "**`[d['attr'] for n, d in G.nodes(data=True)]`**\n",
      "\n",
      "And if the node is unimportant, you can do:\n",
      "\n",
      "**`[d['attr'] for _, d in G.nodes(data=True)]`**"
     ]
    },
    {
     "cell_type": "markdown",
     "metadata": {},
     "source": [
      "## Iterating over Edges using List Comprehensions\n",
      "\n",
      "A similar pattern can be used for edges:\n",
      "\n",
      "**`[n2 for n1, n2, d in G.edges(data=True)]`**\n",
      "\n",
      "or\n",
      "\n",
      "**`[n2 for _, n2, d in G.edges(data=True)]`**\n",
      "\n",
      "If the graph you are constructing is a directed graph, with a \"source\" and \"sink\" available, then I would recommend the following pattern:\n",
      "\n",
      "**`[(sc, sk) for sc, sk, d in G.edges(data=True)]`**\n",
      "\n",
      "or \n",
      "\n",
      "**`[d['attr'] for sc, sk, d in G.edges(data=True)]`**"
     ]
    },
    {
     "cell_type": "markdown",
     "metadata": {},
     "source": [
      "# Drawing Graphs\n",
      "\n",
      "As illustrated above, we can draw graphs using the `nx.draw()` function."
     ]
    },
    {
     "cell_type": "code",
     "collapsed": false,
     "input": [
      "nx.draw(G)"
     ],
     "language": "python",
     "metadata": {},
     "outputs": [
      {
       "metadata": {},
       "output_type": "display_data",
       "png": "[encoded data removed]",
       "text": [
        "<matplotlib.figure.Figure at 0x104921f98>"
       ]
      }
     ],
     "prompt_number": 13
    },
    {
     "cell_type": "markdown",
     "metadata": {},
     "source": [
      "We can also use a matrix to represent them. The nodes are on the x- and y- axes, and a filled square represent an edge between the nodes. This is done by using the `nx.to_numpy_matrix(G)` function.\n",
      "\n",
      "We then use `matplotlib`'s `pcolor(numpy_array)` function to plot. Because `pcolor` cannot take in numpy matrices, we will cast the matrix as an array of arrays, and then get `pcolor` to plot it."
     ]
    },
    {
     "cell_type": "code",
     "collapsed": false,
     "input": [
      "matrix = nx.to_numpy_matrix(G)\n",
      "\n",
      "plt.pcolor(np.array(matrix))\n",
      "plt.axes().set_aspect('equal') # set aspect ratio equal to get a square visualization\n",
      "plt.xlim(min(G.nodes()), max(G.nodes())) # set x and y limits to the number of nodes present.\n",
      "plt.ylim(min(G.nodes()), max(G.nodes()))\n",
      "plt.title('Adjacency Matrix')\n",
      "plt.show()"
     ],
     "language": "python",
     "metadata": {},
     "outputs": [
      {
       "metadata": {},
       "output_type": "display_data",
       "png": "[encoded data removed]",
       "text": [
        "<matplotlib.figure.Figure at 0x1105832b0>"
       ]
      }
     ],
     "prompt_number": 27
    },
    {
     "cell_type": "code",
     "collapsed": false,
     "input": [],
     "language": "python",
     "metadata": {},
     "outputs": []
    }
   ],
   "metadata": {}
  }
 ]
}