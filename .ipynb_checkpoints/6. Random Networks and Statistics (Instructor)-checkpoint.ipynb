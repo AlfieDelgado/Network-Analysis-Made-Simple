{
 "metadata": {
  "name": "",
  "signature": "sha256:26f6b0dfbd8e98c374016b25ca37848828874145aff1b8e1ebec774ccf4c3b2e"
 },
 "nbformat": 3,
 "nbformat_minor": 0,
 "worksheets": [
  {
   "cells": [
    {
     "cell_type": "markdown",
     "metadata": {},
     "source": [
      "# Introduction\n",
      "\n",
      "So... you've got some interesting property of the network uncovered. Is it real? How can you trust that what you've found **didn't arise by random chance**?\n",
      "\n",
      "One useful way of thinking by using generative models of random graphs. By \"generative\" and \"random\", we mean that the graph was generated using some statistical random model underlying it. This is essentially in the \"Bayesian\" tradition of modelling.\n",
      "\n",
      "The alternative is a non-parametric way of thinking. This is where we don't assume some model that generated the data, and instead performs randomization on the data on hand to calculate statistics. Here, we assume that our randomization procedure is an appropriate random model for the network."
     ]
    },
    {
     "cell_type": "markdown",
     "metadata": {},
     "source": [
      "## Statistics Primer\n",
      "\n",
      "**Discrete Distributions:**\n",
      "\n",
      "- Bernoulli: probability p of success in 1 try (e.g. one flip of coin).\n",
      "- Binomial: probability p of success given n number of tries. `n * bernoulli trials` follows binomial distribution.\n",
      "- Poisson: processes with a per-unit rate.\n",
      "\n",
      "**Continuous Distributions:**\n",
      "\n",
      "- Uniform: equal probability over the range of probable values. Can also be made discrete.\n",
      "- Normal: everyone's favourite.\n",
      "\n",
      "We can also make up an arbitrary distribution of our own. :-)"
     ]
    },
    {
     "cell_type": "markdown",
     "metadata": {},
     "source": [
      "## Statistical Test of Significance of Busy Routes\n",
      "\n",
      "If we think back to the graph made in the previous notebook, what kind of process might one imagine that gave rise to the data?\n",
      "\n",
      "**brainstorm session...**\n",
      "\n",
      "Group work."
     ]
    },
    {
     "cell_type": "markdown",
     "metadata": {},
     "source": [
      "## Discrete uniform distribution over all routes\n",
      "\n",
      "Assumptions of this model:\n",
      "\n",
      "1. Riders choose start station with uniform probability.\n",
      "2. They then choose a destination station with uniform probability.\n",
      "3. They ride it and the data are recorded.\n",
      "\n",
      "Under this model, what is the distribution of number of rides taken throughout the ? We can probably solve this analytically, but since we have ultra-cheap computational capabilities at our fingertips, might as well do it the brute-force way."
     ]
    },
    {
     "cell_type": "code",
     "collapsed": false,
     "input": [
      "import networkx as nx\n",
      "\n",
      "G = nx.read_gpickle('datasets/divvy_2013/divvy_graph.pkl')\n",
      "total_trips = sum([d['count'] for _,_,d in G.edges(data=True)])\n",
      "print(total_trips)"
     ],
     "language": "python",
     "metadata": {},
     "outputs": [
      {
       "output_type": "stream",
       "stream": "stdout",
       "text": [
        "759788\n"
       ]
      }
     ],
     "prompt_number": 20
    },
    {
     "cell_type": "markdown",
     "metadata": {},
     "source": [
      "### Exercise\n",
      "\n",
      "Calculate the expected number of trips between any two stations, assuming self-loops are allowed."
     ]
    },
    {
     "cell_type": "code",
     "collapsed": false,
     "input": [
      "float(total_trips) / len(G.nodes()) ** 2"
     ],
     "language": "python",
     "metadata": {},
     "outputs": [
      {
       "metadata": {},
       "output_type": "pyout",
       "prompt_number": 11,
       "text": [
        "8.44208888888889"
       ]
      }
     ],
     "prompt_number": 11
    },
    {
     "cell_type": "markdown",
     "metadata": {},
     "source": [
      "### Exercise\n",
      "\n",
      "Can you plot a histogram of the number of trips taken on each route?"
     ]
    },
    {
     "cell_type": "code",
     "collapsed": false,
     "input": [
      "from collections import Counter\n",
      "\n",
      "num_trips = [d['count'] for _,_,d in G.edges(data=True)]\n",
      "\n",
      "plt.bar(Counter(num_trips).keys(), Counter(num_trips).values())"
     ],
     "language": "python",
     "metadata": {},
     "outputs": [
      {
       "metadata": {},
       "output_type": "pyout",
       "prompt_number": 16,
       "text": [
        "<Container object of 406 artists>"
       ]
      },
      {
       "metadata": {},
       "output_type": "display_data",
       "png": "[encoded data removed]",
       "text": [
        "<matplotlib.figure.Figure at 0x113e95320>"
       ]
      }
     ],
     "prompt_number": 16
    },
    {
     "cell_type": "markdown",
     "metadata": {},
     "source": [
      "### Exercise\n",
      "\n",
      "Can you figure out the 2.5th, 97.5th, and 100th percentile of this distribution?\n",
      "\n",
      "Hint: You may wish to use `numpy`'s `percentile` function."
     ]
    },
    {
     "cell_type": "code",
     "collapsed": false,
     "input": [
      "import numpy as np\n",
      "\n",
      "np.percentile(num_trips, [2.5, 97.5, 100])"
     ],
     "language": "python",
     "metadata": {},
     "outputs": [
      {
       "metadata": {},
       "output_type": "pyout",
       "prompt_number": 18,
       "text": [
        "array([  1.00000000e+00,   1.10000000e+02,   2.11300000e+03])"
       ]
      }
     ],
     "prompt_number": 18
    },
    {
     "cell_type": "markdown",
     "metadata": {},
     "source": [
      "Computing the interval between the 2.5th to the 97.5th percentile effectively gives you a centered 95% mass of the distribution. Knowing this range can be quite useful in other data analysis cases."
     ]
    },
    {
     "cell_type": "markdown",
     "metadata": {},
     "source": [
      "### Live Class Exercise\n",
      "\n",
      "Together, we will implement a random model for the number of trips that are taken between two stations.\n",
      "\n",
      "In this procedure, we will copy the nodes graph `G` into a new graph `G_random`. This can be done by:\n",
      "\n",
      "    G_random = nx.Graph()\n",
      "    G_random.add_nodes_from(G.nodes(data=True))\n",
      "    \n",
      "Following that, we will manually map-reduce this computation."
     ]
    },
    {
     "cell_type": "code",
     "collapsed": false,
     "input": [
      "# Grab all the nodes from G.\n",
      "G_random = nx.Graph()\n",
      "G_random.add_nodes_from(G.nodes(data=True))\n",
      "G_random.nodes(data=True)"
     ],
     "language": "python",
     "metadata": {},
     "outputs": [],
     "prompt_number": 7
    },
    {
     "cell_type": "code",
     "collapsed": false,
     "input": [
      "# Implement the procedure by brute force. You will find it takes a bit of time.......... but because we have so many people \n",
      "# in the class, we can brute force parallelize this :-).\n",
      "from random import sample, choice\n",
      "import math\n",
      "\n",
      "n = 40 # the total number of students with Python 3.4 installed.\n",
      "\n",
      "for i in range(math.ceil(total_trips/n)):\n",
      "    if i % 1000 == 0:\n",
      "        print(i)\n",
      "    n1 = choice(G_random.nodes())\n",
      "    n2 = choice(G_random.nodes()) #note: n1 and n2 might well be the same nodes.\n",
      "    if (n1, n2) not in G_random.edges():\n",
      "        G_random.add_edge(n1, n2, count=0)\n",
      "    else:\n",
      "        G_random.edge[n1][n2]['count'] += 1"
     ],
     "language": "python",
     "metadata": {},
     "outputs": [],
     "prompt_number": 5
    },
    {
     "cell_type": "code",
     "collapsed": false,
     "input": [
      "your_id = 1 # change this number to the ID given to you.\n",
      "nx.write_gpickle(G_random, 'datasets/divvy_2013/divvy_random{0}.pkl'.format(your_id))"
     ],
     "language": "python",
     "metadata": {},
     "outputs": []
    },
    {
     "cell_type": "code",
     "collapsed": false,
     "input": [
      "# Load the graphs with randomly re-distributed trip counts as a list of graphs.\n",
      "import os\n",
      "\n",
      "def is_pkl(filename):\n",
      "    \"\"\"\n",
      "    Checks if a file is a pickled graph.\n",
      "    \"\"\"\n",
      "    if filename.split('.')[-1] == 'pkl':\n",
      "        return True\n",
      "    else:\n",
      "        return False\n",
      "    \n",
      "def is_divvy_random_graph(filename):\n",
      "    \"\"\"\n",
      "    Checks if it's a Divvy graph.\n",
      "    \"\"\"\n",
      "    if 'divvy_random' in filename:\n",
      "        return True\n",
      "    else:\n",
      "        return False\n",
      "    \n",
      "# Load the data into a list of graphs.\n",
      "divvy_random_graphs = []\n",
      "for f in os.listdir('datasets/divvy_2013'):\n",
      "    if is_pkl(f) and is_divvy_random_graph(f):\n",
      "        g = nx.read_gpickle('datasets/divvy_2013/{0}'.format(f))\n",
      "        divvy_random_graphs.append(g)"
     ],
     "language": "python",
     "metadata": {},
     "outputs": [],
     "prompt_number": 23
    },
    {
     "cell_type": "code",
     "collapsed": false,
     "input": [
      "# Plot the distribution of counts in a re-distributed set of trips.\n",
      "import matplotlib.pyplot as plt\n",
      "%matplotlib inline\n",
      "\n",
      "G_random_master = nx.Graph()\n",
      "\n",
      "for g in divvy_random_graphs:\n",
      "    for sc, sk, d in g.edges(data=True):\n",
      "        if (sc, sk) not in G_random_master.edges():\n",
      "            G_random_master.add_edge(sc, sk, count=d['count'])\n",
      "        if (sc, sk) in G_random_master.edges():\n",
      "            G_random_master.edge[sc][sk]['count'] += d['count']\n",
      "\n",
      "# Remove edges that have no counts\n",
      "for sc, sk, d in G_random_master.edges(data=True):\n",
      "    if d['count'] == 0:\n",
      "        G_random_master.remove_edge(sc, sk)\n",
      "\n",
      "# Plot the distribution of counts throughout the network\n",
      "counts = [d['count'] for _,_,d in G_random_master.edges(data=True)]\n",
      "plt.bar(Counter(counts).keys(), Counter(counts).values())\n",
      "plt.show()"
     ],
     "language": "python",
     "metadata": {},
     "outputs": []
    },
    {
     "cell_type": "code",
     "collapsed": false,
     "input": [
      "nx.write_gpickle(G_random_master, 'datasets/divvy_2013/divvy_random_master.pkl')"
     ],
     "language": "python",
     "metadata": {},
     "outputs": [],
     "prompt_number": 6
    },
    {
     "cell_type": "markdown",
     "metadata": {},
     "source": [
      "**Think about it...**\n",
      "\n",
      "Given the distribution of trip counts in the randomly re-distributed trips, what can we infer about the popularity of certain routes? Are they likely to have shown up in this random model?"
     ]
    },
    {
     "cell_type": "code",
     "collapsed": false,
     "input": [],
     "language": "python",
     "metadata": {},
     "outputs": []
    }
   ],
   "metadata": {}
  }
 ]
}