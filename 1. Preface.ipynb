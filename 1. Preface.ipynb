{
 "metadata": {
  "name": "",
  "signature": "sha256:7d49e14727346668dccb32bf135727fcb68f9068d91993bc78d9e449bc84e9db"
 },
 "nbformat": 3,
 "nbformat_minor": 0,
 "worksheets": [
  {
   "cells": [
    {
     "cell_type": "markdown",
     "metadata": {},
     "source": [
      "# Prerequisites"
     ]
    },
    {
     "cell_type": "markdown",
     "metadata": {},
     "source": [
      "Make sure you have Python installed, with the following packages:\n",
      "\n",
      "- `pandas`\n",
      "- `networkx`\n",
      "- `matplotlib`\n",
      "\n",
      "I recommend the Anaconda distribution of Python, for its ease of installation. You can download it here: https://store.continuum.io/cshop/anaconda/"
     ]
    },
    {
     "cell_type": "markdown",
     "metadata": {},
     "source": [
      "# Before we start...\n",
      "\n",
      "Please find someone with whom you share a similar number of years of Python programming experience. \u00b11 year is good. \n",
      "\n",
      "Exchange names, and then mutually check to ensure that you both have Python, `pandas`, `networkx`, `matplotlib` and `hiveplot` installed."
     ]
    },
    {
     "cell_type": "markdown",
     "metadata": {},
     "source": [
      "# Network Basics\n",
      "\n",
      "*All your relational problems are belong to networks. :-)*\n",
      "\n",
      "Networks, a.k.a. graphs, are an immensely useful modelling tool to model complex relational problems. \n",
      "\n",
      "Networks are comprised of two main entities:\n",
      "\n",
      "- Nodes: commonly represented as circles. In the academic literature, nodes are also known as \"vertices\".\n",
      "- Edges: commonly represented as lines between circles\n",
      "\n",
      "Edges denote relationships between the nodes."
     ]
    },
    {
     "cell_type": "markdown",
     "metadata": {},
     "source": [
      "# Examples of Networks\n",
      "\n",
      "1. Facebook's network: Individuals are nodes, edges are drawn between individuals who are FB friends with one another.\n",
      "2. Air traffic network: Airports are nodes, flights between airports are the edges.\n",
      "3. Stock market correlation network: Individual stocks are nodes, stocks whose prices are highly correlated together (beyond some defined threshold) are joined by edges.\n",
      "4. Biologists commonly draw networks between interacting proteins. Proteins are nodes, experimentally-known interactions are the edges.\n",
      "\n",
      "Can you think of any others?"
     ]
    },
    {
     "cell_type": "markdown",
     "metadata": {},
     "source": [
      "# The Data\n",
      "In this tutorial, we will go through thee data sets. \n",
      "\n",
      "The first one is a small-scale, synthetic social network between 30 individuals, to illustrate some of the basic concepts when constructing and analyzing networks. I will use this data set for the first half of the tutorial.\n",
      "\n",
      "The second one is a larger-scale bicycle sharing data set, publicly available on the Divvy website, but also included with this tutorial. You will use this data set during the free hacking time."
     ]
    },
    {
     "cell_type": "markdown",
     "metadata": {},
     "source": [
      "# Take-Homes\n",
      "\n",
      "It is my hope that when you leave this tutorial, practically, you will be equipped to:\n",
      "\n",
      "- Use NetworkX to construct graphs in the IPython environment.\n",
      "- Model your data using nodes and edges.\n",
      "- Compute network statistics.\n",
      "- Visualize network data using node-link diagrams and heat maps.\n",
      "\n",
      "From a broader perspective, I hope you will enjoy thinking in terms of relations on top of entities. :-)"
     ]
    },
    {
     "cell_type": "markdown",
     "metadata": {},
     "source": [
      "# Credits\n",
      "\n",
      "Much of this work is inspired by Prof. Allen Downey (Olin College of Engineering) and Prof. Jukka-Pekka Onnela (Harvard School of Public Health).\n",
      "\n",
      "Hive and Circos Plots' original inventor is Martin Krzywinsky of the BC Genome Sciences Center.\n",
      "\n",
      "Circos plots were implemented with help from Justin Zabilansky (MIT)."
     ]
    },
    {
     "cell_type": "code",
     "collapsed": false,
     "input": [],
     "language": "python",
     "metadata": {},
     "outputs": []
    }
   ],
   "metadata": {}
  }
 ]
}