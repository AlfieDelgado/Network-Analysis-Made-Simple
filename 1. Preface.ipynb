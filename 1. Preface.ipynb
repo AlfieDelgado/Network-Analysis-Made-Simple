{
 "cells": [
  {
   "cell_type": "markdown",
   "metadata": {
    "slideshow": {
     "slide_type": "slide"
    }
   },
   "source": [
    "# Before We Start!\n",
    "\n",
    "1. Github repository for these notebooks: github.com/ericmjl/Network-Analysis-Made-Simple/\n",
    "    1. Please clone the repository if you'd like to do the hands-on coding activities.\n",
    "1. Some of the coding activities are going to be hard! Be ready to discuss the problem with your fellow Pythonistas."
   ]
  },
  {
   "cell_type": "markdown",
   "metadata": {
    "slideshow": {
     "slide_type": "subslide"
    }
   },
   "source": [
    "# Pair Coding\n",
    "\n",
    "You may wish to pair up! Criteria for consideration:\n",
    "\n",
    "1. You are using legacy Python: Find someone with Python 3.\n",
    "1. You have never run a Jupyter notebook before.\n",
    "1. You cannot provide a plausible data structure for `s` and `my_fav_things` in the list comprehension: `[s for s in my_fav_things if s[‘name’] == ‘raindrops on roses’]`"
   ]
  },
  {
   "cell_type": "markdown",
   "metadata": {
    "slideshow": {
     "slide_type": "subslide"
    }
   },
   "source": [
    "# Prerequisites\n",
    "\n",
    "Use the `check_env.py` script provided in the repository to determine whether you need to install any new dependencies. You may do so while we quickly go through some background information."
   ]
  },
  {
   "cell_type": "markdown",
   "metadata": {
    "slideshow": {
     "slide_type": "slide"
    }
   },
   "source": [
    "# Network Basics\n",
    "\n",
    "*All your relational problems are belong to networks.*\n",
    "\n",
    "Networks, a.k.a. graphs, are an immensely useful modelling tool to model complex relational problems. \n",
    "\n",
    "Networks are comprised of two main entities:\n",
    "\n",
    "- Nodes: commonly represented as circles. In the academic literature, nodes are also known as \"vertices\".\n",
    "- Edges: commonly represented as lines between circles\n",
    "\n",
    "Edges denote relationships between the nodes.\n",
    "\n",
    "In a network, if two nodes are joined together by an edge, then they are neighbors of one another.\n",
    "\n",
    "There are generally two types of networks - directed and undirected. In undirected networks, edges do not have a directionality associated with them. In directed networks, they do."
   ]
  },
  {
   "cell_type": "markdown",
   "metadata": {
    "slideshow": {
     "slide_type": "slide"
    }
   },
   "source": [
    "# Examples of Networks\n",
    "\n",
    "1. Facebook's network: Individuals are nodes, edges are drawn between individuals who are FB friends with one another. **undirected network**.\n",
    "2. Air traffic network: Airports are nodes, flights between airports are the edges. **directed network**.\n",
    "\n",
    "Can you think of any others?\n",
    "\n",
    "The key questions here are as follows. How do we...:\n",
    "\n",
    "1. model a problem as a network?\n",
    "2. extract useful information from a network?"
   ]
  },
  {
   "cell_type": "markdown",
   "metadata": {
    "slideshow": {
     "slide_type": "slide"
    }
   },
   "source": [
    "# Take-Homes\n",
    "\n",
    "It is my hope that when you leave this tutorial, practically, you will be equipped to:\n",
    "\n",
    "- Use NetworkX to construct graphs in the IPython environment.\n",
    "- Model your data using nodes and edges.\n",
    "- Compute network statistics.\n",
    "- Visualize network data using node-link diagrams, heat maps, Circos plots and Hive plots."
   ]
  },
  {
   "cell_type": "markdown",
   "metadata": {
    "slideshow": {
     "slide_type": "subslide"
    }
   },
   "source": [
    "# Take-Homes (cont'd)\n",
    "\n",
    "From a broader perspective, I hope you will be able to:\n",
    "\n",
    "- Think in terms of \"interactions\" between entities, and not just think about the entities themselves.\n",
    "- Think through statistical problems in network analysis."
   ]
  },
  {
   "cell_type": "markdown",
   "metadata": {
    "slideshow": {
     "slide_type": "skip"
    }
   },
   "source": [
    "# Credits\n",
    "\n",
    "Much of this work is inspired by Prof. Allen Downey (Olin College of Engineering) and Prof. Jukka-Pekka Onnela (Harvard School of Public Health).\n",
    "\n",
    "Statistics methods are inspired by Dr. Jake Vanderplas, UW.\n",
    "\n",
    "Hive and Circos Plots' original inventor is Martin Krzywinsky of the BC Genome Sciences Center.\n",
    "\n",
    "Circos plots were implemented with help from Justin Zabilansky (MIT).\n",
    "\n",
    "Many thanks to the PyCon Rehearsal class for providing feedback on the material prior to PyCon 2015.\n",
    "\n",
    "Thank you all who attended actual iterations of this tutorial, at \n",
    "\n",
    "- PyCon 2015 (Montreal)\n",
    "- Data Science for Social Good (Boston)\n",
    "- PyData NYC 2015 (New York City)\n",
    "\n"
   ]
  },
  {
   "cell_type": "markdown",
   "metadata": {
    "slideshow": {
     "slide_type": "skip"
    }
   },
   "source": [
    "# The Data\n",
    "In this tutorial, we will go through two data sets. \n",
    "\n",
    "The first one is a small-scale, synthetic social network between 30 individuals, to illustrate some of the basic concepts when constructing and analyzing networks. I will use this data set for the entirety of this tutorial, to explore fundamental concepts in network analysis."
   ]
  },
  {
   "cell_type": "code",
   "execution_count": null,
   "metadata": {
    "collapsed": false
   },
   "outputs": [],
   "source": []
  }
 ],
 "metadata": {
  "celltoolbar": "Slideshow",
  "kernelspec": {
   "display_name": "Python 3",
   "language": "python",
   "name": "python3"
  },
  "language_info": {
   "codemirror_mode": {
    "name": "ipython",
    "version": 3
   },
   "file_extension": ".py",
   "mimetype": "text/x-python",
   "name": "python",
   "nbconvert_exporter": "python",
   "pygments_lexer": "ipython3",
   "version": "3.5.0"
  }
 },
 "nbformat": 4,
 "nbformat_minor": 0
}
