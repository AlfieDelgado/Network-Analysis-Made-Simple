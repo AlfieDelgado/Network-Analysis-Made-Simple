{
 "cells": [
  {
   "cell_type": "code",
   "execution_count": 1,
   "metadata": {
    "collapsed": true,
    "slideshow": {
     "slide_type": "slide"
    }
   },
   "outputs": [],
   "source": [
    "import networkx as nx\n",
    "import matplotlib.pyplot as plt\n",
    "from collections import Counter\n",
    "import warnings\n",
    "warnings.filterwarnings('ignore')\n",
    "\n",
    "%matplotlib inline\n",
    "\n",
    "# Load the pickled data without the new individuals added in the previous notebook.\n",
    "\n",
    "G = nx.read_gpickle('Synthetic Social Network.pkl')"
   ]
  },
  {
   "cell_type": "markdown",
   "metadata": {
    "slideshow": {
     "slide_type": "slide"
    }
   },
   "source": [
    "# Hubs: How do we evaluate the importance of some individuals in a network?\n",
    "\n",
    "Within a social network, there will be certain individuals which perform certain important functions. For example, there may be hyper-connected individuals who are connected to many, many more people. They would be of use in the spreading of information. Alternatively, if this were a disease contact network, identifying them would be useful in stopping the spread of diseases. How would one identify these people?"
   ]
  },
  {
   "cell_type": "markdown",
   "metadata": {
    "slideshow": {
     "slide_type": "slide"
    }
   },
   "source": [
    "## Approach 1: Neighbors\n",
    "\n",
    "One way we could compute this is to find out the number of people an individual is conencted to. NetworkX let's us do this by giving us a `G.neighbors(node)` function."
   ]
  },
  {
   "cell_type": "code",
   "execution_count": 24,
   "metadata": {
    "collapsed": false,
    "slideshow": {
     "slide_type": "fragment"
    }
   },
   "outputs": [
    {
     "data": {
      "text/plain": [
       "[4, 2, 3, 12, 29]"
      ]
     },
     "execution_count": 24,
     "metadata": {},
     "output_type": "execute_result"
    }
   ],
   "source": [
    "# Let's find out the number of neighbors that individual #7 has.\n",
    "G.neighbors(1)"
   ]
  },
  {
   "cell_type": "markdown",
   "metadata": {
    "slideshow": {
     "slide_type": "subslide"
    }
   },
   "source": [
    "### Exercise\n",
    "\n",
    "Can you create a ranked list of the importance of each individual, based on the number of neighbors they have? \n",
    "\n",
    "Hint: One suggested output would be a list of tuples, where the first element in each tuple is the node ID (an integer number), and the second element is a list of its neighbors.\n",
    "\n",
    "Hint: Python's `sorted(iterable, key=lambda x:...., reverse=True)` function may be of help here."
   ]
  },
  {
   "cell_type": "code",
   "execution_count": 3,
   "metadata": {
    "collapsed": false,
    "scrolled": true,
    "slideshow": {
     "slide_type": "fragment"
    }
   },
   "outputs": [
    {
     "data": {
      "text/plain": [
       "[(19, [0, 16, 2, 4, 22, 17, 27, 12]),\n",
       " (1, [4, 2, 3, 12, 29]),\n",
       " (2, [16, 1, 3, 6, 19]),\n",
       " (3, [8, 1, 2, 6, 23]),\n",
       " (17, [8, 9, 19, 14, 16]),\n",
       " (12, [0, 1, 19, 29]),\n",
       " (14, [17, 11, 13, 25]),\n",
       " (16, [17, 2, 19, 13]),\n",
       " (24, [9, 7, 13, 15]),\n",
       " (0, [10, 19, 12]),\n",
       " (4, [1, 19, 28]),\n",
       " (6, [2, 3, 23]),\n",
       " (8, [17, 3, 22]),\n",
       " (9, [24, 17, 11]),\n",
       " (10, [0, 11, 21]),\n",
       " (11, [9, 10, 14]),\n",
       " (13, [16, 24, 14]),\n",
       " (21, [10, 27, 26]),\n",
       " (23, [3, 20, 6]),\n",
       " (25, [28, 14, 7]),\n",
       " (27, [19, 20, 21]),\n",
       " (28, [25, 4, 15]),\n",
       " (29, [1, 26, 12]),\n",
       " (7, [24, 25]),\n",
       " (15, [24, 28]),\n",
       " (20, [27, 23]),\n",
       " (22, [8, 19]),\n",
       " (26, [21, 29]),\n",
       " (5, []),\n",
       " (18, [])]"
      ]
     },
     "execution_count": 3,
     "metadata": {},
     "output_type": "execute_result"
    }
   ],
   "source": [
    "# Possible Answers:\n",
    "sorted([n for n in G.nodes()], key=lambda x:len(G.neighbors(x)), reverse=True)\n",
    "sorted([(n, G.neighbors(n)) for n in G.nodes()], key=lambda x: len(x[1]), reverse=True)"
   ]
  },
  {
   "cell_type": "markdown",
   "metadata": {
    "slideshow": {
     "slide_type": "slide"
    }
   },
   "source": [
    "## Approach 2: Degree Centrality\n",
    "\n",
    "The number of other nodes that one node is connected to is a measure of its centrality. NetworkX implements a **degree centrality**, which is defined as the number of neighbors that a node has normalized to the number of individuals it could be connected to in the entire graph. This is accessed by using `nx.degree_centrality(G)`"
   ]
  },
  {
   "cell_type": "code",
   "execution_count": 4,
   "metadata": {
    "collapsed": false,
    "slideshow": {
     "slide_type": "fragment"
    }
   },
   "outputs": [
    {
     "data": {
      "text/plain": [
       "{0: 0.10344827586206896,\n",
       " 1: 0.1724137931034483,\n",
       " 2: 0.1724137931034483,\n",
       " 3: 0.1724137931034483,\n",
       " 4: 0.10344827586206896,\n",
       " 5: 0.0,\n",
       " 6: 0.10344827586206896,\n",
       " 7: 0.06896551724137931,\n",
       " 8: 0.10344827586206896,\n",
       " 9: 0.10344827586206896,\n",
       " 10: 0.10344827586206896,\n",
       " 11: 0.10344827586206896,\n",
       " 12: 0.13793103448275862,\n",
       " 13: 0.10344827586206896,\n",
       " 14: 0.13793103448275862,\n",
       " 15: 0.06896551724137931,\n",
       " 16: 0.13793103448275862,\n",
       " 17: 0.1724137931034483,\n",
       " 18: 0.0,\n",
       " 19: 0.27586206896551724,\n",
       " 20: 0.06896551724137931,\n",
       " 21: 0.10344827586206896,\n",
       " 22: 0.06896551724137931,\n",
       " 23: 0.10344827586206896,\n",
       " 24: 0.13793103448275862,\n",
       " 25: 0.10344827586206896,\n",
       " 26: 0.06896551724137931,\n",
       " 27: 0.10344827586206896,\n",
       " 28: 0.10344827586206896,\n",
       " 29: 0.10344827586206896}"
      ]
     },
     "execution_count": 4,
     "metadata": {},
     "output_type": "execute_result"
    }
   ],
   "source": [
    "nx.degree_centrality(G) "
   ]
  },
  {
   "cell_type": "markdown",
   "metadata": {
    "slideshow": {
     "slide_type": "subslide"
    }
   },
   "source": [
    "If you inspect the dictionary closely, you will find that node 19 is the one that has the highest degree centrality, just as we had measured by counting the number of neighbors.\n",
    "\n",
    "There are other measures of centrality, namely **betweenness centrality**, **flow centrality** and **load centrality**. You can take a look at their definitions on the NetworkX API docs and their cited references. You can also define your own measures if those don't fit your needs, but that is an advanced topic that won't be dealt with here.\n",
    "\n",
    "The NetworkX API docs that document the centrality measures are here: http://networkx.readthedocs.io/en/networkx-1.11/reference/algorithms.centrality.html?highlight=centrality#module-networkx.algorithms.centrality"
   ]
  },
  {
   "cell_type": "markdown",
   "metadata": {
    "slideshow": {
     "slide_type": "subslide"
    }
   },
   "source": [
    "### Exercises\n",
    "\n",
    "1. Can you create a histogram of the distribution of degree centralities?\n",
    "2. Can you create a histogram of the distribution of number of neighbors?\n",
    "3. Can you create a scatterplot of the degree centralities against number of neighbors?\n",
    "4. If I have `n` nodes, then how many possible edges are there in total, assuming self-edges are allowed? What if self-edges are not allowed?"
   ]
  },
  {
   "cell_type": "markdown",
   "metadata": {
    "slideshow": {
     "slide_type": "subslide"
    }
   },
   "source": [
    "Hint: You may want to use:\n",
    "\n",
    "    plt.hist(list_of_values)\n",
    "\n",
    "and \n",
    "\n",
    "    plt.scatter(x_values, y_values)\n",
    "\n",
    "If you know the Matplotlib API, feel free to get fancy :)."
   ]
  },
  {
   "cell_type": "code",
   "execution_count": 5,
   "metadata": {
    "collapsed": false,
    "slideshow": {
     "slide_type": "subslide"
    }
   },
   "outputs": [
    {
     "data": {
      "text/plain": [
       "<matplotlib.text.Text at 0x10bae7d68>"
      ]
     },
     "execution_count": 5,
     "metadata": {},
     "output_type": "execute_result"
    },
    {
     "data": {
      "image/png": "[encoded data removed]",
      "text/plain": [
       "<matplotlib.figure.Figure at 0x109e78b00>"
      ]
     },
     "metadata": {},
     "output_type": "display_data"
    }
   ],
   "source": [
    "# Possible Answers:\n",
    "fig = plt.figure(0)\n",
    "degree_centralities = [v for k, v in nx.degree_centrality(G).items()]\n",
    "plt.hist(degree_centralities)\n",
    "plt.title('Degree Centralities')"
   ]
  },
  {
   "cell_type": "code",
   "execution_count": 6,
   "metadata": {
    "collapsed": false,
    "slideshow": {
     "slide_type": "subslide"
    }
   },
   "outputs": [
    {
     "data": {
      "text/plain": [
       "<matplotlib.text.Text at 0x10bfab6d8>"
      ]
     },
     "execution_count": 6,
     "metadata": {},
     "output_type": "execute_result"
    },
    {
     "data": {
      "image/png": "[encoded data removed]",
      "text/plain": [
       "<matplotlib.figure.Figure at 0x109e78f28>"
      ]
     },
     "metadata": {},
     "output_type": "display_data"
    }
   ],
   "source": [
    "fig = plt.figure(1)\n",
    "neighbors = [len(G.neighbors(node)) for node in G.nodes()]\n",
    "plt.hist(neighbors)\n",
    "plt.title('Number of Neighbors')"
   ]
  },
  {
   "cell_type": "code",
   "execution_count": 7,
   "metadata": {
    "collapsed": false,
    "slideshow": {
     "slide_type": "subslide"
    }
   },
   "outputs": [
    {
     "data": {
      "text/plain": [
       "<matplotlib.text.Text at 0x10bf8de48>"
      ]
     },
     "execution_count": 7,
     "metadata": {},
     "output_type": "execute_result"
    },
    {
     "data": {
      "image/png": "[encoded data removed]",
      "text/plain": [
       "<matplotlib.figure.Figure at 0x10c130208>"
      ]
     },
     "metadata": {},
     "output_type": "display_data"
    }
   ],
   "source": [
    "fig = plt.figure(2)\n",
    "plt.scatter(degree_centralities, neighbors)\n",
    "plt.xlabel('Degree Centralities')\n",
    "plt.ylabel('Number of Neighbors')"
   ]
  },
  {
   "cell_type": "markdown",
   "metadata": {
    "slideshow": {
     "slide_type": "slide"
    }
   },
   "source": [
    "# Paths in a Network\n",
    "\n",
    "Graph traversal is akin to walking along the graph, node by node, restricted by the edges that connect the nodes. Graph traversal is particularly useful for understanding the local structure (e.g. connectivity, retrieving the exact relationships) of certain portions of the graph and for finding paths that connect two nodes in the network. \n",
    "\n",
    "Using the synthetic social network, we will figure out how to answer the following questions:\n",
    "\n",
    "1. How long will it take for a message to spread through this group of friends? (making some assumptions, of course)\n",
    "2. How do we find the shortest path to get from individual A to individual B?"
   ]
  },
  {
   "cell_type": "markdown",
   "metadata": {
    "slideshow": {
     "slide_type": "subslide"
    }
   },
   "source": [
    "## Shortest Path"
   ]
  },
  {
   "cell_type": "code",
   "execution_count": 8,
   "metadata": {
    "collapsed": false,
    "slideshow": {
     "slide_type": "fragment"
    }
   },
   "outputs": [
    {
     "data": {
      "image/png": "[encoded data removed]",
      "text/plain": [
       "<matplotlib.figure.Figure at 0x10c1381d0>"
      ]
     },
     "metadata": {},
     "output_type": "display_data"
    }
   ],
   "source": [
    "nx.draw(G, with_labels=True)"
   ]
  },
  {
   "cell_type": "markdown",
   "metadata": {
    "slideshow": {
     "slide_type": "subslide"
    }
   },
   "source": [
    "Let's say we wanted to find the shortest path between two nodes. How would we approach this? One approach is what one would call a **breadth-first search** (http://en.wikipedia.org/wiki/Breadth-first_search). While not necessarily the fastest, it is the easiest to conceptualize. "
   ]
  },
  {
   "cell_type": "markdown",
   "metadata": {
    "slideshow": {
     "slide_type": "subslide"
    }
   },
   "source": [
    "The approach is essentially as such:\n",
    "\n",
    "1. Begin with a queue of the starting node.\n",
    "2. Add the neighbors of that node to the queue.\n",
    "    1. If destination node is present in the queue, end.\n",
    "    2. If destination node is not present, proceed.\n",
    "3. For each node in the queue:\n",
    "    1. Remove node from the queue.\n",
    "    2. Add neighbors of the node to the queue. Check if destination node is present or not.\n",
    "    3. If destination node is present, end. Credit: @cavaunpeu for finding bug in pseudocode.\n",
    "    4. If destination node is not present, continue."
   ]
  },
  {
   "cell_type": "markdown",
   "metadata": {
    "slideshow": {
     "slide_type": "subslide"
    }
   },
   "source": [
    "### Exercise\n",
    "\n",
    "Try implementing this algorithm in a function called `path_exists(node1, node2, G)`.\n",
    "\n",
    "The function should take in two nodes, `node1` and `node2`, and the graph `G` that they belong to, and return a Boolean that indicates whether a path exists between those two nodes or not. For convenience, also print out whether a path exists or not between the two node.s"
   ]
  },
  {
   "cell_type": "code",
   "execution_count": 9,
   "metadata": {
    "collapsed": false,
    "slideshow": {
     "slide_type": "subslide"
    }
   },
   "outputs": [],
   "source": [
    "def path_exists(node1, node2, G):\n",
    "    \"\"\"\n",
    "    This function checks whether a path exists between two nodes (node1, node2) in graph G.\n",
    "    \"\"\"\n",
    "    queue = [node1]\n",
    "    destination = node2\n",
    "    \n",
    "    for node in queue:\n",
    "        neighbors = G.neighbors(node)\n",
    "        if destination in neighbors:\n",
    "            print('Path exists between nodes {0} and {1}'.format(node1, node2))\n",
    "            return True\n",
    "            break\n",
    "        else:\n",
    "            queue.remove(node)\n",
    "            queue.extend(neighbors)\n",
    "        if len(queue) == 0:\n",
    "            print('Path does not exist between nodes {0} and {1}'.format(node1, node2))\n",
    "            return False\n",
    "    "
   ]
  },
  {
   "cell_type": "markdown",
   "metadata": {
    "slideshow": {
     "slide_type": "subslide"
    }
   },
   "source": [
    "And testing the function on a few test cases:\n",
    "\n",
    "- 18 and any other node (should return `False`)\n",
    "- 29 and 26 (should return `True`)"
   ]
  },
  {
   "cell_type": "code",
   "execution_count": 10,
   "metadata": {
    "collapsed": false,
    "slideshow": {
     "slide_type": "fragment"
    }
   },
   "outputs": [
    {
     "name": "stdout",
     "output_type": "stream",
     "text": [
      "Path does not exist between nodes 18 and 5\n",
      "Path exists between nodes 29 and 26\n"
     ]
    },
    {
     "data": {
      "text/plain": [
       "True"
      ]
     },
     "execution_count": 10,
     "metadata": {},
     "output_type": "execute_result"
    }
   ],
   "source": [
    "path_exists(18, 5, G)\n",
    "path_exists(29, 26, G)"
   ]
  },
  {
   "cell_type": "markdown",
   "metadata": {
    "slideshow": {
     "slide_type": "subslide"
    }
   },
   "source": [
    "If you write an algorithm that runs breadth-first, the recursion pattern is likely to follow what we have done above. If you do depth-first, the recursion pattern is likely to look a bit different. We can figure that out together later, if there is time.\n",
    "\n",
    "Meanwhile... thankfully, NetworkX has a function for us to use, titled `has_path`, so we don't have to implement this on our own. :-)\n",
    "\n",
    "http://networkx.readthedocs.io/en/networkx-1.11/reference/generated/networkx.algorithms.shortest_paths.generic.has_path.html"
   ]
  },
  {
   "cell_type": "code",
   "execution_count": 11,
   "metadata": {
    "collapsed": false,
    "slideshow": {
     "slide_type": "fragment"
    }
   },
   "outputs": [
    {
     "data": {
      "text/plain": [
       "False"
      ]
     },
     "execution_count": 11,
     "metadata": {},
     "output_type": "execute_result"
    }
   ],
   "source": [
    "nx.has_path(G, 18, 5)"
   ]
  },
  {
   "cell_type": "markdown",
   "metadata": {
    "slideshow": {
     "slide_type": "subslide"
    }
   },
   "source": [
    "NetworkX also has other shortest path algorithms implemented. \n",
    "\n",
    "http://networkx.readthedocs.io/en/networkx-1.11/reference/algorithms.shortest_paths.html\n",
    "\n",
    "We can build upon these to build our own graph query functions. Let's see if we can trace the shortest path from one node to another."
   ]
  },
  {
   "cell_type": "markdown",
   "metadata": {
    "slideshow": {
     "slide_type": "subslide"
    }
   },
   "source": [
    "`nx.shortest_path(G, source, target)` gives us a list of nodes that exist within one of the shortest paths between the two nodes. (Not all paths are guaranteed to be found.)"
   ]
  },
  {
   "cell_type": "code",
   "execution_count": 12,
   "metadata": {
    "collapsed": false,
    "slideshow": {
     "slide_type": "fragment"
    }
   },
   "outputs": [
    {
     "data": {
      "text/plain": [
       "[4, 19, 17, 14]"
      ]
     },
     "execution_count": 12,
     "metadata": {},
     "output_type": "execute_result"
    }
   ],
   "source": [
    "nx.shortest_path(G, 4, 14)"
   ]
  },
  {
   "cell_type": "markdown",
   "metadata": {
    "slideshow": {
     "slide_type": "fragment"
    }
   },
   "source": [
    "Incidentally, the node list is in order as well - we will travel through 19 and 17 in that order to get from 14 from 4."
   ]
  },
  {
   "cell_type": "markdown",
   "metadata": {
    "slideshow": {
     "slide_type": "subslide"
    }
   },
   "source": [
    "### Exercise\n",
    "\n",
    "Write a function that extracts the edges in the shortest path between two nodes and puts them into a new graph, and draws it to the screen. It should also return an error if there is no path between the two nodes.\n",
    "\n",
    "Hint: You may want to use `G.subgraph(iterable_of_nodes)` to extract just the nodes and edges of interest from the graph `G`. You might want to use the following lines of code somewhere:\n",
    "\n",
    "    newG = G.subgraph(nodes_of_interest)\n",
    "    nx.draw(newG)\n",
    "    \n",
    "newG will be comprised of the nodes of interest and the edges that connect them."
   ]
  },
  {
   "cell_type": "code",
   "execution_count": 13,
   "metadata": {
    "collapsed": false,
    "slideshow": {
     "slide_type": "subslide"
    }
   },
   "outputs": [
    {
     "data": {
      "image/png": "[encoded data removed]",
      "text/plain": [
       "<matplotlib.figure.Figure at 0x10c21eb00>"
      ]
     },
     "metadata": {},
     "output_type": "display_data"
    }
   ],
   "source": [
    "# Possible Answer:\n",
    "\n",
    "def extract_path_edges(G, source, target):\n",
    "    # Check to make sure that a path does exists between source and target.\n",
    "    if nx.has_path(G, source, target) == True:\n",
    "        nodes = nx.shortest_path(G, source, target)\n",
    "        newG = G.subgraph(nodes)\n",
    "        return newG\n",
    "\n",
    "    if nx.has_path(G, source, target) == False:\n",
    "        raise Exception('Path does not exist between nodes {0} and {1}.'.format(source, target))\n",
    "        \n",
    "newG = extract_path_edges(G, 1, 14)\n",
    "nx.draw(newG, with_labels=True)"
   ]
  },
  {
   "cell_type": "markdown",
   "metadata": {
    "slideshow": {
     "slide_type": "subslide"
    }
   },
   "source": [
    "### Exercise\n",
    "\n",
    "Since we've been drawing some graphs to screen, we might as well draw a few other things while we're on a roll.\n",
    "\n",
    "Write a function that extracts only node, its neighbors, and the edges between that node and its neighbors as a new graph. Then, draw the new graph to screen."
   ]
  },
  {
   "cell_type": "code",
   "execution_count": 14,
   "metadata": {
    "collapsed": false,
    "slideshow": {
     "slide_type": "subslide"
    }
   },
   "outputs": [
    {
     "data": {
      "image/png": "[encoded data removed]",
      "text/plain": [
       "<matplotlib.figure.Figure at 0x10c46b048>"
      ]
     },
     "metadata": {},
     "output_type": "display_data"
    }
   ],
   "source": [
    "# Possible Answer\n",
    "\n",
    "def extract_neighbor_edges(G, node):\n",
    "    neighbors = G.neighbors(node)\n",
    "    newG = nx.Graph()\n",
    "    \n",
    "    for n1, n2 in G.edges():\n",
    "        if (n1 == node and n2 in neighbors) or (n1 in neighbors and n2 == node):\n",
    "            newG.add_edge(n1, n2)\n",
    "            \n",
    "    return newG\n",
    "\n",
    "fig = plt.figure(0)\n",
    "newG = extract_neighbor_edges(G, 19)\n",
    "nx.draw(newG, with_labels=True)"
   ]
  },
  {
   "cell_type": "code",
   "execution_count": 15,
   "metadata": {
    "collapsed": false,
    "slideshow": {
     "slide_type": "subslide"
    }
   },
   "outputs": [
    {
     "data": {
      "image/png": "[encoded data removed]",
      "text/plain": [
       "<matplotlib.figure.Figure at 0x10c6c0198>"
      ]
     },
     "metadata": {},
     "output_type": "display_data"
    }
   ],
   "source": [
    "def extract_neighbor_edges2(G, node):\n",
    "    neighbors = G.neighbors(node)\n",
    "    newG = nx.Graph()\n",
    "    \n",
    "    for neighbor in neighbors:\n",
    "        if (node, neighbor) in G.edges() or (neighbor, node) in G.edges():\n",
    "            newG.add_edge(node, neighbor)\n",
    "\n",
    "    return newG\n",
    "\n",
    "fig = plt.figure(1)\n",
    "newG = extract_neighbor_edges2(G, 19)\n",
    "nx.draw(newG, with_labels=True)"
   ]
  },
  {
   "cell_type": "markdown",
   "metadata": {
    "slideshow": {
     "slide_type": "skip"
    }
   },
   "source": [
    "### Challenge Exercises (optional)\n",
    "\n",
    "Let's try some other problems that build on the NetworkX API.\n",
    "\n",
    "Refer to the following for the relevant functions:\n",
    "\n",
    "http://networkx.readthedocs.io/en/networkx-1.11/reference/algorithms.shortest_paths.html\n",
    "\n",
    "1. If we want a message to go from one person to another person, and we assume that the message takes 1 day for the initial step and 1 additional day per step in the transmission chain (i.e. the first step takes 1 day, the second step takes 2 days etc.), how long will the message take to spread from any two given individuals? Write a function to compute this.\n",
    "2. What is the distribution of message spread times from person to person? What about chain lengths?\n",
    "3. Are there certain individuals who consistently show up in the chain? (Hint: you might wish to use the following functions/objects:\n",
    "    1. `Counter` object from the `collections` module \n",
    "    2. `combinations` function from the `itertools` module.\n",
    "    3. `all_shortest_paths(G, node1, node2)` which is part of the networkX algorithms.\n",
    "4. As a bonus, if you were able to compute the answer to question 3, can you plot a histogram of the number of times each node shows up in a connecting path?"
   ]
  },
  {
   "cell_type": "code",
   "execution_count": 16,
   "metadata": {
    "collapsed": false,
    "slideshow": {
     "slide_type": "skip"
    }
   },
   "outputs": [
    {
     "data": {
      "text/plain": [
       "6"
      ]
     },
     "execution_count": 16,
     "metadata": {},
     "output_type": "execute_result"
    }
   ],
   "source": [
    "# Possible answer to Question 1:\n",
    "# All we need here is the length of the path.\n",
    "\n",
    "def compute_transmission_time(G, source, target):\n",
    "    \"\"\"\n",
    "    Fill in code below.\n",
    "    \"\"\"\n",
    "    length = nx.shortest_path_length(G, source, target)\n",
    "    \n",
    "    time = sum([i for i in range(1, length+1)])\n",
    "    \n",
    "    return time\n",
    "\n",
    "compute_transmission_time(G, 14, 4)       "
   ]
  },
  {
   "cell_type": "code",
   "execution_count": 17,
   "metadata": {
    "collapsed": false,
    "slideshow": {
     "slide_type": "skip"
    }
   },
   "outputs": [
    {
     "data": {
      "text/plain": [
       "<Container object of 7 artists>"
      ]
     },
     "execution_count": 17,
     "metadata": {},
     "output_type": "execute_result"
    },
    {
     "data": {
      "image/png": "[encoded data removed]",
      "text/plain": [
       "<matplotlib.figure.Figure at 0x10c6d62b0>"
      ]
     },
     "metadata": {},
     "output_type": "display_data"
    },
    {
     "data": {
      "image/png": "[encoded data removed]",
      "text/plain": [
       "<matplotlib.figure.Figure at 0x10c6d2ba8>"
      ]
     },
     "metadata": {},
     "output_type": "display_data"
    }
   ],
   "source": [
    "# Possible answer to Question 2:\n",
    "# We need to know the length of every single shortest path between every pair of nodes.\n",
    "# If we don't put a source and target into the nx.shortest_path_length(G) function call, then\n",
    "# we get a dictionary of dictionaries, where all source-->target-->lengths are shown.\n",
    "\n",
    "lengths = []\n",
    "times = []\n",
    "for source, sink_length in nx.shortest_path_length(G).items():\n",
    "    for sink, length in sink_length.items():\n",
    "        times.append(sum(range(1, length+1)))\n",
    "        lengths.append(length)\n",
    "        \n",
    "plt.figure(0)\n",
    "plt.bar(Counter(lengths).keys(), Counter(lengths).values())\n",
    "\n",
    "plt.figure(1)\n",
    "plt.bar(Counter(times).keys(), Counter(times).values())"
   ]
  },
  {
   "cell_type": "code",
   "execution_count": 18,
   "metadata": {
    "collapsed": false,
    "slideshow": {
     "slide_type": "skip"
    }
   },
   "outputs": [
    {
     "data": {
      "text/plain": [
       "Counter({0: 24,\n",
       "         1: 68,\n",
       "         2: 79,\n",
       "         3: 59,\n",
       "         4: 80,\n",
       "         6: 8,\n",
       "         7: 2,\n",
       "         8: 40,\n",
       "         9: 54,\n",
       "         10: 39,\n",
       "         11: 36,\n",
       "         12: 32,\n",
       "         13: 42,\n",
       "         14: 75,\n",
       "         15: 6,\n",
       "         16: 70,\n",
       "         17: 136,\n",
       "         19: 203,\n",
       "         20: 11,\n",
       "         21: 28,\n",
       "         22: 8,\n",
       "         23: 11,\n",
       "         24: 46,\n",
       "         25: 41,\n",
       "         26: 8,\n",
       "         27: 54,\n",
       "         28: 58,\n",
       "         29: 24})"
      ]
     },
     "execution_count": 18,
     "metadata": {},
     "output_type": "execute_result"
    }
   ],
   "source": [
    "# Possible answer to Question 3:\n",
    "from collections import Counter\n",
    "from itertools import combinations\n",
    "\n",
    "totals = Counter()\n",
    "for n1, n2 in combinations(G.nodes(), 2):\n",
    "    if nx.has_path(G, n1, n2):\n",
    "        for path in nx.all_shortest_paths(G, n1, n2):\n",
    "            path.pop(0)\n",
    "            path.pop(-1)\n",
    "            totals = totals + Counter(path)\n",
    "            \n",
    "totals"
   ]
  },
  {
   "cell_type": "code",
   "execution_count": 19,
   "metadata": {
    "collapsed": false,
    "slideshow": {
     "slide_type": "skip"
    }
   },
   "outputs": [
    {
     "data": {
      "text/plain": [
       "<Container object of 28 artists>"
      ]
     },
     "execution_count": 19,
     "metadata": {},
     "output_type": "execute_result"
    },
    {
     "data": {
      "image/png": "[encoded data removed]",
      "text/plain": [
       "<matplotlib.figure.Figure at 0x10baf8860>"
      ]
     },
     "metadata": {},
     "output_type": "display_data"
    }
   ],
   "source": [
    "# Possible answer to Question 4:\n",
    "plt.bar(totals.keys(), totals.values())"
   ]
  },
  {
   "cell_type": "markdown",
   "metadata": {
    "slideshow": {
     "slide_type": "slide"
    }
   },
   "source": [
    "# Hubs Revisited\n",
    "\n",
    "It looks like individual 19 is an important person of some sorts - if a message has to be passed through the network in the shortest time possible, then usually it'll go through person 19. Such a person has a high **betweenness centrality**. This is implemented as one of NetworkX's centrality algorithms. Check out the Wikipedia page for a further description.\n",
    "\n",
    "http://en.wikipedia.org/wiki/Betweenness_centrality"
   ]
  },
  {
   "cell_type": "code",
   "execution_count": 20,
   "metadata": {
    "collapsed": false,
    "slideshow": {
     "slide_type": "subslide"
    }
   },
   "outputs": [
    {
     "data": {
      "text/plain": [
       "<Container object of 30 artists>"
      ]
     },
     "execution_count": 20,
     "metadata": {},
     "output_type": "execute_result"
    },
    {
     "data": {
      "image/png": "[encoded data removed]",
      "text/plain": [
       "<matplotlib.figure.Figure at 0x10cbf0a58>"
      ]
     },
     "metadata": {},
     "output_type": "display_data"
    }
   ],
   "source": [
    "btws = nx.betweenness_centrality(G, normalized=False)\n",
    "plt.bar(btws.keys(), btws.values())"
   ]
  },
  {
   "cell_type": "markdown",
   "metadata": {
    "slideshow": {
     "slide_type": "subslide"
    }
   },
   "source": [
    "### Exercise\n",
    "\n",
    "Plot betweeness centrality against degree centrality for the synthetic social network above."
   ]
  },
  {
   "cell_type": "code",
   "execution_count": 21,
   "metadata": {
    "collapsed": false,
    "slideshow": {
     "slide_type": "subslide"
    }
   },
   "outputs": [
    {
     "data": {
      "text/plain": [
       "<matplotlib.collections.PathCollection at 0x10cf6b160>"
      ]
     },
     "execution_count": 21,
     "metadata": {},
     "output_type": "execute_result"
    },
    {
     "data": {
      "image/png": "[encoded data removed]",
      "text/plain": [
       "<matplotlib.figure.Figure at 0x10cdc46d8>"
      ]
     },
     "metadata": {},
     "output_type": "display_data"
    }
   ],
   "source": [
    "# Possible answer:\n",
    "\n",
    "deg_centrality = nx.degree_centrality(G)\n",
    "btw_centrality = nx.betweenness_centrality(G)\n",
    "\n",
    "deg_cent_sorted = [i[1] for i in sorted(zip(deg_centrality.keys(), deg_centrality.values()))]\n",
    "btw_cent_sorted = [i[1] for i in sorted(zip(btw_centrality.keys(), btw_centrality.values()))]\n",
    "\n",
    "plt.scatter(deg_cent_sorted, btw_cent_sorted)"
   ]
  },
  {
   "cell_type": "markdown",
   "metadata": {
    "slideshow": {
     "slide_type": "subslide"
    }
   },
   "source": [
    "**Think about it...**\n",
    "\n",
    "From the scatter plot, we can see that the dots don't all fall on the same line. Degree centrality and betweenness centrality don't necessarily correlate. Can you think of a reason why?\n",
    "\n",
    "What would be the degree centrality and betweenness centrality of the middle connecting node in the **barbell graph** below?"
   ]
  },
  {
   "cell_type": "code",
   "execution_count": 22,
   "metadata": {
    "collapsed": false,
    "slideshow": {
     "slide_type": "subslide"
    }
   },
   "outputs": [
    {
     "data": {
      "image/png": "[encoded data removed]",
      "text/plain": [
       "<matplotlib.figure.Figure at 0x10cd0e9b0>"
      ]
     },
     "metadata": {},
     "output_type": "display_data"
    }
   ],
   "source": [
    "nx.draw(nx.barbell_graph(5, 1))"
   ]
  },
  {
   "cell_type": "code",
   "execution_count": null,
   "metadata": {
    "collapsed": false
   },
   "outputs": [],
   "source": []
  }
 ],
 "metadata": {
  "celltoolbar": "Slideshow",
  "kernelspec": {
   "display_name": "Python 3",
   "language": "python",
   "name": "python3"
  },
  "language_info": {
   "codemirror_mode": {
    "name": "ipython",
    "version": 3
   },
   "file_extension": ".py",
   "mimetype": "text/x-python",
   "name": "python",
   "nbconvert_exporter": "python",
   "pygments_lexer": "ipython3",
   "version": "3.5.0"
  },
  "widgets": {
   "state": {},
   "version": "1.1.1"
  }
 },
 "nbformat": 4,
 "nbformat_minor": 0
}
