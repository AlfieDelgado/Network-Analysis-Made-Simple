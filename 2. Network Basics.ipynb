{
 "metadata": {
  "name": ""
 },
 "nbformat": 3,
 "nbformat_minor": 0,
 "worksheets": [
  {
   "cells": [
    {
     "cell_type": "code",
     "collapsed": false,
     "input": [
      "import networkx as nx\n",
      "\n",
      "%matplotlib inline"
     ],
     "language": "python",
     "metadata": {},
     "outputs": [],
     "prompt_number": null
    },
    {
     "cell_type": "markdown",
     "metadata": {},
     "source": [
      "# Synthetic Social Network\n",
      "\n",
      "First off, let's load up the synthetic social network.\n",
      "\n",
      "For those who are interested, I simply created an Erd\u00f5s-R\u00e9nyi graph with `n=30` and `p=0.1`. I then pickled the graph to disk."
     ]
    },
    {
     "cell_type": "code",
     "collapsed": false,
     "input": [
      "G = nx.read_gpickle('Synthetic Social Network.pkl')\n",
      "nx.draw(G)"
     ],
     "language": "python",
     "metadata": {},
     "outputs": [],
     "prompt_number": null
    },
    {
     "cell_type": "markdown",
     "metadata": {},
     "source": [
      "Let's query the graph to see how many nodes and edges are present."
     ]
    },
    {
     "cell_type": "code",
     "collapsed": false,
     "input": [
      "# List of all nodes:\n",
      "G.nodes()"
     ],
     "language": "python",
     "metadata": {},
     "outputs": [],
     "prompt_number": null
    },
    {
     "cell_type": "code",
     "collapsed": false,
     "input": [
      "# List of all edges\n",
      "G.edges()"
     ],
     "language": "python",
     "metadata": {},
     "outputs": [],
     "prompt_number": null
    },
    {
     "cell_type": "markdown",
     "metadata": {},
     "source": [
      "Since this is a social network of people, there'll be attributes, such as age, and sex. We can grab that data off from the attributes that are stored with each node."
     ]
    },
    {
     "cell_type": "code",
     "collapsed": false,
     "input": [
      "G.node[0]['age'] = 20\n",
      "G.node[0]['sex'] = 'Male'\n",
      "\n",
      "import random as rnd\n",
      "\n",
      "traced_nodes = []\n",
      "for node in G.nodes():\n",
      "    traced_nodes.append(node)\n",
      "    neighbors = G.neighbors(node)\n",
      "    \n",
      "    ages = [G.node[n]['age'] for n in G.nodes() if 'age' in G.node[n].keys()]\n",
      "    sexes = [G.node[n]['sex'] for n in G.nodes() if 'sex' in G.node[n].keys()]\n",
      "    \n",
      "    rndaddage = int(rnd.random() * 10)\n",
      "    rndmultiplier = rnd.choice([-1, 1])\n",
      "    import numpy as np\n",
      "    mean_age = int(np.mean(ages))\n",
      "    age = rndaddage * rndmultiplier + mean_age\n",
      "    \n",
      "    sex = rnd.choice(['Male', 'Female'])\n",
      "    \n",
      "    G.node[node]['age'] = age\n",
      "    G.node[node]['sex'] = sex\n",
      "    \n",
      "traced_nodes"
     ],
     "language": "python",
     "metadata": {},
     "outputs": [],
     "prompt_number": null
    },
    {
     "cell_type": "code",
     "collapsed": false,
     "input": [
      "G.node"
     ],
     "language": "python",
     "metadata": {},
     "outputs": [],
     "prompt_number": null
    },
    {
     "cell_type": "code",
     "collapsed": false,
     "input": [],
     "language": "python",
     "metadata": {},
     "outputs": []
    }
   ],
   "metadata": {}
  }
 ]
}
