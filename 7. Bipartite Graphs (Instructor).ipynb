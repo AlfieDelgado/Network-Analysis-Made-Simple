{
 "metadata": {
  "name": "",
  "signature": "sha256:bbe56a02ff94d2d8ca78750ca4cde2b23e4e75e79da4b300ec5db6773681bf0f"
 },
 "nbformat": 3,
 "nbformat_minor": 0,
 "worksheets": [
  {
   "cells": [
    {
     "cell_type": "markdown",
     "metadata": {},
     "source": [
      "# Introduction\n",
      "\n",
      "Bipartite graphs are graphs that have two (bi-) partitions (-partite) of nodes. Nodes within each partition are not allowed to be connected to one another; rather, they can only be connected to nodes in the other partition.\n",
      "\n",
      "Bipartite graphs can be useful for modelling relations between two sets of entities. We will explore the construction and analysis of bipartite graphs here."
     ]
    },
    {
     "cell_type": "markdown",
     "metadata": {},
     "source": [
      "### Class Exercise\n",
      "\n",
      "Earlier on in class, I had asked you to write down a list of cities for which you had visited. Now, I would like you to go about creating the bipartite graph of people & cities in the class. You may wish to get up from your seats to finish this last task."
     ]
    },
    {
     "cell_type": "code",
     "collapsed": false,
     "input": [
      "import networkx as nx\n",
      "from networkx.algorithms import bipartite"
     ],
     "language": "python",
     "metadata": {},
     "outputs": [],
     "prompt_number": 2
    },
    {
     "cell_type": "code",
     "collapsed": false,
     "input": [
      "# Initialize the city/person bipartite graph.\n",
      "B = nx.Graph()\n",
      "\n",
      "cities = ['Beijing', \"Xi'an\", 'Vancouver', 'San Francisco', 'Austin', 'Boston'] # populate a list of cities\n",
      "people = ['Eric', 'Nan'] # populate a list of people's names \n",
      "\n",
      "B.add_nodes_from(cities, bipartite='cities')\n",
      "B.add_nodes_from(people, bipartite='people')\n",
      "\n",
      "edges = [(\"Eric\", \"Vancouver\"), (\"Nan\", \"Xi'an\"), (\"Eric\", \"San Francisco\"), (\"Nan\", 'Boston'), (\"Eric\", 'Boston'), (\"Nan\", 'Beijing')] # populate a list of 2-tuples, which are the edges. Each 2-tuple should join one city with one person. \n",
      "B.add_edges_from(edges)"
     ],
     "language": "python",
     "metadata": {},
     "outputs": [],
     "prompt_number": 3
    },
    {
     "cell_type": "markdown",
     "metadata": {},
     "source": [
      "Explore the graph by going through the following algorithms"
     ]
    },
    {
     "cell_type": "code",
     "collapsed": false,
     "input": [
      "# Betweenness Centrality\n",
      "bipartite.betweenness_centrality(B, cities)"
     ],
     "language": "python",
     "metadata": {},
     "outputs": [
      {
       "metadata": {},
       "output_type": "pyout",
       "prompt_number": 7,
       "text": [
        "{'Eric': 0.45,\n",
        " 'Austin': 0.0,\n",
        " 'Boston': 0.75,\n",
        " 'Nan': 0.45,\n",
        " 'San Francisco': 0.0,\n",
        " \"Xi'an\": 0.0,\n",
        " 'Beijing': 0.0,\n",
        " 'Vancouver': 0.0}"
       ]
      }
     ],
     "prompt_number": 7
    },
    {
     "cell_type": "code",
     "collapsed": false,
     "input": [
      "# Degree Centrality\n",
      "bipartite.degree_centrality(B, cities)"
     ],
     "language": "python",
     "metadata": {},
     "outputs": [
      {
       "metadata": {},
       "output_type": "pyout",
       "prompt_number": 8,
       "text": [
        "{'San Francisco': 0.5,\n",
        " 'Eric': 0.5,\n",
        " 'Boston': 1.0,\n",
        " 'Nan': 0.5,\n",
        " 'Austin': 0.0,\n",
        " \"Xi'an\": 0.5,\n",
        " 'Beijing': 0.5,\n",
        " 'Vancouver': 0.5}"
       ]
      }
     ],
     "prompt_number": 8
    },
    {
     "cell_type": "markdown",
     "metadata": {},
     "source": [
      "**Think about it...**\n",
      "\n",
      "Which metric is the better indicator of city popularity? How about how well-travelled an individual is?"
     ]
    },
    {
     "cell_type": "markdown",
     "metadata": {},
     "source": [
      "## Projection to a uni-partite graph\n",
      "\n",
      "A bipartite graph can be projected down to a unipartite graph. The projection joins nodes of the same partition, based on their connections to nodes in the other partition. For example, if A is joined to 1 and B is joined to 1, then A and B will be joined in the uni-partite graph projection."
     ]
    },
    {
     "cell_type": "markdown",
     "metadata": {},
     "source": [
      "### Exercise\n",
      "\n",
      "Use the `bipartite.projected_graph(G, nodes)` function to construct the 'people' uni-partite projection.\n",
      "\n",
      "Hint: `bipartite.projected_graph(G, nodes)` returns a NetworkX Graph or MultiGraph (with multiple edges between nodes). "
     ]
    },
    {
     "cell_type": "code",
     "collapsed": false,
     "input": [
      "bipartite.projected_graph(B, people).edges()"
     ],
     "language": "python",
     "metadata": {},
     "outputs": [
      {
       "metadata": {},
       "output_type": "pyout",
       "prompt_number": 14,
       "text": [
        "[('Nan', 'Eric')]"
       ]
      }
     ],
     "prompt_number": 14
    },
    {
     "cell_type": "markdown",
     "metadata": {},
     "source": [
      "Cities connect people in unique ways. :) In the graph, those who you are connected to are people you can talk with about cities you've been to before, and hopefully it'll kick off some networking.\n",
      "\n",
      "**Think about it...**\n",
      "\n",
      "How would you construct a bipartite graph for the Divvy bike sharing data set?\n",
      "\n",
      "### Exercise\n",
      "\n",
      "Give it a shot below."
     ]
    },
    {
     "cell_type": "code",
     "collapsed": false,
     "input": [],
     "language": "python",
     "metadata": {},
     "outputs": []
    }
   ],
   "metadata": {}
  }
 ]
}